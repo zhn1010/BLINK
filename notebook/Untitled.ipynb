{
 "cells": [
  {
   "cell_type": "code",
   "execution_count": 1,
   "id": "92613237",
   "metadata": {},
   "outputs": [],
   "source": [
    "import blink.main_dense as main_dense"
   ]
  },
  {
   "cell_type": "code",
   "execution_count": 2,
   "id": "ad6721c6",
   "metadata": {},
   "outputs": [],
   "source": [
    "import os, json, glob2, pickle"
   ]
  },
  {
   "cell_type": "code",
   "execution_count": 3,
   "id": "6b8d0cfb",
   "metadata": {},
   "outputs": [],
   "source": [
    "from tqdm import tqdm "
   ]
  },
  {
   "cell_type": "code",
   "execution_count": 4,
   "id": "3b3eb048",
   "metadata": {},
   "outputs": [],
   "source": [
    "import blink.main_dense as main_dense\n",
    "import argparse\n",
    "\n",
    "models_path = \"/mnt/BIG-HDD-STORAGE/ebi/arxiv/processed/Models/models/\" # the path where you stored the BLINK models\n",
    "\n",
    "config = {\n",
    "    \"test_entities\": None,\n",
    "    \"test_mentions\": None,\n",
    "    \"interactive\": False,\n",
    "    \"top_k\": 5,\n",
    "    \"biencoder_model\": models_path+\"biencoder_wiki_large.bin\",\n",
    "    \"biencoder_config\": models_path+\"biencoder_wiki_large.json\",\n",
    "    \"entity_catalogue\": models_path+\"entity.jsonl\",\n",
    "    \"entity_encoding\": models_path+\"all_entities_large.t7\",\n",
    "    \"crossencoder_model\": models_path+\"crossencoder_wiki_large.bin\",\n",
    "    \"crossencoder_config\": models_path+\"crossencoder_wiki_large.json\",\n",
    "    \"fast\": False, # set this to be true if speed is a concern\n",
    "    \"output_path\": \"logs/\", # logging directory\n",
    "    \"faiss_index\": \"hnsw\",\n",
    "    \"index_path\": models_path+\"faiss_hnsw_index.pkl\"\n",
    "}\n",
    "\n",
    "args = argparse.Namespace(**config)\n",
    "\n",
    "models = main_dense.load_models(args, logger=None)"
   ]
  },
  {
   "cell_type": "code",
   "execution_count": 5,
   "id": "3bcbedf0",
   "metadata": {},
   "outputs": [],
   "source": [
    "base_dir = \"/mnt/BIG-HDD-STORAGE/ebi/arxiv/processed\"\n",
    "triples_dir = f\"{base_dir}/triples\""
   ]
  },
  {
   "cell_type": "code",
   "execution_count": 6,
   "id": "17857e8e",
   "metadata": {},
   "outputs": [],
   "source": [
    "def prepare_data_to_link(triple_file_dict, filename):\n",
    "    data_to_link = []\n",
    "    for sub_section in triple_file_dict:\n",
    "        if \"entities_info\" in sub_section:\n",
    "            for entity_info in sub_section[\"entities_info\"]:\n",
    "                if entity_info[\"type\"] not in [\"Reference\", \"Code\", \"Number\", \"Ost\", \"Feature\"]:\n",
    "                    bounds = sorted(entity_info['bounds'], key=lambda item: item[1] - item[0] ,reverse=True)\n",
    "                    bound = bounds[0]\n",
    "                    data_to_link.append({\n",
    "                        'id': f'{filename}-{entity_info[\"key\"]}',\n",
    "                        'label': 'unknown',\n",
    "                        'label_id': -1,\n",
    "                        'context_left': ' '.join(sub_section[\"tokens\"][:bound[0]]).lower(),\n",
    "                        'mention': ' '.join(sub_section[\"tokens\"][bound[0]:bound[1]]).lower(),\n",
    "                        'context_right': ' '.join(sub_section[\"tokens\"][bound[1]:]).lower(),\n",
    "                    })\n",
    "    _, _, _, _, _, predictions, scores, = main_dense.run(args, None, *models, test_data=data_to_link)\n",
    "    for dtl, prediction, score in zip(data_to_link, predictions, scores):\n",
    "        if(score[0] > 0):\n",
    "            print(dtl['mention'], prediction[0], score[0])"
   ]
  },
  {
   "cell_type": "code",
   "execution_count": 7,
   "id": "05736b79",
   "metadata": {},
   "outputs": [],
   "source": [
    "import time"
   ]
  },
  {
   "cell_type": "code",
   "execution_count": 9,
   "id": "f304c018",
   "metadata": {},
   "outputs": [
    {
     "name": "stderr",
     "output_type": "stream",
     "text": [
      "  0%|                                                                                                            | 0/211241 [00:00<?, ?it/s]\n",
      "  0%|                                                                                                                 | 0/9 [00:00<?, ?it/s]\u001b[A\n",
      " 22%|███████████████████████▎                                                                                 | 2/9 [00:00<00:00, 11.22it/s]\u001b[A\n",
      " 44%|██████████████████████████████████████████████▋                                                          | 4/9 [00:00<00:00, 11.18it/s]\u001b[A\n",
      " 67%|██████████████████████████████████████████████████████████████████████                                   | 6/9 [00:00<00:00, 11.50it/s]\u001b[A\n",
      "100%|█████████████████████████████████████████████████████████████████████████████████████████████████████████| 9/9 [00:00<00:00, 11.90it/s]\u001b[A\n",
      "\n",
      "  0%|                                                                                                                | 0/65 [00:00<?, ?it/s]\u001b[A\n",
      " 38%|███████████████████████████████████████▏                                                              | 25/65 [00:00<00:00, 243.56it/s]\u001b[A\n",
      "100%|██████████████████████████████████████████████████████████████████████████████████████████████████████| 65/65 [00:00<00:00, 233.32it/s]\u001b[A"
     ]
    },
    {
     "name": "stdout",
     "output_type": "stream",
     "text": [
      "1/65 \r"
     ]
    },
    {
     "name": "stderr",
     "output_type": "stream",
     "text": [
      "\n"
     ]
    },
    {
     "name": "stdout",
     "output_type": "stream",
     "text": [
      "65/65 \r"
     ]
    },
    {
     "name": "stderr",
     "output_type": "stream",
     "text": [
      "\n",
      "Evaluation:   0%|                                                                                                    | 0/65 [00:00<?, ?it/s]\u001b[A\n",
      "Evaluation:   3%|██▊                                                                                         | 2/65 [00:00<00:05, 10.62it/s]\u001b[A\n",
      "Evaluation:   6%|█████▋                                                                                      | 4/65 [00:00<00:05, 10.57it/s]\u001b[A\n",
      "Evaluation:   9%|████████▍                                                                                   | 6/65 [00:00<00:05, 10.54it/s]\u001b[A\n",
      "Evaluation:  12%|███████████▎                                                                                | 8/65 [00:00<00:05, 10.32it/s]\u001b[A\n",
      "Evaluation:  15%|██████████████                                                                             | 10/65 [00:00<00:05, 10.39it/s]\u001b[A\n",
      "Evaluation:  18%|████████████████▊                                                                          | 12/65 [00:01<00:05, 10.44it/s]\u001b[A\n",
      "Evaluation:  22%|███████████████████▌                                                                       | 14/65 [00:01<00:04, 10.46it/s]\u001b[A\n",
      "Evaluation:  25%|██████████████████████▍                                                                    | 16/65 [00:01<00:04, 10.48it/s]\u001b[A\n",
      "Evaluation:  28%|█████████████████████████▏                                                                 | 18/65 [00:01<00:04, 10.49it/s]\u001b[A\n",
      "Evaluation:  31%|████████████████████████████                                                               | 20/65 [00:01<00:04, 10.50it/s]\u001b[A\n",
      "Evaluation:  34%|██████████████████████████████▊                                                            | 22/65 [00:02<00:04, 10.49it/s]\u001b[A\n",
      "Evaluation:  37%|█████████████████████████████████▌                                                         | 24/65 [00:02<00:03, 10.50it/s]\u001b[A\n",
      "Evaluation:  40%|████████████████████████████████████▍                                                      | 26/65 [00:02<00:03, 10.50it/s]\u001b[A\n",
      "Evaluation:  43%|███████████████████████████████████████▏                                                   | 28/65 [00:02<00:03, 10.49it/s]\u001b[A\n",
      "Evaluation:  46%|██████████████████████████████████████████                                                 | 30/65 [00:02<00:03, 10.48it/s]\u001b[A\n",
      "Evaluation:  49%|████████████████████████████████████████████▊                                              | 32/65 [00:03<00:03, 10.49it/s]\u001b[A\n",
      "Evaluation:  52%|███████████████████████████████████████████████▌                                           | 34/65 [00:03<00:02, 10.37it/s]\u001b[A\n",
      "Evaluation:  55%|██████████████████████████████████████████████████▍                                        | 36/65 [00:03<00:03,  9.09it/s]\u001b[A\n",
      "Evaluation:  58%|█████████████████████████████████████████████████████▏                                     | 38/65 [00:03<00:02,  9.47it/s]\u001b[A\n",
      "Evaluation:  62%|████████████████████████████████████████████████████████                                   | 40/65 [00:03<00:02,  9.77it/s]\u001b[A\n",
      "Evaluation:  65%|██████████████████████████████████████████████████████████▊                                | 42/65 [00:04<00:02,  9.98it/s]\u001b[A\n",
      "Evaluation:  68%|█████████████████████████████████████████████████████████████▌                             | 44/65 [00:04<00:02, 10.14it/s]\u001b[A\n",
      "Evaluation:  71%|████████████████████████████████████████████████████████████████▍                          | 46/65 [00:04<00:01, 10.25it/s]\u001b[A\n",
      "Evaluation:  74%|███████████████████████████████████████████████████████████████████▏                       | 48/65 [00:04<00:01, 10.32it/s]\u001b[A\n",
      "Evaluation:  77%|██████████████████████████████████████████████████████████████████████                     | 50/65 [00:04<00:01, 10.32it/s]\u001b[A\n",
      "Evaluation:  80%|████████████████████████████████████████████████████████████████████████▊                  | 52/65 [00:05<00:01, 10.38it/s]\u001b[A\n",
      "Evaluation:  83%|███████████████████████████████████████████████████████████████████████████▌               | 54/65 [00:05<00:01,  9.24it/s]\u001b[A\n",
      "Evaluation:  86%|██████████████████████████████████████████████████████████████████████████████▍            | 56/65 [00:05<00:00,  9.55it/s]\u001b[A\n",
      "Evaluation:  89%|█████████████████████████████████████████████████████████████████████████████████▏         | 58/65 [00:05<00:00,  9.83it/s]\u001b[A\n",
      "Evaluation:  92%|████████████████████████████████████████████████████████████████████████████████████       | 60/65 [00:05<00:00, 10.02it/s]\u001b[A\n",
      "Evaluation:  95%|██████████████████████████████████████████████████████████████████████████████████████▊    | 62/65 [00:06<00:00, 10.17it/s]\u001b[A\n",
      "Evaluation: 100%|███████████████████████████████████████████████████████████████████████████████████████████| 65/65 [00:06<00:00, 10.18it/s]\u001b[A\n",
      "  0%|                                                                                                | 1/211241 [00:11<646:39:14, 11.02s/it]"
     ]
    },
    {
     "name": "stdout",
     "output_type": "stream",
     "text": [
      "thompson sampling Thompson sampling 12.384498\n",
      "recommender systems Recommender system 10.227101\n",
      "multi - armed bandits Multi-armed bandit 5.422364\n",
      "amazon marketplace Amazon Marketplace 11.996152\n",
      "restaurants Restaurant 11.597531\n",
      "digital economy Digital economy 8.752863\n",
      "recommender systems Recommender system 8.897625\n",
      "search engines Search engine (computing) 3.2318892\n",
      "online advertising Online advertising 10.1705885\n",
      "service quality Service quality 10.724719\n",
      "yelp Yelp 10.2075405\n",
      "regret Regret 0.62473506\n",
      "recommender systems Recommender system 10.332027\n",
      "auctions Auction 8.028332\n"
     ]
    },
    {
     "name": "stderr",
     "output_type": "stream",
     "text": [
      "\n",
      "  0%|                                                                                                                 | 0/7 [00:00<?, ?it/s]\u001b[A\n",
      " 29%|██████████████████████████████                                                                           | 2/7 [00:00<00:00, 11.96it/s]\u001b[A\n",
      " 57%|████████████████████████████████████████████████████████████                                             | 4/7 [00:00<00:00, 11.96it/s]\u001b[A\n",
      "100%|█████████████████████████████████████████████████████████████████████████████████████████████████████████| 7/7 [00:00<00:00, 11.73it/s]\u001b[A\n",
      "\n",
      "  0%|                                                                                                                | 0/56 [00:00<?, ?it/s]\u001b[A\n",
      "100%|██████████████████████████████████████████████████████████████████████████████████████████████████████| 56/56 [00:00<00:00, 281.23it/s]\u001b[A"
     ]
    },
    {
     "name": "stdout",
     "output_type": "stream",
     "text": [
      "7/56 \r"
     ]
    },
    {
     "name": "stderr",
     "output_type": "stream",
     "text": [
      "\n"
     ]
    },
    {
     "name": "stdout",
     "output_type": "stream",
     "text": [
      "56/56 \r"
     ]
    },
    {
     "name": "stderr",
     "output_type": "stream",
     "text": [
      "\n",
      "Evaluation:   0%|                                                                                                    | 0/56 [00:00<?, ?it/s]\u001b[A\n",
      "Evaluation:   2%|█▋                                                                                          | 1/56 [00:00<00:09,  5.98it/s]\u001b[A\n",
      "Evaluation:   4%|███▎                                                                                        | 2/56 [00:00<00:07,  7.69it/s]\u001b[A\n",
      "Evaluation:   7%|██████▌                                                                                     | 4/56 [00:00<00:05,  9.24it/s]\u001b[A\n",
      "Evaluation:  11%|█████████▊                                                                                  | 6/56 [00:00<00:05,  9.80it/s]\u001b[A\n",
      "Evaluation:  14%|█████████████▏                                                                              | 8/56 [00:00<00:04, 10.06it/s]\u001b[A\n",
      "Evaluation:  18%|████████████████▎                                                                          | 10/56 [00:01<00:04, 10.22it/s]\u001b[A\n",
      "Evaluation:  21%|███████████████████▌                                                                       | 12/56 [00:01<00:04, 10.31it/s]\u001b[A\n",
      "Evaluation:  25%|██████████████████████▊                                                                    | 14/56 [00:01<00:04, 10.38it/s]\u001b[A\n",
      "Evaluation:  29%|██████████████████████████                                                                 | 16/56 [00:01<00:03, 10.27it/s]\u001b[A\n",
      "Evaluation:  32%|█████████████████████████████▎                                                             | 18/56 [00:01<00:03, 10.33it/s]\u001b[A\n",
      "Evaluation:  36%|████████████████████████████████▌                                                          | 20/56 [00:01<00:03, 10.36it/s]\u001b[A\n",
      "Evaluation:  39%|███████████████████████████████████▊                                                       | 22/56 [00:02<00:03, 10.40it/s]\u001b[A\n",
      "Evaluation:  43%|███████████████████████████████████████                                                    | 24/56 [00:02<00:03,  9.11it/s]\u001b[A\n",
      "Evaluation:  46%|██████████████████████████████████████████▎                                                | 26/56 [00:02<00:03,  9.49it/s]\u001b[A\n",
      "Evaluation:  50%|█████████████████████████████████████████████▌                                             | 28/56 [00:02<00:02,  9.77it/s]\u001b[A\n",
      "Evaluation:  54%|████████████████████████████████████████████████▊                                          | 30/56 [00:03<00:02,  9.98it/s]\u001b[A\n",
      "Evaluation:  57%|████████████████████████████████████████████████████                                       | 32/56 [00:03<00:02, 10.13it/s]\u001b[A\n",
      "Evaluation:  61%|███████████████████████████████████████████████████████▏                                   | 34/56 [00:03<00:02, 10.23it/s]\u001b[A\n",
      "Evaluation:  64%|██████████████████████████████████████████████████████████▌                                | 36/56 [00:03<00:02,  9.08it/s]\u001b[A\n",
      "Evaluation:  68%|█████████████████████████████████████████████████████████████▊                             | 38/56 [00:03<00:01,  9.47it/s]\u001b[A\n",
      "Evaluation:  71%|█████████████████████████████████████████████████████████████████                          | 40/56 [00:04<00:01,  9.76it/s]\u001b[A\n",
      "Evaluation:  75%|████████████████████████████████████████████████████████████████████▎                      | 42/56 [00:04<00:01,  9.97it/s]\u001b[A\n",
      "Evaluation:  79%|███████████████████████████████████████████████████████████████████████▌                   | 44/56 [00:04<00:01, 10.11it/s]\u001b[A\n",
      "Evaluation:  82%|██████████████████████████████████████████████████████████████████████████▊                | 46/56 [00:04<00:00, 10.22it/s]\u001b[A\n",
      "Evaluation:  86%|██████████████████████████████████████████████████████████████████████████████             | 48/56 [00:04<00:00, 10.29it/s]\u001b[A\n",
      "Evaluation:  89%|█████████████████████████████████████████████████████████████████████████████████▎         | 50/56 [00:05<00:00, 10.35it/s]\u001b[A\n",
      "Evaluation:  93%|████████████████████████████████████████████████████████████████████████████████████▌      | 52/56 [00:05<00:00, 10.38it/s]\u001b[A\n",
      "Evaluation:  96%|███████████████████████████████████████████████████████████████████████████████████████▊   | 54/56 [00:05<00:00,  9.49it/s]\u001b[A\n",
      "Evaluation: 100%|███████████████████████████████████████████████████████████████████████████████████████████| 56/56 [00:05<00:00,  9.87it/s]\u001b[A\n",
      "  0%|                                                                                                | 2/211241 [00:20<603:11:49, 10.28s/it]"
     ]
    },
    {
     "name": "stdout",
     "output_type": "stream",
     "text": [
      "topic models Topic model 9.025267\n",
      "topic modeling Topic model 10.906912\n",
      "topic models Topic model 7.632183\n",
      "probabilistic topic modeling Topic model 0.18182199\n",
      "latent dirichlet allocation Latent Dirichlet allocation 12.786819\n",
      "lda Latent Dirichlet allocation 7.0686746\n",
      "topic models Topic model 8.927494\n",
      "language model Language model 6.227929\n",
      "topic models Topic model 5.9656577\n",
      "lda Latent Dirichlet allocation 8.0001\n",
      "effectiveness Effectiveness 6.329025\n",
      "document clustering Document clustering 9.714382\n",
      "document classification Document classification 10.516239\n",
      "language model Language model 6.227929\n",
      "maximum likelihood estimation Maximum likelihood estimation 12.409466\n",
      "topic model Topic model 10.243451\n",
      "lda Latent Dirichlet allocation 8.275254\n",
      "topic models Topic model 10.324279\n",
      "performance Performance 1.6294972\n",
      "topic models Topic model 8.760435\n",
      "classification Statistical classification 2.747726\n",
      "topic model Topic model 10.643974\n",
      "lda Latent Dirichlet allocation 8.995737\n"
     ]
    },
    {
     "name": "stderr",
     "output_type": "stream",
     "text": [
      "\n",
      "  0%|                                                                                                                 | 0/7 [00:00<?, ?it/s]\u001b[A\n",
      " 29%|██████████████████████████████                                                                           | 2/7 [00:00<00:00, 10.53it/s]\u001b[A\n",
      " 57%|████████████████████████████████████████████████████████████                                             | 4/7 [00:00<00:00, 10.97it/s]\u001b[A\n",
      "100%|█████████████████████████████████████████████████████████████████████████████████████████████████████████| 7/7 [00:00<00:00, 11.57it/s]\u001b[A\n",
      "\n",
      "  0%|                                                                                                                | 0/51 [00:00<?, ?it/s]\u001b[A\n",
      " 45%|██████████████████████████████████████████████                                                        | 23/51 [00:00<00:00, 229.15it/s]\u001b[A\n",
      "100%|██████████████████████████████████████████████████████████████████████████████████████████████████████| 51/51 [00:00<00:00, 224.89it/s]\u001b[A"
     ]
    },
    {
     "name": "stdout",
     "output_type": "stream",
     "text": [
      "4/51 \r"
     ]
    },
    {
     "name": "stderr",
     "output_type": "stream",
     "text": [
      "\n"
     ]
    },
    {
     "name": "stdout",
     "output_type": "stream",
     "text": [
      "51/51 \r"
     ]
    },
    {
     "name": "stderr",
     "output_type": "stream",
     "text": [
      "\n",
      "Evaluation:   0%|                                                                                                    | 0/51 [00:00<?, ?it/s]\u001b[A\n",
      "Evaluation:   4%|███▌                                                                                        | 2/51 [00:00<00:04, 10.58it/s]\u001b[A\n",
      "Evaluation:   8%|███████▏                                                                                    | 4/51 [00:00<00:04, 10.53it/s]\u001b[A\n",
      "Evaluation:  12%|██████████▊                                                                                 | 6/51 [00:00<00:04, 10.49it/s]\u001b[A\n",
      "Evaluation:  16%|██████████████▍                                                                             | 8/51 [00:00<00:04, 10.35it/s]\u001b[A\n",
      "Evaluation:  20%|█████████████████▊                                                                         | 10/51 [00:00<00:03, 10.40it/s]\u001b[A\n",
      "Evaluation:  24%|█████████████████████▍                                                                     | 12/51 [00:01<00:03, 10.42it/s]\u001b[A\n",
      "Evaluation:  27%|████████████████████████▉                                                                  | 14/51 [00:01<00:03, 10.45it/s]\u001b[A\n",
      "Evaluation:  31%|████████████████████████████▌                                                              | 16/51 [00:01<00:03, 10.46it/s]\u001b[A\n",
      "Evaluation:  35%|████████████████████████████████                                                           | 18/51 [00:01<00:03, 10.46it/s]\u001b[A\n",
      "Evaluation:  39%|███████████████████████████████████▋                                                       | 20/51 [00:01<00:02, 10.48it/s]\u001b[A\n",
      "Evaluation:  43%|███████████████████████████████████████▎                                                   | 22/51 [00:02<00:02, 10.30it/s]\u001b[A\n",
      "Evaluation:  47%|██████████████████████████████████████████▊                                                | 24/51 [00:02<00:02, 10.35it/s]\u001b[A\n",
      "Evaluation:  51%|██████████████████████████████████████████████▍                                            | 26/51 [00:02<00:02, 10.37it/s]\u001b[A\n",
      "Evaluation:  55%|█████████████████████████████████████████████████▉                                         | 28/51 [00:02<00:02, 10.40it/s]\u001b[A\n",
      "Evaluation:  59%|█████████████████████████████████████████████████████▌                                     | 30/51 [00:02<00:02, 10.41it/s]\u001b[A\n",
      "Evaluation:  63%|█████████████████████████████████████████████████████████                                  | 32/51 [00:03<00:01, 10.44it/s]\u001b[A\n",
      "Evaluation:  67%|████████████████████████████████████████████████████████████▋                              | 34/51 [00:03<00:01, 10.33it/s]\u001b[A\n",
      "Evaluation:  71%|████████████████████████████████████████████████████████████████▏                          | 36/51 [00:03<00:01, 10.34it/s]\u001b[A\n",
      "Evaluation:  75%|███████████████████████████████████████████████████████████████████▊                       | 38/51 [00:03<00:01,  9.24it/s]\u001b[A\n",
      "Evaluation:  78%|███████████████████████████████████████████████████████████████████████▎                   | 40/51 [00:03<00:01,  9.58it/s]\u001b[A\n",
      "Evaluation:  82%|██████████████████████████████████████████████████████████████████████████▉                | 42/51 [00:04<00:00,  9.82it/s]\u001b[A\n",
      "Evaluation:  86%|██████████████████████████████████████████████████████████████████████████████▌            | 44/51 [00:04<00:00, 10.01it/s]\u001b[A\n",
      "Evaluation:  90%|██████████████████████████████████████████████████████████████████████████████████         | 46/51 [00:04<00:00, 10.16it/s]\u001b[A\n",
      "Evaluation:  94%|█████████████████████████████████████████████████████████████████████████████████████▋     | 48/51 [00:04<00:00, 10.27it/s]\u001b[A\n",
      "Evaluation: 100%|███████████████████████████████████████████████████████████████████████████████████████████| 51/51 [00:04<00:00, 10.26it/s]\u001b[A\n",
      "  0%|                                                                                                | 3/211241 [00:29<571:57:15,  9.75s/it]"
     ]
    },
    {
     "name": "stdout",
     "output_type": "stream",
     "text": [
      "deep learning methods Deep learning 9.269905\n",
      "gender Gender 8.88921\n",
      "computer vision Computer vision 10.859504\n",
      "robotics Robotics 10.226125\n",
      "pose Pose (computer vision) 1.0843717\n",
      "gender Gender 9.541416\n",
      "navigation Navigation 7.1166205\n",
      "robotics Robotics 9.051631\n",
      "person analysis Person Analysis 7.3141546\n",
      "robotics Robotics 10.5702095\n",
      "computer vision Computer vision 10.417419\n",
      "nearest - neighbor methods Nearest-neighbor interpolation 1.0099545\n",
      "tracking system Tracking system 7.408725\n",
      "gesture recognition Gesture recognition 8.795975\n",
      "person analysis Person Analysis 7.3141546\n",
      "deep learning based methods Deep learning 3.7922971\n",
      "quality Video quality 0.6920497\n"
     ]
    },
    {
     "name": "stderr",
     "output_type": "stream",
     "text": [
      "\n",
      "  0%|                                                                                                                 | 0/6 [00:00<?, ?it/s]\u001b[A\n",
      " 33%|███████████████████████████████████                                                                      | 2/6 [00:00<00:00, 10.98it/s]\u001b[A\n",
      " 67%|██████████████████████████████████████████████████████████████████████                                   | 4/6 [00:00<00:00, 10.70it/s]\u001b[A\n",
      "100%|█████████████████████████████████████████████████████████████████████████████████████████████████████████| 6/6 [00:00<00:00, 10.94it/s]\u001b[A\n",
      "\n",
      "  0%|                                                                                                                | 0/47 [00:00<?, ?it/s]\u001b[A\n",
      " 49%|█████████████████████████████████████████████████▉                                                    | 23/47 [00:00<00:00, 229.86it/s]\u001b[A\n",
      "100%|██████████████████████████████████████████████████████████████████████████████████████████████████████| 47/47 [00:00<00:00, 227.68it/s]\u001b[A"
     ]
    },
    {
     "name": "stdout",
     "output_type": "stream",
     "text": [
      "6/47 \r"
     ]
    },
    {
     "name": "stderr",
     "output_type": "stream",
     "text": [
      "\n"
     ]
    },
    {
     "name": "stdout",
     "output_type": "stream",
     "text": [
      "47/47 \r"
     ]
    },
    {
     "name": "stderr",
     "output_type": "stream",
     "text": [
      "\n",
      "Evaluation:   0%|                                                                                                    | 0/47 [00:00<?, ?it/s]\u001b[A\n",
      "Evaluation:   4%|███▉                                                                                        | 2/47 [00:00<00:06,  7.08it/s]\u001b[A\n",
      "Evaluation:   9%|███████▊                                                                                    | 4/47 [00:00<00:04,  8.72it/s]\u001b[A\n",
      "Evaluation:  13%|███████████▋                                                                                | 6/47 [00:00<00:04,  9.42it/s]\u001b[A\n",
      "Evaluation:  15%|█████████████▋                                                                              | 7/47 [00:00<00:04,  9.50it/s]\u001b[A\n",
      "Evaluation:  17%|███████████████▋                                                                            | 8/47 [00:00<00:04,  7.99it/s]\u001b[A\n",
      "Evaluation:  21%|███████████████████▎                                                                       | 10/47 [00:01<00:04,  8.88it/s]\u001b[A\n",
      "Evaluation:  26%|███████████████████████▏                                                                   | 12/47 [00:01<00:03,  9.43it/s]\u001b[A\n",
      "Evaluation:  30%|███████████████████████████                                                                | 14/47 [00:01<00:03,  9.76it/s]\u001b[A\n",
      "Evaluation:  34%|██████████████████████████████▉                                                            | 16/47 [00:01<00:03,  9.99it/s]\u001b[A\n",
      "Evaluation:  38%|██████████████████████████████████▊                                                        | 18/47 [00:01<00:02, 10.14it/s]\u001b[A\n",
      "Evaluation:  43%|██████████████████████████████████████▋                                                    | 20/47 [00:02<00:02, 10.25it/s]\u001b[A\n",
      "Evaluation:  47%|██████████████████████████████████████████▌                                                | 22/47 [00:02<00:02, 10.29it/s]\u001b[A\n",
      "Evaluation:  51%|██████████████████████████████████████████████▍                                            | 24/47 [00:02<00:02, 10.33it/s]\u001b[A\n",
      "Evaluation:  55%|██████████████████████████████████████████████████▎                                        | 26/47 [00:02<00:02,  9.25it/s]\u001b[A\n",
      "Evaluation:  60%|██████████████████████████████████████████████████████▏                                    | 28/47 [00:02<00:01,  9.60it/s]\u001b[A\n",
      "Evaluation:  64%|██████████████████████████████████████████████████████████                                 | 30/47 [00:03<00:01,  9.84it/s]\u001b[A\n",
      "Evaluation:  68%|█████████████████████████████████████████████████████████████▉                             | 32/47 [00:03<00:01, 10.00it/s]\u001b[A\n",
      "Evaluation:  72%|█████████████████████████████████████████████████████████████████▊                         | 34/47 [00:03<00:01, 10.00it/s]\u001b[A\n",
      "Evaluation:  77%|█████████████████████████████████████████████████████████████████████▋                     | 36/47 [00:03<00:01, 10.15it/s]\u001b[A\n",
      "Evaluation:  81%|█████████████████████████████████████████████████████████████████████████▌                 | 38/47 [00:03<00:00, 10.24it/s]\u001b[A\n",
      "Evaluation:  85%|█████████████████████████████████████████████████████████████████████████████▍             | 40/47 [00:04<00:00, 10.27it/s]\u001b[A\n",
      "Evaluation:  89%|█████████████████████████████████████████████████████████████████████████████████▎         | 42/47 [00:04<00:00, 10.30it/s]\u001b[A\n",
      "Evaluation:  94%|█████████████████████████████████████████████████████████████████████████████████████▏     | 44/47 [00:04<00:00, 10.34it/s]\u001b[A\n",
      "Evaluation: 100%|███████████████████████████████████████████████████████████████████████████████████████████| 47/47 [00:04<00:00,  9.85it/s]\u001b[A\n",
      "  0%|                                                                                                | 4/211241 [00:38<545:19:58,  9.29s/it]"
     ]
    },
    {
     "name": "stdout",
     "output_type": "stream",
     "text": [
      "deep learning Deep learning 12.044806\n",
      "generative adversarial networks Generative adversarial network 11.292824\n",
      "magnet Magnet 1.5184639\n",
      "autoencoders Autoencoder 12.350384\n",
      "generative model Generative model 9.882442\n",
      "generative models Generative model 7.5744843\n",
      "gan Generative adversarial network 4.7234263\n",
      "magnet Magnet 1.3955297\n",
      "object detection Object detection 9.762647\n",
      "magnet Magnet 1.3955297\n",
      "face identification Face ID 2.0325236\n",
      "autonomous - driving Self-driving car 1.7410997\n"
     ]
    },
    {
     "name": "stderr",
     "output_type": "stream",
     "text": [
      "\n",
      "  0%|                                                                                                                 | 0/7 [00:00<?, ?it/s]\u001b[A\n",
      " 29%|██████████████████████████████                                                                           | 2/7 [00:00<00:00, 11.00it/s]\u001b[A\n",
      " 57%|████████████████████████████████████████████████████████████                                             | 4/7 [00:00<00:00, 11.80it/s]\u001b[A\n",
      "100%|█████████████████████████████████████████████████████████████████████████████████████████████████████████| 7/7 [00:00<00:00, 10.95it/s]\u001b[A\n",
      "\n",
      "  0%|                                                                                                                | 0/50 [00:00<?, ?it/s]\u001b[A\n",
      " 48%|████████████████████████████████████████████████▉                                                     | 24/50 [00:00<00:00, 232.18it/s]\u001b[A\n",
      "100%|██████████████████████████████████████████████████████████████████████████████████████████████████████| 50/50 [00:00<00:00, 232.48it/s]\u001b[A"
     ]
    },
    {
     "name": "stdout",
     "output_type": "stream",
     "text": [
      "5/50 \r"
     ]
    },
    {
     "name": "stderr",
     "output_type": "stream",
     "text": [
      "\n"
     ]
    },
    {
     "name": "stdout",
     "output_type": "stream",
     "text": [
      "50/50 \r"
     ]
    },
    {
     "name": "stderr",
     "output_type": "stream",
     "text": [
      "\n",
      "Evaluation:   0%|                                                                                                    | 0/50 [00:00<?, ?it/s]\u001b[A\n",
      "Evaluation:   4%|███▋                                                                                        | 2/50 [00:00<00:04, 10.56it/s]\u001b[A\n",
      "Evaluation:   8%|███████▎                                                                                    | 4/50 [00:00<00:04, 10.50it/s]\u001b[A\n",
      "Evaluation:  12%|███████████                                                                                 | 6/50 [00:00<00:04, 10.50it/s]\u001b[A\n",
      "Evaluation:  16%|██████████████▋                                                                             | 8/50 [00:00<00:04, 10.28it/s]\u001b[A\n",
      "Evaluation:  20%|██████████████████▏                                                                        | 10/50 [00:00<00:03, 10.35it/s]\u001b[A\n",
      "Evaluation:  24%|█████████████████████▊                                                                     | 12/50 [00:01<00:03, 10.38it/s]\u001b[A\n",
      "Evaluation:  28%|█████████████████████████▍                                                                 | 14/50 [00:01<00:03, 10.42it/s]\u001b[A\n",
      "Evaluation:  32%|█████████████████████████████                                                              | 16/50 [00:01<00:03, 10.45it/s]\u001b[A\n",
      "Evaluation:  36%|████████████████████████████████▊                                                          | 18/50 [00:01<00:03, 10.47it/s]\u001b[A\n",
      "Evaluation:  40%|████████████████████████████████████▍                                                      | 20/50 [00:01<00:02, 10.48it/s]\u001b[A\n",
      "Evaluation:  44%|████████████████████████████████████████                                                   | 22/50 [00:02<00:02, 10.35it/s]\u001b[A\n",
      "Evaluation:  48%|███████████████████████████████████████████▋                                               | 24/50 [00:02<00:02, 10.39it/s]\u001b[A\n",
      "Evaluation:  52%|███████████████████████████████████████████████▎                                           | 26/50 [00:02<00:02, 10.41it/s]\u001b[A\n",
      "Evaluation:  56%|██████████████████████████████████████████████████▉                                        | 28/50 [00:02<00:02, 10.43it/s]\u001b[A\n",
      "Evaluation:  60%|██████████████████████████████████████████████████████▌                                    | 30/50 [00:02<00:01, 10.44it/s]\u001b[A\n",
      "Evaluation:  64%|██████████████████████████████████████████████████████████▏                                | 32/50 [00:03<00:01, 10.45it/s]\u001b[A\n",
      "Evaluation:  68%|█████████████████████████████████████████████████████████████▉                             | 34/50 [00:03<00:01, 10.46it/s]\u001b[A\n",
      "Evaluation:  72%|█████████████████████████████████████████████████████████████████▌                         | 36/50 [00:03<00:01, 10.34it/s]\u001b[A\n",
      "Evaluation:  76%|█████████████████████████████████████████████████████████████████████▏                     | 38/50 [00:03<00:01, 10.38it/s]\u001b[A\n",
      "Evaluation:  80%|████████████████████████████████████████████████████████████████████████▊                  | 40/50 [00:03<00:00, 10.41it/s]\u001b[A\n",
      "Evaluation:  84%|████████████████████████████████████████████████████████████████████████████▍              | 42/50 [00:04<00:00, 10.43it/s]\u001b[A\n",
      "Evaluation:  88%|████████████████████████████████████████████████████████████████████████████████           | 44/50 [00:04<00:00, 10.44it/s]\u001b[A\n",
      "Evaluation:  92%|███████████████████████████████████████████████████████████████████████████████████▋       | 46/50 [00:04<00:00, 10.43it/s]\u001b[A\n",
      "Evaluation:  96%|███████████████████████████████████████████████████████████████████████████████████████▎   | 48/50 [00:04<00:00, 10.27it/s]\u001b[A\n",
      "Evaluation: 100%|███████████████████████████████████████████████████████████████████████████████████████████| 50/50 [00:04<00:00, 10.39it/s]\u001b[A\n",
      "  0%|                                                                                                | 5/211241 [00:47<538:52:22,  9.18s/it]"
     ]
    },
    {
     "name": "stdout",
     "output_type": "stream",
     "text": [
      "random forest Random forest 9.768847\n",
      "inertial confinement fusion Inertial confinement fusion 12.70672\n",
      "optimal design Optimal design 10.388933\n",
      "velocity Velocity 5.959965\n",
      "computational models Computational model 6.7545495\n",
      "machine learning Machine learning 10.177659\n",
      "machine learning Machine learning 12.223489\n",
      "inertial confinement fusion Inertial confinement fusion 12.724879\n",
      "transfer learning Transfer learning 8.359824\n",
      "surrogate models Surrogate model 11.702748\n",
      "pressures Pressure 4.1104155\n",
      "computer simulations Computer simulation 9.450274\n",
      "national ignition facility National Ignition Facility 12.567915\n",
      "random forest Random forest 7.6177115\n",
      "rf Radio frequency 5.2818794\n",
      "surrogate models Surrogate model 11.702748\n",
      "icf International Classification of Functioning, Disability and Health 3.9610732\n",
      "random forest Random forest 7.36607\n",
      "ale Application Level Events 3.703074\n",
      "rf Radio frequency 5.2818794\n",
      "yield Yield (engineering) 3.3673508\n",
      "machine learning Machine learning 10.895772\n",
      "icf Inertial confinement fusion 1.8757875\n",
      "ml Machine learning 8.936832\n"
     ]
    },
    {
     "name": "stderr",
     "output_type": "stream",
     "text": [
      "\n",
      "  0%|                                                                                                                 | 0/2 [00:00<?, ?it/s]\u001b[A\n",
      "100%|█████████████████████████████████████████████████████████████████████████████████████████████████████████| 2/2 [00:00<00:00, 13.65it/s]\u001b[A\n",
      "\n",
      "100%|██████████████████████████████████████████████████████████████████████████████████████████████████████| 10/10 [00:00<00:00, 247.73it/s]\u001b[A\n"
     ]
    },
    {
     "name": "stdout",
     "output_type": "stream",
     "text": [
      "10/10 \r"
     ]
    },
    {
     "name": "stderr",
     "output_type": "stream",
     "text": [
      "\n",
      "Evaluation:   0%|                                                                                                    | 0/10 [00:00<?, ?it/s]\u001b[A\n",
      "Evaluation:  10%|█████████▏                                                                                  | 1/10 [00:00<00:01,  6.89it/s]\u001b[A\n",
      "Evaluation:  30%|███████████████████████████▌                                                                | 3/10 [00:00<00:00,  9.24it/s]\u001b[A\n",
      "Evaluation:  40%|████████████████████████████████████▊                                                       | 4/10 [00:00<00:00,  9.39it/s]\u001b[A\n",
      "Evaluation:  60%|███████████████████████████████████████████████████████▏                                    | 6/10 [00:00<00:00,  9.93it/s]\u001b[A\n",
      "Evaluation:  80%|█████████████████████████████████████████████████████████████████████████▌                  | 8/10 [00:00<00:00, 10.17it/s]\u001b[A\n",
      "Evaluation: 100%|███████████████████████████████████████████████████████████████████████████████████████████| 10/10 [00:01<00:00,  9.73it/s]\u001b[A\n",
      "  0%|                                                                                                | 6/211241 [00:51<428:58:29,  7.31s/it]"
     ]
    },
    {
     "name": "stdout",
     "output_type": "stream",
     "text": [
      "generative models Generative model 5.455704\n"
     ]
    },
    {
     "name": "stderr",
     "output_type": "stream",
     "text": [
      "\n",
      "  0%|                                                                                                                | 0/14 [00:00<?, ?it/s]\u001b[A\n",
      " 14%|██████████████▊                                                                                         | 2/14 [00:00<00:01, 11.94it/s]\u001b[A\n",
      " 29%|█████████████████████████████▋                                                                          | 4/14 [00:00<00:00, 11.64it/s]\u001b[A\n",
      " 43%|████████████████████████████████████████████▌                                                           | 6/14 [00:00<00:00, 12.19it/s]\u001b[A\n",
      " 57%|███████████████████████████████████████████████████████████▍                                            | 8/14 [00:00<00:00, 11.82it/s]\u001b[A\n",
      " 71%|█████████████████████████████████████████████████████████████████████████▌                             | 10/14 [00:00<00:00, 11.67it/s]\u001b[A\n",
      " 86%|████████████████████████████████████████████████████████████████████████████████████████▎              | 12/14 [00:01<00:00, 11.84it/s]\u001b[A\n",
      "100%|███████████████████████████████████████████████████████████████████████████████████████████████████████| 14/14 [00:01<00:00, 11.80it/s]\u001b[A\n",
      "\n",
      "  0%|                                                                                                               | 0/112 [00:00<?, ?it/s]\u001b[A\n",
      " 21%|████████████████████▋                                                                                | 23/112 [00:00<00:00, 223.37it/s]\u001b[A\n",
      " 41%|█████████████████████████████████████████▍                                                           | 46/112 [00:00<00:00, 224.61it/s]\u001b[A\n",
      " 62%|██████████████████████████████████████████████████████████████▏                                      | 69/112 [00:00<00:00, 215.75it/s]\u001b[A\n",
      "100%|████████████████████████████████████████████████████████████████████████████████████████████████████| 112/112 [00:00<00:00, 219.03it/s]\u001b[A\n"
     ]
    },
    {
     "name": "stdout",
     "output_type": "stream",
     "text": [
      "112/112 \r"
     ]
    },
    {
     "name": "stderr",
     "output_type": "stream",
     "text": [
      "\n",
      "Evaluation:   0%|                                                                                                   | 0/112 [00:00<?, ?it/s]\u001b[A\n",
      "Evaluation:   2%|█▋                                                                                         | 2/112 [00:00<00:10, 10.64it/s]\u001b[A\n",
      "Evaluation:   4%|███▎                                                                                       | 4/112 [00:00<00:12,  8.31it/s]\u001b[A\n",
      "Evaluation:   5%|████▉                                                                                      | 6/112 [00:00<00:11,  9.18it/s]\u001b[A\n",
      "Evaluation:   7%|██████▌                                                                                    | 8/112 [00:00<00:10,  9.67it/s]\u001b[A\n",
      "Evaluation:   9%|████████                                                                                  | 10/112 [00:01<00:10,  9.96it/s]\u001b[A\n",
      "Evaluation:  11%|█████████▋                                                                                | 12/112 [00:01<00:09, 10.14it/s]\u001b[A\n",
      "Evaluation:  12%|███████████▎                                                                              | 14/112 [00:01<00:09, 10.26it/s]\u001b[A\n",
      "Evaluation:  14%|████████████▊                                                                             | 16/112 [00:01<00:10,  8.73it/s]\u001b[A\n",
      "Evaluation:  16%|██████████████▍                                                                           | 18/112 [00:01<00:10,  9.21it/s]\u001b[A\n",
      "Evaluation:  18%|████████████████                                                                          | 20/112 [00:02<00:09,  9.58it/s]\u001b[A\n",
      "Evaluation:  20%|█████████████████▋                                                                        | 22/112 [00:02<00:09,  9.84it/s]\u001b[A\n",
      "Evaluation:  21%|███████████████████▎                                                                      | 24/112 [00:02<00:08, 10.03it/s]\u001b[A\n",
      "Evaluation:  23%|████████████████████▉                                                                     | 26/112 [00:02<00:08, 10.17it/s]\u001b[A\n",
      "Evaluation:  25%|██████████████████████▌                                                                   | 28/112 [00:02<00:08, 10.22it/s]\u001b[A\n",
      "Evaluation:  27%|████████████████████████                                                                  | 30/112 [00:03<00:07, 10.31it/s]\u001b[A\n",
      "Evaluation:  29%|█████████████████████████▋                                                                | 32/112 [00:03<00:07, 10.37it/s]\u001b[A\n",
      "Evaluation:  30%|███████████████████████████▎                                                              | 34/112 [00:03<00:07, 10.41it/s]\u001b[A\n",
      "Evaluation:  32%|████████████████████████████▉                                                             | 36/112 [00:03<00:07, 10.44it/s]\u001b[A\n",
      "Evaluation:  34%|██████████████████████████████▌                                                           | 38/112 [00:03<00:07, 10.47it/s]\u001b[A\n",
      "Evaluation:  36%|████████████████████████████████▏                                                         | 40/112 [00:04<00:06, 10.48it/s]\u001b[A\n",
      "Evaluation:  38%|█████████████████████████████████▊                                                        | 42/112 [00:04<00:06, 10.49it/s]\u001b[A\n",
      "Evaluation:  39%|███████████████████████████████████▎                                                      | 44/112 [00:04<00:06, 10.49it/s]\u001b[A\n",
      "Evaluation:  41%|████████████████████████████████████▉                                                     | 46/112 [00:04<00:06, 10.50it/s]\u001b[A\n",
      "Evaluation:  43%|██████████████████████████████████████▌                                                   | 48/112 [00:04<00:06, 10.45it/s]\u001b[A\n",
      "Evaluation:  45%|████████████████████████████████████████▏                                                 | 50/112 [00:04<00:05, 10.47it/s]\u001b[A\n",
      "Evaluation:  46%|█████████████████████████████████████████▊                                                | 52/112 [00:05<00:05, 10.48it/s]\u001b[A\n",
      "Evaluation:  48%|███████████████████████████████████████████▍                                              | 54/112 [00:05<00:05, 10.49it/s]\u001b[A\n",
      "Evaluation:  50%|█████████████████████████████████████████████                                             | 56/112 [00:05<00:05, 10.50it/s]\u001b[A\n",
      "Evaluation:  52%|██████████████████████████████████████████████▌                                           | 58/112 [00:05<00:05, 10.50it/s]\u001b[A\n",
      "Evaluation:  54%|████████████████████████████████████████████████▏                                         | 60/112 [00:05<00:05, 10.10it/s]\u001b[A\n",
      "Evaluation:  55%|█████████████████████████████████████████████████▊                                        | 62/112 [00:06<00:04, 10.21it/s]\u001b[A\n",
      "Evaluation:  57%|███████████████████████████████████████████████████▍                                      | 64/112 [00:06<00:04, 10.30it/s]\u001b[A\n",
      "Evaluation:  59%|█████████████████████████████████████████████████████                                     | 66/112 [00:06<00:04, 10.37it/s]\u001b[A\n",
      "Evaluation:  61%|██████████████████████████████████████████████████████▋                                   | 68/112 [00:06<00:04, 10.41it/s]\u001b[A\n",
      "Evaluation:  62%|████████████████████████████████████████████████████████▎                                 | 70/112 [00:06<00:04, 10.44it/s]\u001b[A\n",
      "Evaluation:  64%|█████████████████████████████████████████████████████████▊                                | 72/112 [00:07<00:03, 10.46it/s]\u001b[A\n",
      "Evaluation:  66%|███████████████████████████████████████████████████████████▍                              | 74/112 [00:07<00:03, 10.47it/s]\u001b[A\n",
      "Evaluation:  68%|█████████████████████████████████████████████████████████████                             | 76/112 [00:07<00:03, 10.36it/s]\u001b[A\n",
      "Evaluation:  70%|██████████████████████████████████████████████████████████████▋                           | 78/112 [00:07<00:03, 10.41it/s]\u001b[A\n",
      "Evaluation:  71%|████████████████████████████████████████████████████████████████▎                         | 80/112 [00:07<00:03, 10.44it/s]\u001b[A\n",
      "Evaluation:  73%|█████████████████████████████████████████████████████████████████▉                        | 82/112 [00:08<00:02, 10.46it/s]\u001b[A\n",
      "Evaluation:  75%|███████████████████████████████████████████████████████████████████▌                      | 84/112 [00:08<00:02, 10.47it/s]\u001b[A\n",
      "Evaluation:  77%|█████████████████████████████████████████████████████████████████████                     | 86/112 [00:08<00:02, 10.48it/s]\u001b[A\n",
      "Evaluation:  79%|██████████████████████████████████████████████████████████████████████▋                   | 88/112 [00:08<00:02, 10.40it/s]\u001b[A\n",
      "Evaluation:  80%|████████████████████████████████████████████████████████████████████████▎                 | 90/112 [00:08<00:02, 10.42it/s]\u001b[A\n",
      "Evaluation:  82%|█████████████████████████████████████████████████████████████████████████▉                | 92/112 [00:08<00:01, 10.45it/s]\u001b[A\n",
      "Evaluation:  84%|███████████████████████████████████████████████████████████████████████████▌              | 94/112 [00:09<00:01, 10.48it/s]\u001b[A\n",
      "Evaluation:  86%|█████████████████████████████████████████████████████████████████████████████▏            | 96/112 [00:09<00:01, 10.50it/s]\u001b[A\n",
      "Evaluation:  88%|██████████████████████████████████████████████████████████████████████████████▊           | 98/112 [00:09<00:01, 10.50it/s]\u001b[A\n",
      "Evaluation:  89%|███████████████████████████████████████████████████████████████████████████████▍         | 100/112 [00:09<00:01, 10.51it/s]\u001b[A\n",
      "Evaluation:  91%|█████████████████████████████████████████████████████████████████████████████████        | 102/112 [00:09<00:00, 10.52it/s]\u001b[A\n",
      "Evaluation:  93%|██████████████████████████████████████████████████████████████████████████████████▋      | 104/112 [00:10<00:00, 10.52it/s]\u001b[A\n",
      "Evaluation:  95%|████████████████████████████████████████████████████████████████████████████████████▏    | 106/112 [00:10<00:00, 10.52it/s]\u001b[A\n",
      "Evaluation:  96%|█████████████████████████████████████████████████████████████████████████████████████▊   | 108/112 [00:10<00:00, 10.43it/s]\u001b[A\n",
      "Evaluation:  98%|███████████████████████████████████████████████████████████████████████████████████████▍ | 110/112 [00:10<00:00, 10.45it/s]\u001b[A\n"
     ]
    },
    {
     "name": "stderr",
     "output_type": "stream",
     "text": [
      "Evaluation: 100%|█████████████████████████████████████████████████████████████████████████████████████████| 112/112 [00:10<00:00, 10.27it/s]\u001b[A\n",
      "  0%|                                                                                                | 7/211241 [01:08<616:39:49, 10.51s/it]"
     ]
    },
    {
     "name": "stdout",
     "output_type": "stream",
     "text": [
      "mcs systems Management control system 3.4351408\n",
      "deep learning model Deep learning 1.6056364\n",
      "mcs Management control system 5.8905363\n",
      "combinatorial optimization Combinatorial optimization 10.231197\n",
      "reinforcement learning Reinforcement learning 11.840116\n",
      "energy efficiency Efficient energy use 4.461808\n",
      "profit maximization Profit maximization 7.576087\n",
      "deep reinforcement learning Deep reinforcement learning 10.831724\n",
      "deep reinforcement learning Deep reinforcement learning 10.904422\n",
      "mcs Universal Master Control Station 1.3361088\n",
      "profit maximization Profit maximization 9.202116\n",
      "performance Performance 3.099428\n",
      "energy efficiency Efficient energy use 5.8694215\n",
      "crowd Crowd 5.9344053\n",
      "deep reinforcement learning Deep reinforcement learning 11.423503\n",
      "efficiency Efficiency 7.280509\n",
      "profit maximization Profit maximization 9.202116\n",
      "energy efficiency Efficient energy use 5.8694215\n",
      "mcs MCS algorithm 5.1982174\n",
      "energy efficiency Efficient energy use 4.5348697\n",
      "reinforcement learning Reinforcement learning 11.403503\n",
      "deep reinforcement learning Deep reinforcement learning 10.361464\n",
      "reinforcement learning Reinforcement learning 11.9158\n",
      "alphastar AlphaStar 1.2416769\n",
      "modelfree reinforcement learning algorithms Model-free (reinforcement learning) 4.84492\n",
      "neural network Neural network 9.933941\n",
      "reinforcement learning Reinforcement learning 11.9158\n",
      "ride - sharing Carpool 8.184405\n",
      "mcs MCS algorithm 3.816549\n",
      "deep reinforcement learning Deep reinforcement learning 11.965016\n",
      "approximate algorithms Approximation algorithm 4.837786\n",
      "markov decision process method Markov decision process 5.3649545\n",
      "sequential decision - making Sequential decision making 11.839628\n",
      "deep reinforcement learning Deep reinforcement learning 11.114029\n",
      "deep reinforcement learning Deep reinforcement learning 11.459912\n",
      "machine learning Machine learning 11.862137\n",
      "rl Reinforcement learning 7.309795\n",
      "deep reinforcement learning Deep reinforcement learning 11.158634\n",
      "performance Performance 4.535363\n",
      "natural language processing Natural language processing 10.602839\n",
      "reinforcement learning Reinforcement learning 11.681823\n",
      "language models Language model 5.3749924\n",
      "machine learning Machine learning 11.906684\n",
      "performance Performance 2.4764407\n",
      "deep reinforcement learning Deep reinforcement learning 11.299611\n",
      "rl Reinforcement learning 6.2793465\n",
      "reinforcement learning Reinforcement learning 11.861568\n",
      "deep reinforcement learning Deep reinforcement learning 11.1276655\n"
     ]
    },
    {
     "name": "stderr",
     "output_type": "stream",
     "text": [
      "\n",
      "  0%|                                                                                                                | 0/16 [00:00<?, ?it/s]\u001b[A\n",
      "  6%|██████▌                                                                                                 | 1/16 [00:00<00:01,  9.88it/s]\u001b[A\n",
      " 19%|███████████████████▌                                                                                    | 3/16 [00:00<00:01, 11.07it/s]\u001b[A\n",
      " 31%|████████████████████████████████▌                                                                       | 5/16 [00:00<00:00, 11.62it/s]\u001b[A\n",
      " 44%|█████████████████████████████████████████████▌                                                          | 7/16 [00:00<00:00, 11.64it/s]\u001b[A\n",
      " 56%|██████████████████████████████████████████████████████████▌                                             | 9/16 [00:00<00:00, 12.29it/s]\u001b[A\n",
      " 69%|██████████████████████████████████████████████████████████████████████▊                                | 11/16 [00:00<00:00, 12.36it/s]\u001b[A\n",
      " 81%|███████████████████████████████████████████████████████████████████████████████████▋                   | 13/16 [00:01<00:00, 12.62it/s]\u001b[A\n",
      "100%|███████████████████████████████████████████████████████████████████████████████████████████████████████| 16/16 [00:01<00:00, 12.40it/s]\u001b[A\n",
      "\n",
      "  0%|                                                                                                               | 0/122 [00:00<?, ?it/s]\u001b[A\n",
      " 25%|████████████████████████▊                                                                            | 30/122 [00:00<00:00, 291.40it/s]\u001b[A\n",
      " 49%|█████████████████████████████████████████████████▋                                                   | 60/122 [00:00<00:00, 222.14it/s]\u001b[A\n",
      " 70%|███████████████████████████████████████████████████████████████████████▏                             | 86/122 [00:00<00:00, 234.02it/s]\u001b[A\n",
      "100%|████████████████████████████████████████████████████████████████████████████████████████████████████| 122/122 [00:00<00:00, 246.81it/s]\u001b[A"
     ]
    },
    {
     "name": "stdout",
     "output_type": "stream",
     "text": [
      "5/122 \r"
     ]
    },
    {
     "name": "stderr",
     "output_type": "stream",
     "text": [
      "\n"
     ]
    },
    {
     "name": "stdout",
     "output_type": "stream",
     "text": [
      "122/122 \r"
     ]
    },
    {
     "name": "stderr",
     "output_type": "stream",
     "text": [
      "\n",
      "Evaluation:   0%|                                                                                                   | 0/122 [00:00<?, ?it/s]\u001b[A\n",
      "Evaluation:   1%|▋                                                                                          | 1/122 [00:00<00:18,  6.61it/s]\u001b[A\n",
      "Evaluation:   2%|██▏                                                                                        | 3/122 [00:00<00:13,  9.12it/s]\u001b[A\n",
      "Evaluation:   4%|███▋                                                                                       | 5/122 [00:00<00:11,  9.79it/s]\u001b[A\n",
      "Evaluation:   6%|█████▏                                                                                     | 7/122 [00:00<00:11, 10.08it/s]\u001b[A\n",
      "Evaluation:   7%|█████▉                                                                                     | 8/122 [00:00<00:12,  8.89it/s]\u001b[A\n",
      "Evaluation:   8%|███████▍                                                                                  | 10/122 [00:01<00:11,  9.48it/s]\u001b[A\n",
      "Evaluation:  10%|████████▊                                                                                 | 12/122 [00:01<00:11,  9.83it/s]\u001b[A\n",
      "Evaluation:  11%|██████████▎                                                                               | 14/122 [00:01<00:10, 10.06it/s]\u001b[A\n",
      "Evaluation:  13%|███████████▊                                                                              | 16/122 [00:01<00:10, 10.20it/s]\u001b[A\n",
      "Evaluation:  15%|█████████████▎                                                                            | 18/122 [00:01<00:10, 10.30it/s]\u001b[A\n",
      "Evaluation:  16%|██████████████▊                                                                           | 20/122 [00:02<00:09, 10.38it/s]\u001b[A\n",
      "Evaluation:  18%|████████████████▏                                                                         | 22/122 [00:02<00:10,  9.33it/s]\u001b[A\n",
      "Evaluation:  20%|█████████████████▋                                                                        | 24/122 [00:02<00:10,  9.67it/s]\u001b[A\n",
      "Evaluation:  21%|███████████████████▏                                                                      | 26/122 [00:02<00:09,  9.66it/s]\u001b[A\n",
      "Evaluation:  23%|████████████████████▋                                                                     | 28/122 [00:02<00:09,  9.88it/s]\u001b[A\n",
      "Evaluation:  25%|██████████████████████▏                                                                   | 30/122 [00:03<00:09, 10.06it/s]\u001b[A\n",
      "Evaluation:  26%|███████████████████████▌                                                                  | 32/122 [00:03<00:08, 10.20it/s]\u001b[A\n",
      "Evaluation:  28%|█████████████████████████                                                                 | 34/122 [00:03<00:08, 10.29it/s]\u001b[A\n",
      "Evaluation:  30%|██████████████████████████▌                                                               | 36/122 [00:03<00:08, 10.36it/s]\u001b[A\n",
      "Evaluation:  31%|████████████████████████████                                                              | 38/122 [00:03<00:08, 10.40it/s]\u001b[A\n",
      "Evaluation:  33%|█████████████████████████████▌                                                            | 40/122 [00:04<00:07, 10.44it/s]\u001b[A\n",
      "Evaluation:  34%|██████████████████████████████▉                                                           | 42/122 [00:04<00:07, 10.46it/s]\u001b[A\n",
      "Evaluation:  36%|████████████████████████████████▍                                                         | 44/122 [00:04<00:07, 10.47it/s]\u001b[A\n",
      "Evaluation:  38%|█████████████████████████████████▉                                                        | 46/122 [00:04<00:07, 10.49it/s]\u001b[A\n",
      "Evaluation:  39%|███████████████████████████████████▍                                                      | 48/122 [00:04<00:07, 10.50it/s]\u001b[A\n",
      "Evaluation:  41%|████████████████████████████████████▉                                                     | 50/122 [00:04<00:06, 10.50it/s]\u001b[A\n",
      "Evaluation:  43%|██████████████████████████████████████▎                                                   | 52/122 [00:05<00:07,  9.35it/s]\u001b[A\n",
      "Evaluation:  44%|███████████████████████████████████████▊                                                  | 54/122 [00:05<00:07,  9.67it/s]\u001b[A\n",
      "Evaluation:  46%|█████████████████████████████████████████▎                                                | 56/122 [00:05<00:06,  9.87it/s]\u001b[A\n",
      "Evaluation:  48%|██████████████████████████████████████████▊                                               | 58/122 [00:05<00:06, 10.06it/s]\u001b[A\n",
      "Evaluation:  49%|████████████████████████████████████████████▎                                             | 60/122 [00:05<00:06, 10.19it/s]\u001b[A\n",
      "Evaluation:  51%|█████████████████████████████████████████████▋                                            | 62/122 [00:06<00:05, 10.29it/s]\u001b[A\n",
      "Evaluation:  52%|███████████████████████████████████████████████▏                                          | 64/122 [00:06<00:05, 10.36it/s]\u001b[A\n",
      "Evaluation:  54%|████████████████████████████████████████████████▋                                         | 66/122 [00:06<00:05, 10.41it/s]\u001b[A\n",
      "Evaluation:  56%|██████████████████████████████████████████████████▏                                       | 68/122 [00:06<00:05, 10.45it/s]\u001b[A\n",
      "Evaluation:  57%|███████████████████████████████████████████████████▋                                      | 70/122 [00:06<00:04, 10.47it/s]\u001b[A\n",
      "Evaluation:  59%|█████████████████████████████████████████████████████                                     | 72/122 [00:07<00:04, 10.49it/s]\u001b[A\n",
      "Evaluation:  61%|██████████████████████████████████████████████████████▌                                   | 74/122 [00:07<00:04, 10.50it/s]\u001b[A\n",
      "Evaluation:  62%|████████████████████████████████████████████████████████                                  | 76/122 [00:07<00:04, 10.51it/s]\u001b[A\n",
      "Evaluation:  64%|█████████████████████████████████████████████████████████▌                                | 78/122 [00:07<00:04, 10.52it/s]\u001b[A\n",
      "Evaluation:  66%|███████████████████████████████████████████████████████████                               | 80/122 [00:07<00:03, 10.51it/s]\u001b[A\n",
      "Evaluation:  67%|████████████████████████████████████████████████████████████▍                             | 82/122 [00:08<00:03, 10.51it/s]\u001b[A\n",
      "Evaluation:  69%|█████████████████████████████████████████████████████████████▉                            | 84/122 [00:08<00:03, 10.46it/s]\u001b[A\n",
      "Evaluation:  70%|███████████████████████████████████████████████████████████████▍                          | 86/122 [00:08<00:03, 10.48it/s]\u001b[A\n",
      "Evaluation:  72%|████████████████████████████████████████████████████████████████▉                         | 88/122 [00:08<00:03, 10.49it/s]\u001b[A\n",
      "Evaluation:  74%|██████████████████████████████████████████████████████████████████▍                       | 90/122 [00:08<00:03,  9.14it/s]\u001b[A\n",
      "Evaluation:  75%|███████████████████████████████████████████████████████████████████▊                      | 92/122 [00:09<00:03,  9.47it/s]\u001b[A\n",
      "Evaluation:  77%|█████████████████████████████████████████████████████████████████████▎                    | 94/122 [00:09<00:02,  9.73it/s]\u001b[A\n",
      "Evaluation:  79%|██████████████████████████████████████████████████████████████████████▊                   | 96/122 [00:09<00:02,  9.84it/s]\u001b[A\n",
      "Evaluation:  80%|████████████████████████████████████████████████████████████████████████▎                 | 98/122 [00:09<00:02, 10.01it/s]\u001b[A\n",
      "Evaluation:  82%|████████████████████████████████████████████████████████████████████████▉                | 100/122 [00:09<00:02, 10.14it/s]\u001b[A\n",
      "Evaluation:  84%|██████████████████████████████████████████████████████████████████████████▍              | 102/122 [00:10<00:02,  9.98it/s]\u001b[A\n",
      "Evaluation:  85%|███████████████████████████████████████████████████████████████████████████▊             | 104/122 [00:10<00:01, 10.11it/s]\u001b[A\n",
      "Evaluation:  87%|█████████████████████████████████████████████████████████████████████████████▎           | 106/122 [00:10<00:01, 10.21it/s]\u001b[A\n",
      "Evaluation:  89%|██████████████████████████████████████████████████████████████████████████████▊          | 108/122 [00:10<00:01, 10.27it/s]\u001b[A\n"
     ]
    },
    {
     "name": "stderr",
     "output_type": "stream",
     "text": [
      "Evaluation:  90%|████████████████████████████████████████████████████████████████████████████████▏        | 110/122 [00:10<00:01, 10.32it/s]\u001b[A\n",
      "Evaluation:  92%|█████████████████████████████████████████████████████████████████████████████████▋       | 112/122 [00:11<00:00, 10.36it/s]\u001b[A\n",
      "Evaluation:  93%|███████████████████████████████████████████████████████████████████████████████████▏     | 114/122 [00:11<00:00, 10.20it/s]\u001b[A\n",
      "Evaluation:  95%|████████████████████████████████████████████████████████████████████████████████████▌    | 116/122 [00:11<00:00, 10.28it/s]\u001b[A\n",
      "Evaluation:  97%|██████████████████████████████████████████████████████████████████████████████████████   | 118/122 [00:11<00:00, 10.33it/s]\u001b[A\n",
      "Evaluation:  98%|███████████████████████████████████████████████████████████████████████████████████████▌ | 120/122 [00:11<00:00, 10.37it/s]\u001b[A\n",
      "Evaluation: 100%|█████████████████████████████████████████████████████████████████████████████████████████| 122/122 [00:12<00:00, 10.12it/s]\u001b[A\n",
      "  0%|                                                                                                | 8/211241 [01:26<762:37:52, 13.00s/it]"
     ]
    },
    {
     "name": "stdout",
     "output_type": "stream",
     "text": [
      "localization Internationalization and localization 1.4189068\n",
      "convolutional neural networks Convolutional neural network 11.727152\n",
      "surveillance Surveillance 8.944212\n",
      "image segmentation Image segmentation 9.103513\n",
      "computer vision Computer vision 11.701094\n",
      "recurrent networks Recurrent neural network 1.5462711\n",
      "image segmentation Image segmentation 9.918952\n",
      "object detection Object detection 11.352297\n",
      "convolutional networks Convolutional neural network 6.4731517\n",
      "rnns Recurrent neural network 2.6745348\n",
      "motion Motion 6.907655\n",
      "object detection Object detection 10.84763\n",
      "cnn CNN 4.0601115\n",
      "rnn Rnn (software) 10.2047205\n",
      "cnn Convolutional neural network 1.7985064\n"
     ]
    },
    {
     "name": "stderr",
     "output_type": "stream",
     "text": [
      "\n",
      "  0%|                                                                                                                | 0/11 [00:00<?, ?it/s]\u001b[A\n",
      " 18%|██████████████████▉                                                                                     | 2/11 [00:00<00:00, 11.02it/s]\u001b[A\n",
      " 36%|█████████████████████████████████████▊                                                                  | 4/11 [00:00<00:00, 11.75it/s]\u001b[A\n",
      " 55%|████████████████████████████████████████████████████████▋                                               | 6/11 [00:00<00:00, 11.95it/s]\u001b[A\n",
      " 73%|███████████████████████████████████████████████████████████████████████████▋                            | 8/11 [00:00<00:00, 11.94it/s]\u001b[A\n",
      "100%|███████████████████████████████████████████████████████████████████████████████████████████████████████| 11/11 [00:00<00:00, 12.53it/s]\u001b[A\n",
      "\n",
      "  0%|                                                                                                                | 0/82 [00:00<?, ?it/s]\u001b[A\n",
      " 29%|█████████████████████████████▊                                                                        | 24/82 [00:00<00:00, 232.96it/s]\u001b[A\n",
      " 59%|███████████████████████████████████████████████████████████▋                                          | 48/82 [00:00<00:00, 193.85it/s]\u001b[A\n",
      "100%|██████████████████████████████████████████████████████████████████████████████████████████████████████| 82/82 [00:00<00:00, 198.53it/s]\u001b[A"
     ]
    },
    {
     "name": "stdout",
     "output_type": "stream",
     "text": [
      "1/82 \r"
     ]
    },
    {
     "name": "stderr",
     "output_type": "stream",
     "text": [
      "\n"
     ]
    },
    {
     "name": "stdout",
     "output_type": "stream",
     "text": [
      "82/82 \r"
     ]
    },
    {
     "name": "stderr",
     "output_type": "stream",
     "text": [
      "\n",
      "Evaluation:   0%|                                                                                                    | 0/82 [00:00<?, ?it/s]\u001b[A\n",
      "Evaluation:   2%|██▏                                                                                         | 2/82 [00:00<00:07, 10.63it/s]\u001b[A\n",
      "Evaluation:   5%|████▍                                                                                       | 4/82 [00:00<00:07, 10.57it/s]\u001b[A\n",
      "Evaluation:   7%|██████▋                                                                                     | 6/82 [00:00<00:07, 10.55it/s]\u001b[A\n",
      "Evaluation:  10%|████████▉                                                                                   | 8/82 [00:00<00:07, 10.53it/s]\u001b[A\n",
      "Evaluation:  12%|███████████                                                                                | 10/82 [00:00<00:06, 10.52it/s]\u001b[A\n",
      "Evaluation:  15%|█████████████▎                                                                             | 12/82 [00:01<00:06, 10.51it/s]\u001b[A\n",
      "Evaluation:  17%|███████████████▌                                                                           | 14/82 [00:01<00:06, 10.52it/s]\u001b[A\n",
      "Evaluation:  20%|█████████████████▊                                                                         | 16/82 [00:01<00:06, 10.51it/s]\u001b[A\n",
      "Evaluation:  22%|███████████████████▉                                                                       | 18/82 [00:01<00:06,  9.21it/s]\u001b[A\n",
      "Evaluation:  24%|██████████████████████▏                                                                    | 20/82 [00:01<00:06,  9.56it/s]\u001b[A\n",
      "Evaluation:  27%|████████████████████████▍                                                                  | 22/82 [00:02<00:06,  9.83it/s]\u001b[A\n",
      "Evaluation:  29%|██████████████████████████▋                                                                | 24/82 [00:02<00:05, 10.02it/s]\u001b[A\n",
      "Evaluation:  32%|████████████████████████████▊                                                              | 26/82 [00:02<00:05, 10.17it/s]\u001b[A\n",
      "Evaluation:  34%|███████████████████████████████                                                            | 28/82 [00:02<00:05, 10.27it/s]\u001b[A\n",
      "Evaluation:  37%|█████████████████████████████████▎                                                         | 30/82 [00:02<00:05, 10.18it/s]\u001b[A\n",
      "Evaluation:  39%|███████████████████████████████████▌                                                       | 32/82 [00:03<00:04, 10.27it/s]\u001b[A\n",
      "Evaluation:  41%|█████████████████████████████████████▋                                                     | 34/82 [00:03<00:05,  9.36it/s]\u001b[A\n",
      "Evaluation:  44%|███████████████████████████████████████▉                                                   | 36/82 [00:03<00:04,  9.68it/s]\u001b[A\n",
      "Evaluation:  46%|██████████████████████████████████████████▏                                                | 38/82 [00:03<00:04,  9.91it/s]\u001b[A\n",
      "Evaluation:  49%|████████████████████████████████████████████▍                                              | 40/82 [00:03<00:04, 10.09it/s]\u001b[A\n",
      "Evaluation:  51%|██████████████████████████████████████████████▌                                            | 42/82 [00:04<00:03, 10.22it/s]\u001b[A\n",
      "Evaluation:  54%|████████████████████████████████████████████████▊                                          | 44/82 [00:04<00:03, 10.30it/s]\u001b[A\n",
      "Evaluation:  56%|███████████████████████████████████████████████████                                        | 46/82 [00:04<00:03, 10.37it/s]\u001b[A\n",
      "Evaluation:  59%|█████████████████████████████████████████████████████▎                                     | 48/82 [00:04<00:03, 10.41it/s]\u001b[A\n",
      "Evaluation:  61%|███████████████████████████████████████████████████████▍                                   | 50/82 [00:04<00:03, 10.44it/s]\u001b[A\n",
      "Evaluation:  63%|█████████████████████████████████████████████████████████▋                                 | 52/82 [00:05<00:02, 10.46it/s]\u001b[A\n",
      "Evaluation:  66%|███████████████████████████████████████████████████████████▉                               | 54/82 [00:05<00:02, 10.49it/s]\u001b[A\n",
      "Evaluation:  68%|██████████████████████████████████████████████████████████████▏                            | 56/82 [00:05<00:02, 10.49it/s]\u001b[A\n",
      "Evaluation:  71%|████████████████████████████████████████████████████████████████▎                          | 58/82 [00:05<00:02, 10.50it/s]\u001b[A\n",
      "Evaluation:  73%|██████████████████████████████████████████████████████████████████▌                        | 60/82 [00:05<00:02,  9.27it/s]\u001b[A\n",
      "Evaluation:  76%|████████████████████████████████████████████████████████████████████▊                      | 62/82 [00:06<00:02,  9.60it/s]\u001b[A\n",
      "Evaluation:  78%|███████████████████████████████████████████████████████████████████████                    | 64/82 [00:06<00:01,  9.85it/s]\u001b[A\n",
      "Evaluation:  80%|█████████████████████████████████████████████████████████████████████████▏                 | 66/82 [00:06<00:01, 10.04it/s]\u001b[A\n",
      "Evaluation:  83%|███████████████████████████████████████████████████████████████████████████▍               | 68/82 [00:06<00:01, 10.17it/s]\u001b[A\n",
      "Evaluation:  85%|█████████████████████████████████████████████████████████████████████████████▋             | 70/82 [00:06<00:01, 10.27it/s]\u001b[A\n",
      "Evaluation:  88%|███████████████████████████████████████████████████████████████████████████████▉           | 72/82 [00:07<00:01,  9.70it/s]\u001b[A\n",
      "Evaluation:  90%|██████████████████████████████████████████████████████████████████████████████████         | 74/82 [00:07<00:00,  9.93it/s]\u001b[A\n",
      "Evaluation:  93%|████████████████████████████████████████████████████████████████████████████████████▎      | 76/82 [00:07<00:00,  9.87it/s]\u001b[A\n",
      "Evaluation:  94%|█████████████████████████████████████████████████████████████████████████████████████▍     | 77/82 [00:07<00:00,  9.88it/s]\u001b[A\n",
      "Evaluation:  95%|██████████████████████████████████████████████████████████████████████████████████████▌    | 78/82 [00:07<00:00,  9.87it/s]\u001b[A\n",
      "Evaluation:  98%|████████████████████████████████████████████████████████████████████████████████████████▊  | 80/82 [00:07<00:00, 10.00it/s]\u001b[A\n",
      "Evaluation: 100%|███████████████████████████████████████████████████████████████████████████████████████████| 82/82 [00:08<00:00, 10.09it/s]\u001b[A\n",
      "  0%|                                                                                                | 9/211241 [01:39<768:37:59, 13.10s/it]"
     ]
    },
    {
     "name": "stdout",
     "output_type": "stream",
     "text": [
      "end - to - end delay End-to-end delay 10.145749\n",
      "snr Signal-to-noise ratio 9.148121\n",
      "csi Channel state information 10.836093\n",
      "harq Hybrid automatic repeat request 9.428317\n",
      "qos Quality of service 9.248189\n",
      "acknowledgement Acknowledgement (data networks) 9.452975\n",
      "harq Hybrid automatic repeat request 9.126051\n",
      "throughput Throughput 11.407662\n",
      "throughput Throughput 11.407662\n",
      "voice over ip Voice over IP 12.372759\n",
      "outage probability Outage probability 10.459365\n",
      "quality Quality of service 1.2915658\n",
      "harq protocols Hybrid automatic repeat request 4.61341\n",
      "smartphones Smartphone 11.422945\n",
      "harq protocols Hybrid automatic repeat request 2.7387462\n",
      "quality Quality of service 1.2915658\n",
      "performance Performance 0.12843382\n",
      "voice over ip Voice over IP 11.929141\n",
      "type - i harq Hybrid automatic repeat request 0.029342692\n",
      "harq Hybrid automatic repeat request 9.532316\n",
      "harq protocols Hybrid automatic repeat request 3.9643676\n",
      "channel state information Channel state information 12.525851\n",
      "outage probability Outage probability 9.804946\n",
      "outage probability Outage probability 9.804946\n",
      "harq protocols Hybrid automatic repeat request 4.4742312\n",
      "outage probability Outage probability 9.033427\n",
      "harq Hybrid automatic repeat request 9.274834\n"
     ]
    },
    {
     "name": "stderr",
     "output_type": "stream",
     "text": [
      "\n",
      "  0%|                                                                                                                 | 0/8 [00:00<?, ?it/s]\u001b[A\n",
      " 25%|██████████████████████████▎                                                                              | 2/8 [00:00<00:00, 13.07it/s]\u001b[A\n",
      " 50%|████████████████████████████████████████████████████▌                                                    | 4/8 [00:00<00:00, 12.73it/s]\u001b[A\n",
      " 75%|██████████████████████████████████████████████████████████████████████████████▊                          | 6/8 [00:00<00:00, 12.55it/s]\u001b[A\n",
      "100%|█████████████████████████████████████████████████████████████████████████████████████████████████████████| 8/8 [00:00<00:00, 12.82it/s]\u001b[A\n",
      "\n",
      "  0%|                                                                                                                | 0/61 [00:00<?, ?it/s]\u001b[A\n",
      " 46%|██████████████████████████████████████████████▊                                                       | 28/61 [00:00<00:00, 277.41it/s]\u001b[A\n",
      "100%|██████████████████████████████████████████████████████████████████████████████████████████████████████| 61/61 [00:00<00:00, 254.91it/s]\u001b[A"
     ]
    },
    {
     "name": "stdout",
     "output_type": "stream",
     "text": [
      "4/61 \r"
     ]
    },
    {
     "name": "stderr",
     "output_type": "stream",
     "text": [
      "\n"
     ]
    },
    {
     "name": "stdout",
     "output_type": "stream",
     "text": [
      "61/61 \r"
     ]
    },
    {
     "name": "stderr",
     "output_type": "stream",
     "text": [
      "\n",
      "Evaluation:   0%|                                                                                                    | 0/61 [00:00<?, ?it/s]\u001b[A\n",
      "Evaluation:   3%|███                                                                                         | 2/61 [00:00<00:05, 10.64it/s]\u001b[A\n",
      "Evaluation:   7%|██████                                                                                      | 4/61 [00:00<00:05, 10.59it/s]\u001b[A\n",
      "Evaluation:  10%|█████████                                                                                   | 6/61 [00:00<00:05, 10.56it/s]\u001b[A\n",
      "Evaluation:  13%|████████████                                                                                | 8/61 [00:00<00:05, 10.55it/s]\u001b[A\n",
      "Evaluation:  16%|██████████████▉                                                                            | 10/61 [00:00<00:04, 10.54it/s]\u001b[A\n",
      "Evaluation:  20%|█████████████████▉                                                                         | 12/61 [00:01<00:04, 10.54it/s]\u001b[A\n",
      "Evaluation:  23%|████████████████████▉                                                                      | 14/61 [00:01<00:04, 10.52it/s]\u001b[A\n",
      "Evaluation:  26%|███████████████████████▊                                                                   | 16/61 [00:01<00:04, 10.51it/s]\u001b[A\n",
      "Evaluation:  30%|██████████████████████████▊                                                                | 18/61 [00:01<00:04, 10.52it/s]\u001b[A\n",
      "Evaluation:  33%|█████████████████████████████▊                                                             | 20/61 [00:01<00:03, 10.51it/s]\u001b[A\n",
      "Evaluation:  36%|████████████████████████████████▊                                                          | 22/61 [00:02<00:03, 10.52it/s]\u001b[A\n",
      "Evaluation:  39%|███████████████████████████████████▊                                                       | 24/61 [00:02<00:03, 10.30it/s]\u001b[A\n",
      "Evaluation:  43%|██████████████████████████████████████▊                                                    | 26/61 [00:02<00:03, 10.24it/s]\u001b[A\n",
      "Evaluation:  46%|█████████████████████████████████████████▊                                                 | 28/61 [00:02<00:03, 10.32it/s]\u001b[A\n",
      "Evaluation:  49%|████████████████████████████████████████████▊                                              | 30/61 [00:02<00:02, 10.37it/s]\u001b[A\n",
      "Evaluation:  52%|███████████████████████████████████████████████▋                                           | 32/61 [00:03<00:02, 10.32it/s]\u001b[A\n",
      "Evaluation:  56%|██████████████████████████████████████████████████▋                                        | 34/61 [00:03<00:02, 10.14it/s]\u001b[A\n",
      "Evaluation:  59%|█████████████████████████████████████████████████████▋                                     | 36/61 [00:03<00:02, 10.18it/s]\u001b[A\n",
      "Evaluation:  62%|████████████████████████████████████████████████████████▋                                  | 38/61 [00:03<00:02, 10.17it/s]\u001b[A\n",
      "Evaluation:  66%|███████████████████████████████████████████████████████████▋                               | 40/61 [00:03<00:02, 10.14it/s]\u001b[A\n",
      "Evaluation:  69%|██████████████████████████████████████████████████████████████▋                            | 42/61 [00:04<00:01,  9.87it/s]\u001b[A\n",
      "Evaluation:  70%|████████████████████████████████████████████████████████████████▏                          | 43/61 [00:04<00:01,  9.79it/s]\u001b[A\n",
      "Evaluation:  72%|█████████████████████████████████████████████████████████████████▋                         | 44/61 [00:04<00:01,  9.67it/s]\u001b[A\n",
      "Evaluation:  74%|███████████████████████████████████████████████████████████████████▏                       | 45/61 [00:04<00:01,  9.53it/s]\u001b[A\n",
      "Evaluation:  75%|████████████████████████████████████████████████████████████████████▌                      | 46/61 [00:04<00:01,  9.44it/s]\u001b[A\n",
      "Evaluation:  77%|██████████████████████████████████████████████████████████████████████                     | 47/61 [00:04<00:01,  9.45it/s]\u001b[A\n",
      "Evaluation:  79%|███████████████████████████████████████████████████████████████████████▌                   | 48/61 [00:04<00:01,  9.41it/s]\u001b[A\n",
      "Evaluation:  80%|█████████████████████████████████████████████████████████████████████████                  | 49/61 [00:04<00:01,  9.42it/s]\u001b[A\n",
      "Evaluation:  82%|██████████████████████████████████████████████████████████████████████████▌                | 50/61 [00:04<00:01,  9.43it/s]\u001b[A\n",
      "Evaluation:  84%|████████████████████████████████████████████████████████████████████████████               | 51/61 [00:05<00:01,  9.44it/s]\u001b[A\n",
      "Evaluation:  85%|█████████████████████████████████████████████████████████████████████████████▌             | 52/61 [00:05<00:00,  9.44it/s]\u001b[A\n",
      "Evaluation:  87%|███████████████████████████████████████████████████████████████████████████████            | 53/61 [00:05<00:00,  9.45it/s]\u001b[A\n",
      "Evaluation:  89%|████████████████████████████████████████████████████████████████████████████████▌          | 54/61 [00:05<00:00,  9.45it/s]\u001b[A\n",
      "Evaluation:  90%|██████████████████████████████████████████████████████████████████████████████████         | 55/61 [00:05<00:00,  9.47it/s]\u001b[A\n",
      "Evaluation:  92%|███████████████████████████████████████████████████████████████████████████████████▌       | 56/61 [00:05<00:00,  9.47it/s]\u001b[A\n",
      "Evaluation:  93%|█████████████████████████████████████████████████████████████████████████████████████      | 57/61 [00:05<00:00,  9.46it/s]\u001b[A\n",
      "Evaluation:  95%|██████████████████████████████████████████████████████████████████████████████████████▌    | 58/61 [00:05<00:00,  9.47it/s]\u001b[A\n",
      "Evaluation:  97%|████████████████████████████████████████████████████████████████████████████████████████   | 59/61 [00:05<00:00,  9.47it/s]\u001b[A\n",
      "Evaluation:  98%|█████████████████████████████████████████████████████████████████████████████████████████▌ | 60/61 [00:05<00:00,  9.48it/s]\u001b[A\n",
      "Evaluation: 100%|███████████████████████████████████████████████████████████████████████████████████████████| 61/61 [00:06<00:00, 10.00it/s]\u001b[A\n",
      "  0%|                                                                                               | 10/211241 [01:50<719:57:54, 12.27s/it]"
     ]
    },
    {
     "name": "stdout",
     "output_type": "stream",
     "text": [
      "division algebras Division algebra 0.07310968\n",
      "spectral efficiency Spectral efficiency 10.687772\n",
      "division algebras Division algebra 0.3143161\n",
      "spectral efficiency Spectral efficiency 10.687772\n",
      "mc - cdma Multi-carrier code-division multiple access 9.864821\n",
      "minimum mean square error Minimum mean square error 10.695292\n",
      "m ultiple - input multiple - output MIMO 5.8448567\n",
      "data rates Bit rate 6.5784163\n",
      "multiuser detection Multiuser detection 11.886761\n",
      "hopfield neural network Hopfield network 6.0124483\n",
      "cdma Code-division multiple access 6.61821\n",
      "image restoration Image restoration 9.548999\n",
      "spectral efficiency Spectral efficiency 10.687772\n",
      "antennas Antenna (radio) 6.7620044\n",
      "ieee 802.11n IEEE 802.11n-2009 9.893772\n"
     ]
    },
    {
     "name": "stderr",
     "output_type": "stream",
     "text": [
      "\n",
      "  0%|                                                                                                                 | 0/9 [00:00<?, ?it/s]\u001b[A\n",
      " 22%|███████████████████████▎                                                                                 | 2/9 [00:00<00:00, 10.91it/s]\u001b[A\n",
      " 44%|██████████████████████████████████████████████▋                                                          | 4/9 [00:00<00:00, 10.84it/s]\u001b[A\n",
      " 67%|██████████████████████████████████████████████████████████████████████                                   | 6/9 [00:00<00:00, 11.26it/s]\u001b[A\n",
      "100%|█████████████████████████████████████████████████████████████████████████████████████████████████████████| 9/9 [00:00<00:00, 11.89it/s]\u001b[A\n",
      "\n",
      "  0%|                                                                                                                | 0/65 [00:00<?, ?it/s]\u001b[A\n",
      " 35%|████████████████████████████████████                                                                  | 23/65 [00:00<00:00, 218.80it/s]\u001b[A\n",
      "100%|██████████████████████████████████████████████████████████████████████████████████████████████████████| 65/65 [00:00<00:00, 218.87it/s]\u001b[A\n"
     ]
    },
    {
     "name": "stdout",
     "output_type": "stream",
     "text": [
      "65/65 \r"
     ]
    },
    {
     "name": "stderr",
     "output_type": "stream",
     "text": [
      "\n",
      "Evaluation:   0%|                                                                                                    | 0/65 [00:00<?, ?it/s]\u001b[A\n",
      "Evaluation:   2%|█▍                                                                                          | 1/65 [00:00<00:07,  8.02it/s]\u001b[A\n",
      "Evaluation:   5%|████▏                                                                                       | 3/65 [00:00<00:07,  8.22it/s]\u001b[A\n",
      "Evaluation:   8%|███████                                                                                     | 5/65 [00:00<00:06,  9.27it/s]\u001b[A\n",
      "Evaluation:  11%|█████████▉                                                                                  | 7/65 [00:00<00:05,  9.77it/s]\u001b[A\n",
      "Evaluation:  14%|████████████▋                                                                               | 9/65 [00:00<00:05, 10.05it/s]\u001b[A\n",
      "Evaluation:  17%|███████████████▍                                                                           | 11/65 [00:01<00:05, 10.21it/s]\u001b[A\n",
      "Evaluation:  20%|██████████████████▏                                                                        | 13/65 [00:01<00:05, 10.32it/s]\u001b[A\n",
      "Evaluation:  23%|█████████████████████                                                                      | 15/65 [00:01<00:04, 10.09it/s]\u001b[A\n",
      "Evaluation:  26%|███████████████████████▊                                                                   | 17/65 [00:01<00:04, 10.19it/s]\u001b[A\n",
      "Evaluation:  29%|██████████████████████████▌                                                                | 19/65 [00:01<00:04,  9.85it/s]\u001b[A\n",
      "Evaluation:  31%|████████████████████████████                                                               | 20/65 [00:02<00:04,  9.85it/s]\u001b[A\n",
      "Evaluation:  32%|█████████████████████████████▍                                                             | 21/65 [00:02<00:05,  8.48it/s]\u001b[A\n",
      "Evaluation:  34%|██████████████████████████████▊                                                            | 22/65 [00:02<00:04,  8.76it/s]\u001b[A\n",
      "Evaluation:  35%|████████████████████████████████▏                                                          | 23/65 [00:02<00:04,  8.94it/s]\u001b[A\n",
      "Evaluation:  37%|█████████████████████████████████▌                                                         | 24/65 [00:02<00:04,  9.17it/s]\u001b[A\n",
      "Evaluation:  38%|███████████████████████████████████                                                        | 25/65 [00:02<00:04,  9.17it/s]\u001b[A\n",
      "Evaluation:  40%|████████████████████████████████████▍                                                      | 26/65 [00:02<00:04,  9.25it/s]\u001b[A\n",
      "Evaluation:  42%|█████████████████████████████████████▊                                                     | 27/65 [00:02<00:04,  9.37it/s]\u001b[A\n",
      "Evaluation:  43%|███████████████████████████████████████▏                                                   | 28/65 [00:02<00:03,  9.47it/s]\u001b[A\n",
      "Evaluation:  45%|████████████████████████████████████████▌                                                  | 29/65 [00:03<00:03,  9.54it/s]\u001b[A\n",
      "Evaluation:  46%|██████████████████████████████████████████                                                 | 30/65 [00:03<00:03,  9.60it/s]\u001b[A\n",
      "Evaluation:  48%|███████████████████████████████████████████▍                                               | 31/65 [00:03<00:03,  9.64it/s]\u001b[A\n",
      "Evaluation:  49%|████████████████████████████████████████████▊                                              | 32/65 [00:03<00:03,  9.66it/s]\u001b[A\n",
      "Evaluation:  51%|██████████████████████████████████████████████▏                                            | 33/65 [00:03<00:03,  9.63it/s]\u001b[A\n",
      "Evaluation:  52%|███████████████████████████████████████████████▌                                           | 34/65 [00:03<00:03,  9.67it/s]\u001b[A\n",
      "Evaluation:  54%|█████████████████████████████████████████████████                                          | 35/65 [00:03<00:03,  9.57it/s]\u001b[A\n",
      "Evaluation:  55%|██████████████████████████████████████████████████▍                                        | 36/65 [00:03<00:03,  9.41it/s]\u001b[A\n",
      "Evaluation:  57%|███████████████████████████████████████████████████▊                                       | 37/65 [00:03<00:02,  9.48it/s]\u001b[A\n",
      "Evaluation:  58%|█████████████████████████████████████████████████████▏                                     | 38/65 [00:03<00:02,  9.51it/s]\u001b[A\n",
      "Evaluation:  60%|██████████████████████████████████████████████████████▌                                    | 39/65 [00:04<00:02,  9.32it/s]\u001b[A\n",
      "Evaluation:  62%|████████████████████████████████████████████████████████                                   | 40/65 [00:04<00:02,  9.38it/s]\u001b[A\n",
      "Evaluation:  63%|█████████████████████████████████████████████████████████▍                                 | 41/65 [00:04<00:02,  9.19it/s]\u001b[A\n",
      "Evaluation:  65%|██████████████████████████████████████████████████████████▊                                | 42/65 [00:04<00:02,  9.32it/s]\u001b[A\n",
      "Evaluation:  66%|████████████████████████████████████████████████████████████▏                              | 43/65 [00:04<00:02,  9.30it/s]\u001b[A\n",
      "Evaluation:  68%|█████████████████████████████████████████████████████████████▌                             | 44/65 [00:04<00:02,  9.40it/s]\u001b[A\n",
      "Evaluation:  69%|███████████████████████████████████████████████████████████████                            | 45/65 [00:04<00:02,  9.35it/s]\u001b[A\n",
      "Evaluation:  71%|████████████████████████████████████████████████████████████████▍                          | 46/65 [00:04<00:02,  9.43it/s]\u001b[A\n",
      "Evaluation:  72%|█████████████████████████████████████████████████████████████████▊                         | 47/65 [00:04<00:01,  9.45it/s]\u001b[A\n",
      "Evaluation:  74%|███████████████████████████████████████████████████████████████████▏                       | 48/65 [00:05<00:01,  9.37it/s]\u001b[A\n",
      "Evaluation:  75%|████████████████████████████████████████████████████████████████████▌                      | 49/65 [00:05<00:01,  9.33it/s]\u001b[A\n",
      "Evaluation:  77%|██████████████████████████████████████████████████████████████████████                     | 50/65 [00:05<00:01,  9.30it/s]\u001b[A\n",
      "Evaluation:  78%|███████████████████████████████████████████████████████████████████████▍                   | 51/65 [00:05<00:01,  9.31it/s]\u001b[A\n",
      "Evaluation:  80%|████████████████████████████████████████████████████████████████████████▊                  | 52/65 [00:05<00:01,  9.31it/s]\u001b[A\n",
      "Evaluation:  82%|██████████████████████████████████████████████████████████████████████████▏                | 53/65 [00:05<00:01,  9.32it/s]\u001b[A\n",
      "Evaluation:  83%|███████████████████████████████████████████████████████████████████████████▌               | 54/65 [00:05<00:01,  9.22it/s]\u001b[A\n",
      "Evaluation:  85%|█████████████████████████████████████████████████████████████████████████████              | 55/65 [00:05<00:01,  9.32it/s]\u001b[A\n",
      "Evaluation:  86%|██████████████████████████████████████████████████████████████████████████████▍            | 56/65 [00:06<00:01,  7.43it/s]\u001b[A\n",
      "Evaluation:  88%|███████████████████████████████████████████████████████████████████████████████▊           | 57/65 [00:06<00:01,  7.73it/s]\u001b[A\n",
      "Evaluation:  89%|█████████████████████████████████████████████████████████████████████████████████▏         | 58/65 [00:06<00:00,  7.97it/s]\u001b[A\n",
      "Evaluation:  91%|██████████████████████████████████████████████████████████████████████████████████▌        | 59/65 [00:06<00:00,  8.07it/s]\u001b[A\n",
      "Evaluation:  92%|████████████████████████████████████████████████████████████████████████████████████       | 60/65 [00:06<00:00,  8.13it/s]\u001b[A\n",
      "Evaluation:  94%|█████████████████████████████████████████████████████████████████████████████████████▍     | 61/65 [00:06<00:00,  8.17it/s]\u001b[A\n",
      "Evaluation:  95%|██████████████████████████████████████████████████████████████████████████████████████▊    | 62/65 [00:06<00:00,  8.18it/s]\u001b[A\n",
      "Evaluation:  97%|████████████████████████████████████████████████████████████████████████████████████████▏  | 63/65 [00:06<00:00,  8.23it/s]\u001b[A\n",
      "Evaluation:  98%|█████████████████████████████████████████████████████████████████████████████████████████▌ | 64/65 [00:06<00:00,  8.17it/s]\u001b[A\n"
     ]
    },
    {
     "name": "stderr",
     "output_type": "stream",
     "text": [
      "Evaluation: 100%|███████████████████████████████████████████████████████████████████████████████████████████| 65/65 [00:07<00:00,  9.16it/s]\u001b[A\n",
      "  0%|                                                                                               | 10/211241 [02:02<716:12:05, 12.21s/it]"
     ]
    },
    {
     "name": "stdout",
     "output_type": "stream",
     "text": [
      "neural networks Neural network 4.120176\n",
      "encoder Encoder 8.472188\n",
      "generative adversarial networks Generative adversarial network 10.641603\n",
      "social networks Social network 6.4440527\n",
      "generative adversarial network - based methods Generative adversarial network 5.612352\n",
      "encoder Encoder 7.651771\n",
      "effectiveness Effectiveness 5.438431\n",
      "word embeddings Word embedding 5.9347057\n",
      "part - of - speech Part of speech 11.306923\n",
      "support vector machine Support-vector machine 12.368055\n",
      "logistic regression Logistic regression 11.527652\n",
      "random forest Random forest 10.39833\n",
      "classifier Classifier (linguistics) 1.8419323\n",
      "deep learning based methods Deep learning 1.63243\n",
      "performance Performance 1.8687394\n",
      "deep learning based methods Deep learning 1.63243\n",
      "generative approach Generative model 0.04395907\n",
      "performance Performance 1.8687394\n",
      "fever Fever 0.14037563\n",
      "textual entailment Textual entailment 9.415311\n",
      "effectiveness Effectiveness 7.01189\n",
      "122.05610013008118\n"
     ]
    },
    {
     "name": "stderr",
     "output_type": "stream",
     "text": [
      "\n"
     ]
    }
   ],
   "source": [
    "triple_files = glob2.glob(f\"{triples_dir}/*.json\")\n",
    "pbar = tqdm(triple_files)\n",
    "start = time.time()\n",
    "for counter, triple_file in enumerate(pbar):\n",
    "    head, tail = os.path.split(triple_file)\n",
    "    with open(triple_file) as file_handler:\n",
    "        triple_file_dict = json.load(file_handler)\n",
    "    prepare_data_to_link(triple_file_dict, tail)\n",
    "    if counter == 10:\n",
    "        break\n",
    "end = time.time()\n",
    "print(end - start)"
   ]
  },
  {
   "cell_type": "code",
   "execution_count": null,
   "id": "2257559b",
   "metadata": {},
   "outputs": [],
   "source": []
  }
 ],
 "metadata": {
  "kernelspec": {
   "display_name": "Python 3 (ipykernel)",
   "language": "python",
   "name": "python3"
  },
  "language_info": {
   "codemirror_mode": {
    "name": "ipython",
    "version": 3
   },
   "file_extension": ".py",
   "mimetype": "text/x-python",
   "name": "python",
   "nbconvert_exporter": "python",
   "pygments_lexer": "ipython3",
   "version": "3.8.12"
  }
 },
 "nbformat": 4,
 "nbformat_minor": 5
}
