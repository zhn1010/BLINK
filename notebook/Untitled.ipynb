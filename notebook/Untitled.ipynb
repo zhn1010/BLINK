{
 "cells": [
  {
   "cell_type": "code",
   "execution_count": 1,
   "id": "92613237",
   "metadata": {},
   "outputs": [],
   "source": [
    "import blink.main_dense as main_dense"
   ]
  },
  {
   "cell_type": "code",
   "execution_count": 2,
   "id": "ad6721c6",
   "metadata": {},
   "outputs": [],
   "source": [
    "import os, json, glob2, pickle"
   ]
  },
  {
   "cell_type": "code",
   "execution_count": 3,
   "id": "6b8d0cfb",
   "metadata": {},
   "outputs": [],
   "source": [
    "from tqdm import tqdm "
   ]
  },
  {
   "cell_type": "code",
   "execution_count": 3,
   "id": "3b3eb048",
   "metadata": {},
   "outputs": [
    {
     "ename": "KeyboardInterrupt",
     "evalue": "",
     "output_type": "error",
     "traceback": [
      "\u001b[0;31m---------------------------------------------------------------------------\u001b[0m",
      "\u001b[0;31mKeyboardInterrupt\u001b[0m                         Traceback (most recent call last)",
      "Input \u001b[0;32mIn [3]\u001b[0m, in \u001b[0;36m<module>\u001b[0;34m\u001b[0m\n\u001b[1;32m      6\u001b[0m config \u001b[38;5;241m=\u001b[39m {\n\u001b[1;32m      7\u001b[0m     \u001b[38;5;124m\"\u001b[39m\u001b[38;5;124mtest_entities\u001b[39m\u001b[38;5;124m\"\u001b[39m: \u001b[38;5;28;01mNone\u001b[39;00m,\n\u001b[1;32m      8\u001b[0m     \u001b[38;5;124m\"\u001b[39m\u001b[38;5;124mtest_mentions\u001b[39m\u001b[38;5;124m\"\u001b[39m: \u001b[38;5;28;01mNone\u001b[39;00m,\n\u001b[0;32m   (...)\u001b[0m\n\u001b[1;32m     20\u001b[0m     \u001b[38;5;124m\"\u001b[39m\u001b[38;5;124mindex_path\u001b[39m\u001b[38;5;124m\"\u001b[39m: models_path\u001b[38;5;241m+\u001b[39m\u001b[38;5;124m\"\u001b[39m\u001b[38;5;124mfaiss_hnsw_index.pkl\u001b[39m\u001b[38;5;124m\"\u001b[39m\n\u001b[1;32m     21\u001b[0m }\n\u001b[1;32m     23\u001b[0m args \u001b[38;5;241m=\u001b[39m argparse\u001b[38;5;241m.\u001b[39mNamespace(\u001b[38;5;241m*\u001b[39m\u001b[38;5;241m*\u001b[39mconfig)\n\u001b[0;32m---> 25\u001b[0m models \u001b[38;5;241m=\u001b[39m \u001b[43mmain_dense\u001b[49m\u001b[38;5;241;43m.\u001b[39;49m\u001b[43mload_models\u001b[49m\u001b[43m(\u001b[49m\u001b[43margs\u001b[49m\u001b[43m,\u001b[49m\u001b[43m \u001b[49m\u001b[43mlogger\u001b[49m\u001b[38;5;241;43m=\u001b[39;49m\u001b[38;5;28;43;01mNone\u001b[39;49;00m\u001b[43m)\u001b[49m\n",
      "File \u001b[0;32m~/Projects/BLINK/blink/main_dense.py:298\u001b[0m, in \u001b[0;36mload_models\u001b[0;34m(args, logger)\u001b[0m\n\u001b[1;32m    296\u001b[0m     biencoder_params \u001b[38;5;241m=\u001b[39m json\u001b[38;5;241m.\u001b[39mload(json_file)\n\u001b[1;32m    297\u001b[0m     biencoder_params[\u001b[38;5;124m\"\u001b[39m\u001b[38;5;124mpath_to_model\u001b[39m\u001b[38;5;124m\"\u001b[39m] \u001b[38;5;241m=\u001b[39m args\u001b[38;5;241m.\u001b[39mbiencoder_model\n\u001b[0;32m--> 298\u001b[0m biencoder \u001b[38;5;241m=\u001b[39m \u001b[43mload_biencoder\u001b[49m\u001b[43m(\u001b[49m\u001b[43mbiencoder_params\u001b[49m\u001b[43m)\u001b[49m\n\u001b[1;32m    300\u001b[0m crossencoder \u001b[38;5;241m=\u001b[39m \u001b[38;5;28;01mNone\u001b[39;00m\n\u001b[1;32m    301\u001b[0m crossencoder_params \u001b[38;5;241m=\u001b[39m \u001b[38;5;28;01mNone\u001b[39;00m\n",
      "File \u001b[0;32m~/Projects/BLINK/blink/biencoder/biencoder.py:28\u001b[0m, in \u001b[0;36mload_biencoder\u001b[0;34m(params)\u001b[0m\n\u001b[1;32m     26\u001b[0m \u001b[38;5;28;01mdef\u001b[39;00m \u001b[38;5;21mload_biencoder\u001b[39m(params):\n\u001b[1;32m     27\u001b[0m     \u001b[38;5;66;03m# Init model\u001b[39;00m\n\u001b[0;32m---> 28\u001b[0m     biencoder \u001b[38;5;241m=\u001b[39m \u001b[43mBiEncoderRanker\u001b[49m\u001b[43m(\u001b[49m\u001b[43mparams\u001b[49m\u001b[43m)\u001b[49m\n\u001b[1;32m     29\u001b[0m     \u001b[38;5;28;01mreturn\u001b[39;00m biencoder\n",
      "File \u001b[0;32m~/Projects/BLINK/blink/biencoder/biencoder.py:89\u001b[0m, in \u001b[0;36mBiEncoderRanker.__init__\u001b[0;34m(self, params, shared)\u001b[0m\n\u001b[1;32m     85\u001b[0m \u001b[38;5;28mself\u001b[39m\u001b[38;5;241m.\u001b[39mtokenizer \u001b[38;5;241m=\u001b[39m BertTokenizer\u001b[38;5;241m.\u001b[39mfrom_pretrained(\n\u001b[1;32m     86\u001b[0m     params[\u001b[38;5;124m\"\u001b[39m\u001b[38;5;124mbert_model\u001b[39m\u001b[38;5;124m\"\u001b[39m], do_lower_case\u001b[38;5;241m=\u001b[39mparams[\u001b[38;5;124m\"\u001b[39m\u001b[38;5;124mlowercase\u001b[39m\u001b[38;5;124m\"\u001b[39m]\n\u001b[1;32m     87\u001b[0m )\n\u001b[1;32m     88\u001b[0m \u001b[38;5;66;03m# init model\u001b[39;00m\n\u001b[0;32m---> 89\u001b[0m \u001b[38;5;28;43mself\u001b[39;49m\u001b[38;5;241;43m.\u001b[39;49m\u001b[43mbuild_model\u001b[49m\u001b[43m(\u001b[49m\u001b[43m)\u001b[49m\n\u001b[1;32m     90\u001b[0m model_path \u001b[38;5;241m=\u001b[39m params\u001b[38;5;241m.\u001b[39mget(\u001b[38;5;124m\"\u001b[39m\u001b[38;5;124mpath_to_model\u001b[39m\u001b[38;5;124m\"\u001b[39m, \u001b[38;5;28;01mNone\u001b[39;00m)\n\u001b[1;32m     91\u001b[0m \u001b[38;5;28;01mif\u001b[39;00m model_path \u001b[38;5;129;01mis\u001b[39;00m \u001b[38;5;129;01mnot\u001b[39;00m \u001b[38;5;28;01mNone\u001b[39;00m:\n",
      "File \u001b[0;32m~/Projects/BLINK/blink/biencoder/biencoder.py:107\u001b[0m, in \u001b[0;36mBiEncoderRanker.build_model\u001b[0;34m(self)\u001b[0m\n\u001b[1;32m    106\u001b[0m \u001b[38;5;28;01mdef\u001b[39;00m \u001b[38;5;21mbuild_model\u001b[39m(\u001b[38;5;28mself\u001b[39m):\n\u001b[0;32m--> 107\u001b[0m     \u001b[38;5;28mself\u001b[39m\u001b[38;5;241m.\u001b[39mmodel \u001b[38;5;241m=\u001b[39m \u001b[43mBiEncoderModule\u001b[49m\u001b[43m(\u001b[49m\u001b[38;5;28;43mself\u001b[39;49m\u001b[38;5;241;43m.\u001b[39;49m\u001b[43mparams\u001b[49m\u001b[43m)\u001b[49m\n",
      "File \u001b[0;32m~/Projects/BLINK/blink/biencoder/biencoder.py:35\u001b[0m, in \u001b[0;36mBiEncoderModule.__init__\u001b[0;34m(self, params)\u001b[0m\n\u001b[1;32m     33\u001b[0m \u001b[38;5;28;01mdef\u001b[39;00m \u001b[38;5;21m__init__\u001b[39m(\u001b[38;5;28mself\u001b[39m, params):\n\u001b[1;32m     34\u001b[0m     \u001b[38;5;28msuper\u001b[39m(BiEncoderModule, \u001b[38;5;28mself\u001b[39m)\u001b[38;5;241m.\u001b[39m\u001b[38;5;21m__init__\u001b[39m()\n\u001b[0;32m---> 35\u001b[0m     ctxt_bert \u001b[38;5;241m=\u001b[39m \u001b[43mBertModel\u001b[49m\u001b[38;5;241;43m.\u001b[39;49m\u001b[43mfrom_pretrained\u001b[49m\u001b[43m(\u001b[49m\u001b[43mparams\u001b[49m\u001b[43m[\u001b[49m\u001b[38;5;124;43m\"\u001b[39;49m\u001b[38;5;124;43mbert_model\u001b[39;49m\u001b[38;5;124;43m\"\u001b[39;49m\u001b[43m]\u001b[49m\u001b[43m)\u001b[49m\n\u001b[1;32m     36\u001b[0m     cand_bert \u001b[38;5;241m=\u001b[39m BertModel\u001b[38;5;241m.\u001b[39mfrom_pretrained(params[\u001b[38;5;124m'\u001b[39m\u001b[38;5;124mbert_model\u001b[39m\u001b[38;5;124m'\u001b[39m])\n\u001b[1;32m     37\u001b[0m     \u001b[38;5;28mself\u001b[39m\u001b[38;5;241m.\u001b[39mcontext_encoder \u001b[38;5;241m=\u001b[39m BertEncoder(\n\u001b[1;32m     38\u001b[0m         ctxt_bert,\n\u001b[1;32m     39\u001b[0m         params[\u001b[38;5;124m\"\u001b[39m\u001b[38;5;124mout_dim\u001b[39m\u001b[38;5;124m\"\u001b[39m],\n\u001b[1;32m     40\u001b[0m         layer_pulled\u001b[38;5;241m=\u001b[39mparams[\u001b[38;5;124m\"\u001b[39m\u001b[38;5;124mpull_from_layer\u001b[39m\u001b[38;5;124m\"\u001b[39m],\n\u001b[1;32m     41\u001b[0m         add_linear\u001b[38;5;241m=\u001b[39mparams[\u001b[38;5;124m\"\u001b[39m\u001b[38;5;124madd_linear\u001b[39m\u001b[38;5;124m\"\u001b[39m],\n\u001b[1;32m     42\u001b[0m     )\n",
      "File \u001b[0;32m/opt/anaconda-saeed/miniconda/envs/py38/lib/python3.8/site-packages/pytorch_transformers/modeling_utils.py:488\u001b[0m, in \u001b[0;36mPreTrainedModel.from_pretrained\u001b[0;34m(cls, pretrained_model_name_or_path, *model_args, **kwargs)\u001b[0m\n\u001b[1;32m    486\u001b[0m \u001b[38;5;66;03m# Load config\u001b[39;00m\n\u001b[1;32m    487\u001b[0m \u001b[38;5;28;01mif\u001b[39;00m config \u001b[38;5;129;01mis\u001b[39;00m \u001b[38;5;28;01mNone\u001b[39;00m:\n\u001b[0;32m--> 488\u001b[0m     config, model_kwargs \u001b[38;5;241m=\u001b[39m \u001b[38;5;28;43mcls\u001b[39;49m\u001b[38;5;241;43m.\u001b[39;49m\u001b[43mconfig_class\u001b[49m\u001b[38;5;241;43m.\u001b[39;49m\u001b[43mfrom_pretrained\u001b[49m\u001b[43m(\u001b[49m\n\u001b[1;32m    489\u001b[0m \u001b[43m        \u001b[49m\u001b[43mpretrained_model_name_or_path\u001b[49m\u001b[43m,\u001b[49m\u001b[43m \u001b[49m\u001b[38;5;241;43m*\u001b[39;49m\u001b[43mmodel_args\u001b[49m\u001b[43m,\u001b[49m\n\u001b[1;32m    490\u001b[0m \u001b[43m        \u001b[49m\u001b[43mcache_dir\u001b[49m\u001b[38;5;241;43m=\u001b[39;49m\u001b[43mcache_dir\u001b[49m\u001b[43m,\u001b[49m\u001b[43m \u001b[49m\u001b[43mreturn_unused_kwargs\u001b[49m\u001b[38;5;241;43m=\u001b[39;49m\u001b[38;5;28;43;01mTrue\u001b[39;49;00m\u001b[43m,\u001b[49m\n\u001b[1;32m    491\u001b[0m \u001b[43m        \u001b[49m\u001b[43mforce_download\u001b[49m\u001b[38;5;241;43m=\u001b[39;49m\u001b[43mforce_download\u001b[49m\u001b[43m,\u001b[49m\n\u001b[1;32m    492\u001b[0m \u001b[43m        \u001b[49m\u001b[38;5;241;43m*\u001b[39;49m\u001b[38;5;241;43m*\u001b[39;49m\u001b[43mkwargs\u001b[49m\n\u001b[1;32m    493\u001b[0m \u001b[43m    \u001b[49m\u001b[43m)\u001b[49m\n\u001b[1;32m    494\u001b[0m \u001b[38;5;28;01melse\u001b[39;00m:\n\u001b[1;32m    495\u001b[0m     model_kwargs \u001b[38;5;241m=\u001b[39m kwargs\n",
      "File \u001b[0;32m/opt/anaconda-saeed/miniconda/envs/py38/lib/python3.8/site-packages/pytorch_transformers/modeling_utils.py:180\u001b[0m, in \u001b[0;36mPretrainedConfig.from_pretrained\u001b[0;34m(cls, pretrained_model_name_or_path, **kwargs)\u001b[0m\n\u001b[1;32m    178\u001b[0m \u001b[38;5;66;03m# redirect to the cache, if necessary\u001b[39;00m\n\u001b[1;32m    179\u001b[0m \u001b[38;5;28;01mtry\u001b[39;00m:\n\u001b[0;32m--> 180\u001b[0m     resolved_config_file \u001b[38;5;241m=\u001b[39m \u001b[43mcached_path\u001b[49m\u001b[43m(\u001b[49m\u001b[43mconfig_file\u001b[49m\u001b[43m,\u001b[49m\u001b[43m \u001b[49m\u001b[43mcache_dir\u001b[49m\u001b[38;5;241;43m=\u001b[39;49m\u001b[43mcache_dir\u001b[49m\u001b[43m,\u001b[49m\u001b[43m \u001b[49m\u001b[43mforce_download\u001b[49m\u001b[38;5;241;43m=\u001b[39;49m\u001b[43mforce_download\u001b[49m\u001b[43m,\u001b[49m\u001b[43m \u001b[49m\u001b[43mproxies\u001b[49m\u001b[38;5;241;43m=\u001b[39;49m\u001b[43mproxies\u001b[49m\u001b[43m)\u001b[49m\n\u001b[1;32m    181\u001b[0m \u001b[38;5;28;01mexcept\u001b[39;00m \u001b[38;5;167;01mEnvironmentError\u001b[39;00m \u001b[38;5;28;01mas\u001b[39;00m e:\n\u001b[1;32m    182\u001b[0m     \u001b[38;5;28;01mif\u001b[39;00m pretrained_model_name_or_path \u001b[38;5;129;01min\u001b[39;00m \u001b[38;5;28mcls\u001b[39m\u001b[38;5;241m.\u001b[39mpretrained_config_archive_map:\n",
      "File \u001b[0;32m/opt/anaconda-saeed/miniconda/envs/py38/lib/python3.8/site-packages/pytorch_transformers/file_utils.py:118\u001b[0m, in \u001b[0;36mcached_path\u001b[0;34m(url_or_filename, cache_dir, force_download, proxies)\u001b[0m\n\u001b[1;32m    114\u001b[0m parsed \u001b[38;5;241m=\u001b[39m urlparse(url_or_filename)\n\u001b[1;32m    116\u001b[0m \u001b[38;5;28;01mif\u001b[39;00m parsed\u001b[38;5;241m.\u001b[39mscheme \u001b[38;5;129;01min\u001b[39;00m (\u001b[38;5;124m'\u001b[39m\u001b[38;5;124mhttp\u001b[39m\u001b[38;5;124m'\u001b[39m, \u001b[38;5;124m'\u001b[39m\u001b[38;5;124mhttps\u001b[39m\u001b[38;5;124m'\u001b[39m, \u001b[38;5;124m'\u001b[39m\u001b[38;5;124ms3\u001b[39m\u001b[38;5;124m'\u001b[39m):\n\u001b[1;32m    117\u001b[0m     \u001b[38;5;66;03m# URL, so get it from the cache (downloading if necessary)\u001b[39;00m\n\u001b[0;32m--> 118\u001b[0m     \u001b[38;5;28;01mreturn\u001b[39;00m \u001b[43mget_from_cache\u001b[49m\u001b[43m(\u001b[49m\u001b[43murl_or_filename\u001b[49m\u001b[43m,\u001b[49m\u001b[43m \u001b[49m\u001b[43mcache_dir\u001b[49m\u001b[38;5;241;43m=\u001b[39;49m\u001b[43mcache_dir\u001b[49m\u001b[43m,\u001b[49m\u001b[43m \u001b[49m\u001b[43mforce_download\u001b[49m\u001b[38;5;241;43m=\u001b[39;49m\u001b[43mforce_download\u001b[49m\u001b[43m,\u001b[49m\u001b[43m \u001b[49m\u001b[43mproxies\u001b[49m\u001b[38;5;241;43m=\u001b[39;49m\u001b[43mproxies\u001b[49m\u001b[43m)\u001b[49m\n\u001b[1;32m    119\u001b[0m \u001b[38;5;28;01melif\u001b[39;00m os\u001b[38;5;241m.\u001b[39mpath\u001b[38;5;241m.\u001b[39mexists(url_or_filename):\n\u001b[1;32m    120\u001b[0m     \u001b[38;5;66;03m# File, and it exists.\u001b[39;00m\n\u001b[1;32m    121\u001b[0m     \u001b[38;5;28;01mreturn\u001b[39;00m url_or_filename\n",
      "File \u001b[0;32m/opt/anaconda-saeed/miniconda/envs/py38/lib/python3.8/site-packages/pytorch_transformers/file_utils.py:211\u001b[0m, in \u001b[0;36mget_from_cache\u001b[0;34m(url, cache_dir, force_download, proxies)\u001b[0m\n\u001b[1;32m    209\u001b[0m \u001b[38;5;28;01melse\u001b[39;00m:\n\u001b[1;32m    210\u001b[0m     \u001b[38;5;28;01mtry\u001b[39;00m:\n\u001b[0;32m--> 211\u001b[0m         response \u001b[38;5;241m=\u001b[39m \u001b[43mrequests\u001b[49m\u001b[38;5;241;43m.\u001b[39;49m\u001b[43mhead\u001b[49m\u001b[43m(\u001b[49m\u001b[43murl\u001b[49m\u001b[43m,\u001b[49m\u001b[43m \u001b[49m\u001b[43mallow_redirects\u001b[49m\u001b[38;5;241;43m=\u001b[39;49m\u001b[38;5;28;43;01mTrue\u001b[39;49;00m\u001b[43m,\u001b[49m\u001b[43m \u001b[49m\u001b[43mproxies\u001b[49m\u001b[38;5;241;43m=\u001b[39;49m\u001b[43mproxies\u001b[49m\u001b[43m)\u001b[49m\n\u001b[1;32m    212\u001b[0m         \u001b[38;5;28;01mif\u001b[39;00m response\u001b[38;5;241m.\u001b[39mstatus_code \u001b[38;5;241m!=\u001b[39m \u001b[38;5;241m200\u001b[39m:\n\u001b[1;32m    213\u001b[0m             etag \u001b[38;5;241m=\u001b[39m \u001b[38;5;28;01mNone\u001b[39;00m\n",
      "File \u001b[0;32m/opt/anaconda-saeed/miniconda/envs/py38/lib/python3.8/site-packages/requests/api.py:102\u001b[0m, in \u001b[0;36mhead\u001b[0;34m(url, **kwargs)\u001b[0m\n\u001b[1;32m     91\u001b[0m \u001b[38;5;124mr\u001b[39m\u001b[38;5;124;03m\"\"\"Sends a HEAD request.\u001b[39;00m\n\u001b[1;32m     92\u001b[0m \n\u001b[1;32m     93\u001b[0m \u001b[38;5;124;03m:param url: URL for the new :class:`Request` object.\u001b[39;00m\n\u001b[0;32m   (...)\u001b[0m\n\u001b[1;32m     98\u001b[0m \u001b[38;5;124;03m:rtype: requests.Response\u001b[39;00m\n\u001b[1;32m     99\u001b[0m \u001b[38;5;124;03m\"\"\"\u001b[39;00m\n\u001b[1;32m    101\u001b[0m kwargs\u001b[38;5;241m.\u001b[39msetdefault(\u001b[38;5;124m'\u001b[39m\u001b[38;5;124mallow_redirects\u001b[39m\u001b[38;5;124m'\u001b[39m, \u001b[38;5;28;01mFalse\u001b[39;00m)\n\u001b[0;32m--> 102\u001b[0m \u001b[38;5;28;01mreturn\u001b[39;00m \u001b[43mrequest\u001b[49m\u001b[43m(\u001b[49m\u001b[38;5;124;43m'\u001b[39;49m\u001b[38;5;124;43mhead\u001b[39;49m\u001b[38;5;124;43m'\u001b[39;49m\u001b[43m,\u001b[49m\u001b[43m \u001b[49m\u001b[43murl\u001b[49m\u001b[43m,\u001b[49m\u001b[43m \u001b[49m\u001b[38;5;241;43m*\u001b[39;49m\u001b[38;5;241;43m*\u001b[39;49m\u001b[43mkwargs\u001b[49m\u001b[43m)\u001b[49m\n",
      "File \u001b[0;32m/opt/anaconda-saeed/miniconda/envs/py38/lib/python3.8/site-packages/requests/api.py:61\u001b[0m, in \u001b[0;36mrequest\u001b[0;34m(method, url, **kwargs)\u001b[0m\n\u001b[1;32m     57\u001b[0m \u001b[38;5;66;03m# By using the 'with' statement we are sure the session is closed, thus we\u001b[39;00m\n\u001b[1;32m     58\u001b[0m \u001b[38;5;66;03m# avoid leaving sockets open which can trigger a ResourceWarning in some\u001b[39;00m\n\u001b[1;32m     59\u001b[0m \u001b[38;5;66;03m# cases, and look like a memory leak in others.\u001b[39;00m\n\u001b[1;32m     60\u001b[0m \u001b[38;5;28;01mwith\u001b[39;00m sessions\u001b[38;5;241m.\u001b[39mSession() \u001b[38;5;28;01mas\u001b[39;00m session:\n\u001b[0;32m---> 61\u001b[0m     \u001b[38;5;28;01mreturn\u001b[39;00m \u001b[43msession\u001b[49m\u001b[38;5;241;43m.\u001b[39;49m\u001b[43mrequest\u001b[49m\u001b[43m(\u001b[49m\u001b[43mmethod\u001b[49m\u001b[38;5;241;43m=\u001b[39;49m\u001b[43mmethod\u001b[49m\u001b[43m,\u001b[49m\u001b[43m \u001b[49m\u001b[43murl\u001b[49m\u001b[38;5;241;43m=\u001b[39;49m\u001b[43murl\u001b[49m\u001b[43m,\u001b[49m\u001b[43m \u001b[49m\u001b[38;5;241;43m*\u001b[39;49m\u001b[38;5;241;43m*\u001b[39;49m\u001b[43mkwargs\u001b[49m\u001b[43m)\u001b[49m\n",
      "File \u001b[0;32m/opt/anaconda-saeed/miniconda/envs/py38/lib/python3.8/site-packages/requests/sessions.py:529\u001b[0m, in \u001b[0;36mSession.request\u001b[0;34m(self, method, url, params, data, headers, cookies, files, auth, timeout, allow_redirects, proxies, hooks, stream, verify, cert, json)\u001b[0m\n\u001b[1;32m    524\u001b[0m send_kwargs \u001b[38;5;241m=\u001b[39m {\n\u001b[1;32m    525\u001b[0m     \u001b[38;5;124m'\u001b[39m\u001b[38;5;124mtimeout\u001b[39m\u001b[38;5;124m'\u001b[39m: timeout,\n\u001b[1;32m    526\u001b[0m     \u001b[38;5;124m'\u001b[39m\u001b[38;5;124mallow_redirects\u001b[39m\u001b[38;5;124m'\u001b[39m: allow_redirects,\n\u001b[1;32m    527\u001b[0m }\n\u001b[1;32m    528\u001b[0m send_kwargs\u001b[38;5;241m.\u001b[39mupdate(settings)\n\u001b[0;32m--> 529\u001b[0m resp \u001b[38;5;241m=\u001b[39m \u001b[38;5;28;43mself\u001b[39;49m\u001b[38;5;241;43m.\u001b[39;49m\u001b[43msend\u001b[49m\u001b[43m(\u001b[49m\u001b[43mprep\u001b[49m\u001b[43m,\u001b[49m\u001b[43m \u001b[49m\u001b[38;5;241;43m*\u001b[39;49m\u001b[38;5;241;43m*\u001b[39;49m\u001b[43msend_kwargs\u001b[49m\u001b[43m)\u001b[49m\n\u001b[1;32m    531\u001b[0m \u001b[38;5;28;01mreturn\u001b[39;00m resp\n",
      "File \u001b[0;32m/opt/anaconda-saeed/miniconda/envs/py38/lib/python3.8/site-packages/requests/sessions.py:645\u001b[0m, in \u001b[0;36mSession.send\u001b[0;34m(self, request, **kwargs)\u001b[0m\n\u001b[1;32m    642\u001b[0m start \u001b[38;5;241m=\u001b[39m preferred_clock()\n\u001b[1;32m    644\u001b[0m \u001b[38;5;66;03m# Send the request\u001b[39;00m\n\u001b[0;32m--> 645\u001b[0m r \u001b[38;5;241m=\u001b[39m \u001b[43madapter\u001b[49m\u001b[38;5;241;43m.\u001b[39;49m\u001b[43msend\u001b[49m\u001b[43m(\u001b[49m\u001b[43mrequest\u001b[49m\u001b[43m,\u001b[49m\u001b[43m \u001b[49m\u001b[38;5;241;43m*\u001b[39;49m\u001b[38;5;241;43m*\u001b[39;49m\u001b[43mkwargs\u001b[49m\u001b[43m)\u001b[49m\n\u001b[1;32m    647\u001b[0m \u001b[38;5;66;03m# Total elapsed time of the request (approximately)\u001b[39;00m\n\u001b[1;32m    648\u001b[0m elapsed \u001b[38;5;241m=\u001b[39m preferred_clock() \u001b[38;5;241m-\u001b[39m start\n",
      "File \u001b[0;32m/opt/anaconda-saeed/miniconda/envs/py38/lib/python3.8/site-packages/requests/adapters.py:440\u001b[0m, in \u001b[0;36mHTTPAdapter.send\u001b[0;34m(self, request, stream, timeout, verify, cert, proxies)\u001b[0m\n\u001b[1;32m    438\u001b[0m \u001b[38;5;28;01mtry\u001b[39;00m:\n\u001b[1;32m    439\u001b[0m     \u001b[38;5;28;01mif\u001b[39;00m \u001b[38;5;129;01mnot\u001b[39;00m chunked:\n\u001b[0;32m--> 440\u001b[0m         resp \u001b[38;5;241m=\u001b[39m \u001b[43mconn\u001b[49m\u001b[38;5;241;43m.\u001b[39;49m\u001b[43murlopen\u001b[49m\u001b[43m(\u001b[49m\n\u001b[1;32m    441\u001b[0m \u001b[43m            \u001b[49m\u001b[43mmethod\u001b[49m\u001b[38;5;241;43m=\u001b[39;49m\u001b[43mrequest\u001b[49m\u001b[38;5;241;43m.\u001b[39;49m\u001b[43mmethod\u001b[49m\u001b[43m,\u001b[49m\n\u001b[1;32m    442\u001b[0m \u001b[43m            \u001b[49m\u001b[43murl\u001b[49m\u001b[38;5;241;43m=\u001b[39;49m\u001b[43murl\u001b[49m\u001b[43m,\u001b[49m\n\u001b[1;32m    443\u001b[0m \u001b[43m            \u001b[49m\u001b[43mbody\u001b[49m\u001b[38;5;241;43m=\u001b[39;49m\u001b[43mrequest\u001b[49m\u001b[38;5;241;43m.\u001b[39;49m\u001b[43mbody\u001b[49m\u001b[43m,\u001b[49m\n\u001b[1;32m    444\u001b[0m \u001b[43m            \u001b[49m\u001b[43mheaders\u001b[49m\u001b[38;5;241;43m=\u001b[39;49m\u001b[43mrequest\u001b[49m\u001b[38;5;241;43m.\u001b[39;49m\u001b[43mheaders\u001b[49m\u001b[43m,\u001b[49m\n\u001b[1;32m    445\u001b[0m \u001b[43m            \u001b[49m\u001b[43mredirect\u001b[49m\u001b[38;5;241;43m=\u001b[39;49m\u001b[38;5;28;43;01mFalse\u001b[39;49;00m\u001b[43m,\u001b[49m\n\u001b[1;32m    446\u001b[0m \u001b[43m            \u001b[49m\u001b[43massert_same_host\u001b[49m\u001b[38;5;241;43m=\u001b[39;49m\u001b[38;5;28;43;01mFalse\u001b[39;49;00m\u001b[43m,\u001b[49m\n\u001b[1;32m    447\u001b[0m \u001b[43m            \u001b[49m\u001b[43mpreload_content\u001b[49m\u001b[38;5;241;43m=\u001b[39;49m\u001b[38;5;28;43;01mFalse\u001b[39;49;00m\u001b[43m,\u001b[49m\n\u001b[1;32m    448\u001b[0m \u001b[43m            \u001b[49m\u001b[43mdecode_content\u001b[49m\u001b[38;5;241;43m=\u001b[39;49m\u001b[38;5;28;43;01mFalse\u001b[39;49;00m\u001b[43m,\u001b[49m\n\u001b[1;32m    449\u001b[0m \u001b[43m            \u001b[49m\u001b[43mretries\u001b[49m\u001b[38;5;241;43m=\u001b[39;49m\u001b[38;5;28;43mself\u001b[39;49m\u001b[38;5;241;43m.\u001b[39;49m\u001b[43mmax_retries\u001b[49m\u001b[43m,\u001b[49m\n\u001b[1;32m    450\u001b[0m \u001b[43m            \u001b[49m\u001b[43mtimeout\u001b[49m\u001b[38;5;241;43m=\u001b[39;49m\u001b[43mtimeout\u001b[49m\n\u001b[1;32m    451\u001b[0m \u001b[43m        \u001b[49m\u001b[43m)\u001b[49m\n\u001b[1;32m    453\u001b[0m     \u001b[38;5;66;03m# Send the request.\u001b[39;00m\n\u001b[1;32m    454\u001b[0m     \u001b[38;5;28;01melse\u001b[39;00m:\n\u001b[1;32m    455\u001b[0m         \u001b[38;5;28;01mif\u001b[39;00m \u001b[38;5;28mhasattr\u001b[39m(conn, \u001b[38;5;124m'\u001b[39m\u001b[38;5;124mproxy_pool\u001b[39m\u001b[38;5;124m'\u001b[39m):\n",
      "File \u001b[0;32m/opt/anaconda-saeed/miniconda/envs/py38/lib/python3.8/site-packages/urllib3/connectionpool.py:703\u001b[0m, in \u001b[0;36mHTTPConnectionPool.urlopen\u001b[0;34m(self, method, url, body, headers, retries, redirect, assert_same_host, timeout, pool_timeout, release_conn, chunked, body_pos, **response_kw)\u001b[0m\n\u001b[1;32m    700\u001b[0m     \u001b[38;5;28mself\u001b[39m\u001b[38;5;241m.\u001b[39m_prepare_proxy(conn)\n\u001b[1;32m    702\u001b[0m \u001b[38;5;66;03m# Make the request on the httplib connection object.\u001b[39;00m\n\u001b[0;32m--> 703\u001b[0m httplib_response \u001b[38;5;241m=\u001b[39m \u001b[38;5;28;43mself\u001b[39;49m\u001b[38;5;241;43m.\u001b[39;49m\u001b[43m_make_request\u001b[49m\u001b[43m(\u001b[49m\n\u001b[1;32m    704\u001b[0m \u001b[43m    \u001b[49m\u001b[43mconn\u001b[49m\u001b[43m,\u001b[49m\n\u001b[1;32m    705\u001b[0m \u001b[43m    \u001b[49m\u001b[43mmethod\u001b[49m\u001b[43m,\u001b[49m\n\u001b[1;32m    706\u001b[0m \u001b[43m    \u001b[49m\u001b[43murl\u001b[49m\u001b[43m,\u001b[49m\n\u001b[1;32m    707\u001b[0m \u001b[43m    \u001b[49m\u001b[43mtimeout\u001b[49m\u001b[38;5;241;43m=\u001b[39;49m\u001b[43mtimeout_obj\u001b[49m\u001b[43m,\u001b[49m\n\u001b[1;32m    708\u001b[0m \u001b[43m    \u001b[49m\u001b[43mbody\u001b[49m\u001b[38;5;241;43m=\u001b[39;49m\u001b[43mbody\u001b[49m\u001b[43m,\u001b[49m\n\u001b[1;32m    709\u001b[0m \u001b[43m    \u001b[49m\u001b[43mheaders\u001b[49m\u001b[38;5;241;43m=\u001b[39;49m\u001b[43mheaders\u001b[49m\u001b[43m,\u001b[49m\n\u001b[1;32m    710\u001b[0m \u001b[43m    \u001b[49m\u001b[43mchunked\u001b[49m\u001b[38;5;241;43m=\u001b[39;49m\u001b[43mchunked\u001b[49m\u001b[43m,\u001b[49m\n\u001b[1;32m    711\u001b[0m \u001b[43m\u001b[49m\u001b[43m)\u001b[49m\n\u001b[1;32m    713\u001b[0m \u001b[38;5;66;03m# If we're going to release the connection in ``finally:``, then\u001b[39;00m\n\u001b[1;32m    714\u001b[0m \u001b[38;5;66;03m# the response doesn't need to know about the connection. Otherwise\u001b[39;00m\n\u001b[1;32m    715\u001b[0m \u001b[38;5;66;03m# it will also try to release it and we'll have a double-release\u001b[39;00m\n\u001b[1;32m    716\u001b[0m \u001b[38;5;66;03m# mess.\u001b[39;00m\n\u001b[1;32m    717\u001b[0m response_conn \u001b[38;5;241m=\u001b[39m conn \u001b[38;5;28;01mif\u001b[39;00m \u001b[38;5;129;01mnot\u001b[39;00m release_conn \u001b[38;5;28;01melse\u001b[39;00m \u001b[38;5;28;01mNone\u001b[39;00m\n",
      "File \u001b[0;32m/opt/anaconda-saeed/miniconda/envs/py38/lib/python3.8/site-packages/urllib3/connectionpool.py:386\u001b[0m, in \u001b[0;36mHTTPConnectionPool._make_request\u001b[0;34m(self, conn, method, url, timeout, chunked, **httplib_request_kw)\u001b[0m\n\u001b[1;32m    384\u001b[0m \u001b[38;5;66;03m# Trigger any extra validation we need to do.\u001b[39;00m\n\u001b[1;32m    385\u001b[0m \u001b[38;5;28;01mtry\u001b[39;00m:\n\u001b[0;32m--> 386\u001b[0m     \u001b[38;5;28;43mself\u001b[39;49m\u001b[38;5;241;43m.\u001b[39;49m\u001b[43m_validate_conn\u001b[49m\u001b[43m(\u001b[49m\u001b[43mconn\u001b[49m\u001b[43m)\u001b[49m\n\u001b[1;32m    387\u001b[0m \u001b[38;5;28;01mexcept\u001b[39;00m (SocketTimeout, BaseSSLError) \u001b[38;5;28;01mas\u001b[39;00m e:\n\u001b[1;32m    388\u001b[0m     \u001b[38;5;66;03m# Py2 raises this as a BaseSSLError, Py3 raises it as socket timeout.\u001b[39;00m\n\u001b[1;32m    389\u001b[0m     \u001b[38;5;28mself\u001b[39m\u001b[38;5;241m.\u001b[39m_raise_timeout(err\u001b[38;5;241m=\u001b[39me, url\u001b[38;5;241m=\u001b[39murl, timeout_value\u001b[38;5;241m=\u001b[39mconn\u001b[38;5;241m.\u001b[39mtimeout)\n",
      "File \u001b[0;32m/opt/anaconda-saeed/miniconda/envs/py38/lib/python3.8/site-packages/urllib3/connectionpool.py:1040\u001b[0m, in \u001b[0;36mHTTPSConnectionPool._validate_conn\u001b[0;34m(self, conn)\u001b[0m\n\u001b[1;32m   1038\u001b[0m \u001b[38;5;66;03m# Force connect early to allow us to validate the connection.\u001b[39;00m\n\u001b[1;32m   1039\u001b[0m \u001b[38;5;28;01mif\u001b[39;00m \u001b[38;5;129;01mnot\u001b[39;00m \u001b[38;5;28mgetattr\u001b[39m(conn, \u001b[38;5;124m\"\u001b[39m\u001b[38;5;124msock\u001b[39m\u001b[38;5;124m\"\u001b[39m, \u001b[38;5;28;01mNone\u001b[39;00m):  \u001b[38;5;66;03m# AppEngine might not have  `.sock`\u001b[39;00m\n\u001b[0;32m-> 1040\u001b[0m     \u001b[43mconn\u001b[49m\u001b[38;5;241;43m.\u001b[39;49m\u001b[43mconnect\u001b[49m\u001b[43m(\u001b[49m\u001b[43m)\u001b[49m\n\u001b[1;32m   1042\u001b[0m \u001b[38;5;28;01mif\u001b[39;00m \u001b[38;5;129;01mnot\u001b[39;00m conn\u001b[38;5;241m.\u001b[39mis_verified:\n\u001b[1;32m   1043\u001b[0m     warnings\u001b[38;5;241m.\u001b[39mwarn(\n\u001b[1;32m   1044\u001b[0m         (\n\u001b[1;32m   1045\u001b[0m             \u001b[38;5;124m\"\u001b[39m\u001b[38;5;124mUnverified HTTPS request is being made to host \u001b[39m\u001b[38;5;124m'\u001b[39m\u001b[38;5;132;01m%s\u001b[39;00m\u001b[38;5;124m'\u001b[39m\u001b[38;5;124m. \u001b[39m\u001b[38;5;124m\"\u001b[39m\n\u001b[0;32m   (...)\u001b[0m\n\u001b[1;32m   1050\u001b[0m         InsecureRequestWarning,\n\u001b[1;32m   1051\u001b[0m     )\n",
      "File \u001b[0;32m/opt/anaconda-saeed/miniconda/envs/py38/lib/python3.8/site-packages/urllib3/connection.py:416\u001b[0m, in \u001b[0;36mHTTPSConnection.connect\u001b[0;34m(self)\u001b[0m\n\u001b[1;32m    407\u001b[0m \u001b[38;5;28;01mif\u001b[39;00m (\n\u001b[1;32m    408\u001b[0m     \u001b[38;5;129;01mnot\u001b[39;00m \u001b[38;5;28mself\u001b[39m\u001b[38;5;241m.\u001b[39mca_certs\n\u001b[1;32m    409\u001b[0m     \u001b[38;5;129;01mand\u001b[39;00m \u001b[38;5;129;01mnot\u001b[39;00m \u001b[38;5;28mself\u001b[39m\u001b[38;5;241m.\u001b[39mca_cert_dir\n\u001b[0;32m   (...)\u001b[0m\n\u001b[1;32m    412\u001b[0m     \u001b[38;5;129;01mand\u001b[39;00m \u001b[38;5;28mhasattr\u001b[39m(context, \u001b[38;5;124m\"\u001b[39m\u001b[38;5;124mload_default_certs\u001b[39m\u001b[38;5;124m\"\u001b[39m)\n\u001b[1;32m    413\u001b[0m ):\n\u001b[1;32m    414\u001b[0m     context\u001b[38;5;241m.\u001b[39mload_default_certs()\n\u001b[0;32m--> 416\u001b[0m \u001b[38;5;28mself\u001b[39m\u001b[38;5;241m.\u001b[39msock \u001b[38;5;241m=\u001b[39m \u001b[43mssl_wrap_socket\u001b[49m\u001b[43m(\u001b[49m\n\u001b[1;32m    417\u001b[0m \u001b[43m    \u001b[49m\u001b[43msock\u001b[49m\u001b[38;5;241;43m=\u001b[39;49m\u001b[43mconn\u001b[49m\u001b[43m,\u001b[49m\n\u001b[1;32m    418\u001b[0m \u001b[43m    \u001b[49m\u001b[43mkeyfile\u001b[49m\u001b[38;5;241;43m=\u001b[39;49m\u001b[38;5;28;43mself\u001b[39;49m\u001b[38;5;241;43m.\u001b[39;49m\u001b[43mkey_file\u001b[49m\u001b[43m,\u001b[49m\n\u001b[1;32m    419\u001b[0m \u001b[43m    \u001b[49m\u001b[43mcertfile\u001b[49m\u001b[38;5;241;43m=\u001b[39;49m\u001b[38;5;28;43mself\u001b[39;49m\u001b[38;5;241;43m.\u001b[39;49m\u001b[43mcert_file\u001b[49m\u001b[43m,\u001b[49m\n\u001b[1;32m    420\u001b[0m \u001b[43m    \u001b[49m\u001b[43mkey_password\u001b[49m\u001b[38;5;241;43m=\u001b[39;49m\u001b[38;5;28;43mself\u001b[39;49m\u001b[38;5;241;43m.\u001b[39;49m\u001b[43mkey_password\u001b[49m\u001b[43m,\u001b[49m\n\u001b[1;32m    421\u001b[0m \u001b[43m    \u001b[49m\u001b[43mca_certs\u001b[49m\u001b[38;5;241;43m=\u001b[39;49m\u001b[38;5;28;43mself\u001b[39;49m\u001b[38;5;241;43m.\u001b[39;49m\u001b[43mca_certs\u001b[49m\u001b[43m,\u001b[49m\n\u001b[1;32m    422\u001b[0m \u001b[43m    \u001b[49m\u001b[43mca_cert_dir\u001b[49m\u001b[38;5;241;43m=\u001b[39;49m\u001b[38;5;28;43mself\u001b[39;49m\u001b[38;5;241;43m.\u001b[39;49m\u001b[43mca_cert_dir\u001b[49m\u001b[43m,\u001b[49m\n\u001b[1;32m    423\u001b[0m \u001b[43m    \u001b[49m\u001b[43mca_cert_data\u001b[49m\u001b[38;5;241;43m=\u001b[39;49m\u001b[38;5;28;43mself\u001b[39;49m\u001b[38;5;241;43m.\u001b[39;49m\u001b[43mca_cert_data\u001b[49m\u001b[43m,\u001b[49m\n\u001b[1;32m    424\u001b[0m \u001b[43m    \u001b[49m\u001b[43mserver_hostname\u001b[49m\u001b[38;5;241;43m=\u001b[39;49m\u001b[43mserver_hostname\u001b[49m\u001b[43m,\u001b[49m\n\u001b[1;32m    425\u001b[0m \u001b[43m    \u001b[49m\u001b[43mssl_context\u001b[49m\u001b[38;5;241;43m=\u001b[39;49m\u001b[43mcontext\u001b[49m\u001b[43m,\u001b[49m\n\u001b[1;32m    426\u001b[0m \u001b[43m    \u001b[49m\u001b[43mtls_in_tls\u001b[49m\u001b[38;5;241;43m=\u001b[39;49m\u001b[43mtls_in_tls\u001b[49m\u001b[43m,\u001b[49m\n\u001b[1;32m    427\u001b[0m \u001b[43m\u001b[49m\u001b[43m)\u001b[49m\n\u001b[1;32m    429\u001b[0m \u001b[38;5;66;03m# If we're using all defaults and the connection\u001b[39;00m\n\u001b[1;32m    430\u001b[0m \u001b[38;5;66;03m# is TLSv1 or TLSv1.1 we throw a DeprecationWarning\u001b[39;00m\n\u001b[1;32m    431\u001b[0m \u001b[38;5;66;03m# for the host.\u001b[39;00m\n\u001b[1;32m    432\u001b[0m \u001b[38;5;28;01mif\u001b[39;00m (\n\u001b[1;32m    433\u001b[0m     default_ssl_context\n\u001b[1;32m    434\u001b[0m     \u001b[38;5;129;01mand\u001b[39;00m \u001b[38;5;28mself\u001b[39m\u001b[38;5;241m.\u001b[39mssl_version \u001b[38;5;129;01mis\u001b[39;00m \u001b[38;5;28;01mNone\u001b[39;00m\n\u001b[1;32m    435\u001b[0m     \u001b[38;5;129;01mand\u001b[39;00m \u001b[38;5;28mhasattr\u001b[39m(\u001b[38;5;28mself\u001b[39m\u001b[38;5;241m.\u001b[39msock, \u001b[38;5;124m\"\u001b[39m\u001b[38;5;124mversion\u001b[39m\u001b[38;5;124m\"\u001b[39m)\n\u001b[1;32m    436\u001b[0m     \u001b[38;5;129;01mand\u001b[39;00m \u001b[38;5;28mself\u001b[39m\u001b[38;5;241m.\u001b[39msock\u001b[38;5;241m.\u001b[39mversion() \u001b[38;5;129;01min\u001b[39;00m {\u001b[38;5;124m\"\u001b[39m\u001b[38;5;124mTLSv1\u001b[39m\u001b[38;5;124m\"\u001b[39m, \u001b[38;5;124m\"\u001b[39m\u001b[38;5;124mTLSv1.1\u001b[39m\u001b[38;5;124m\"\u001b[39m}\n\u001b[1;32m    437\u001b[0m ):\n",
      "File \u001b[0;32m/opt/anaconda-saeed/miniconda/envs/py38/lib/python3.8/site-packages/urllib3/util/ssl_.py:449\u001b[0m, in \u001b[0;36mssl_wrap_socket\u001b[0;34m(sock, keyfile, certfile, cert_reqs, ca_certs, server_hostname, ssl_version, ciphers, ssl_context, ca_cert_dir, key_password, ca_cert_data, tls_in_tls)\u001b[0m\n\u001b[1;32m    437\u001b[0m     warnings\u001b[38;5;241m.\u001b[39mwarn(\n\u001b[1;32m    438\u001b[0m         \u001b[38;5;124m\"\u001b[39m\u001b[38;5;124mAn HTTPS request has been made, but the SNI (Server Name \u001b[39m\u001b[38;5;124m\"\u001b[39m\n\u001b[1;32m    439\u001b[0m         \u001b[38;5;124m\"\u001b[39m\u001b[38;5;124mIndication) extension to TLS is not available on this platform. \u001b[39m\u001b[38;5;124m\"\u001b[39m\n\u001b[0;32m   (...)\u001b[0m\n\u001b[1;32m    445\u001b[0m         SNIMissingWarning,\n\u001b[1;32m    446\u001b[0m     )\n\u001b[1;32m    448\u001b[0m \u001b[38;5;28;01mif\u001b[39;00m send_sni:\n\u001b[0;32m--> 449\u001b[0m     ssl_sock \u001b[38;5;241m=\u001b[39m \u001b[43m_ssl_wrap_socket_impl\u001b[49m\u001b[43m(\u001b[49m\n\u001b[1;32m    450\u001b[0m \u001b[43m        \u001b[49m\u001b[43msock\u001b[49m\u001b[43m,\u001b[49m\u001b[43m \u001b[49m\u001b[43mcontext\u001b[49m\u001b[43m,\u001b[49m\u001b[43m \u001b[49m\u001b[43mtls_in_tls\u001b[49m\u001b[43m,\u001b[49m\u001b[43m \u001b[49m\u001b[43mserver_hostname\u001b[49m\u001b[38;5;241;43m=\u001b[39;49m\u001b[43mserver_hostname\u001b[49m\n\u001b[1;32m    451\u001b[0m \u001b[43m    \u001b[49m\u001b[43m)\u001b[49m\n\u001b[1;32m    452\u001b[0m \u001b[38;5;28;01melse\u001b[39;00m:\n\u001b[1;32m    453\u001b[0m     ssl_sock \u001b[38;5;241m=\u001b[39m _ssl_wrap_socket_impl(sock, context, tls_in_tls)\n",
      "File \u001b[0;32m/opt/anaconda-saeed/miniconda/envs/py38/lib/python3.8/site-packages/urllib3/util/ssl_.py:493\u001b[0m, in \u001b[0;36m_ssl_wrap_socket_impl\u001b[0;34m(sock, ssl_context, tls_in_tls, server_hostname)\u001b[0m\n\u001b[1;32m    490\u001b[0m     \u001b[38;5;28;01mreturn\u001b[39;00m SSLTransport(sock, ssl_context, server_hostname)\n\u001b[1;32m    492\u001b[0m \u001b[38;5;28;01mif\u001b[39;00m server_hostname:\n\u001b[0;32m--> 493\u001b[0m     \u001b[38;5;28;01mreturn\u001b[39;00m \u001b[43mssl_context\u001b[49m\u001b[38;5;241;43m.\u001b[39;49m\u001b[43mwrap_socket\u001b[49m\u001b[43m(\u001b[49m\u001b[43msock\u001b[49m\u001b[43m,\u001b[49m\u001b[43m \u001b[49m\u001b[43mserver_hostname\u001b[49m\u001b[38;5;241;43m=\u001b[39;49m\u001b[43mserver_hostname\u001b[49m\u001b[43m)\u001b[49m\n\u001b[1;32m    494\u001b[0m \u001b[38;5;28;01melse\u001b[39;00m:\n\u001b[1;32m    495\u001b[0m     \u001b[38;5;28;01mreturn\u001b[39;00m ssl_context\u001b[38;5;241m.\u001b[39mwrap_socket(sock)\n",
      "File \u001b[0;32m/opt/anaconda-saeed/miniconda/envs/py38/lib/python3.8/ssl.py:500\u001b[0m, in \u001b[0;36mSSLContext.wrap_socket\u001b[0;34m(self, sock, server_side, do_handshake_on_connect, suppress_ragged_eofs, server_hostname, session)\u001b[0m\n\u001b[1;32m    494\u001b[0m \u001b[38;5;28;01mdef\u001b[39;00m \u001b[38;5;21mwrap_socket\u001b[39m(\u001b[38;5;28mself\u001b[39m, sock, server_side\u001b[38;5;241m=\u001b[39m\u001b[38;5;28;01mFalse\u001b[39;00m,\n\u001b[1;32m    495\u001b[0m                 do_handshake_on_connect\u001b[38;5;241m=\u001b[39m\u001b[38;5;28;01mTrue\u001b[39;00m,\n\u001b[1;32m    496\u001b[0m                 suppress_ragged_eofs\u001b[38;5;241m=\u001b[39m\u001b[38;5;28;01mTrue\u001b[39;00m,\n\u001b[1;32m    497\u001b[0m                 server_hostname\u001b[38;5;241m=\u001b[39m\u001b[38;5;28;01mNone\u001b[39;00m, session\u001b[38;5;241m=\u001b[39m\u001b[38;5;28;01mNone\u001b[39;00m):\n\u001b[1;32m    498\u001b[0m     \u001b[38;5;66;03m# SSLSocket class handles server_hostname encoding before it calls\u001b[39;00m\n\u001b[1;32m    499\u001b[0m     \u001b[38;5;66;03m# ctx._wrap_socket()\u001b[39;00m\n\u001b[0;32m--> 500\u001b[0m     \u001b[38;5;28;01mreturn\u001b[39;00m \u001b[38;5;28;43mself\u001b[39;49m\u001b[38;5;241;43m.\u001b[39;49m\u001b[43msslsocket_class\u001b[49m\u001b[38;5;241;43m.\u001b[39;49m\u001b[43m_create\u001b[49m\u001b[43m(\u001b[49m\n\u001b[1;32m    501\u001b[0m \u001b[43m        \u001b[49m\u001b[43msock\u001b[49m\u001b[38;5;241;43m=\u001b[39;49m\u001b[43msock\u001b[49m\u001b[43m,\u001b[49m\n\u001b[1;32m    502\u001b[0m \u001b[43m        \u001b[49m\u001b[43mserver_side\u001b[49m\u001b[38;5;241;43m=\u001b[39;49m\u001b[43mserver_side\u001b[49m\u001b[43m,\u001b[49m\n\u001b[1;32m    503\u001b[0m \u001b[43m        \u001b[49m\u001b[43mdo_handshake_on_connect\u001b[49m\u001b[38;5;241;43m=\u001b[39;49m\u001b[43mdo_handshake_on_connect\u001b[49m\u001b[43m,\u001b[49m\n\u001b[1;32m    504\u001b[0m \u001b[43m        \u001b[49m\u001b[43msuppress_ragged_eofs\u001b[49m\u001b[38;5;241;43m=\u001b[39;49m\u001b[43msuppress_ragged_eofs\u001b[49m\u001b[43m,\u001b[49m\n\u001b[1;32m    505\u001b[0m \u001b[43m        \u001b[49m\u001b[43mserver_hostname\u001b[49m\u001b[38;5;241;43m=\u001b[39;49m\u001b[43mserver_hostname\u001b[49m\u001b[43m,\u001b[49m\n\u001b[1;32m    506\u001b[0m \u001b[43m        \u001b[49m\u001b[43mcontext\u001b[49m\u001b[38;5;241;43m=\u001b[39;49m\u001b[38;5;28;43mself\u001b[39;49m\u001b[43m,\u001b[49m\n\u001b[1;32m    507\u001b[0m \u001b[43m        \u001b[49m\u001b[43msession\u001b[49m\u001b[38;5;241;43m=\u001b[39;49m\u001b[43msession\u001b[49m\n\u001b[1;32m    508\u001b[0m \u001b[43m    \u001b[49m\u001b[43m)\u001b[49m\n",
      "File \u001b[0;32m/opt/anaconda-saeed/miniconda/envs/py38/lib/python3.8/ssl.py:1040\u001b[0m, in \u001b[0;36mSSLSocket._create\u001b[0;34m(cls, sock, server_side, do_handshake_on_connect, suppress_ragged_eofs, server_hostname, context, session)\u001b[0m\n\u001b[1;32m   1037\u001b[0m         \u001b[38;5;28;01mif\u001b[39;00m timeout \u001b[38;5;241m==\u001b[39m \u001b[38;5;241m0.0\u001b[39m:\n\u001b[1;32m   1038\u001b[0m             \u001b[38;5;66;03m# non-blocking\u001b[39;00m\n\u001b[1;32m   1039\u001b[0m             \u001b[38;5;28;01mraise\u001b[39;00m \u001b[38;5;167;01mValueError\u001b[39;00m(\u001b[38;5;124m\"\u001b[39m\u001b[38;5;124mdo_handshake_on_connect should not be specified for non-blocking sockets\u001b[39m\u001b[38;5;124m\"\u001b[39m)\n\u001b[0;32m-> 1040\u001b[0m         \u001b[38;5;28;43mself\u001b[39;49m\u001b[38;5;241;43m.\u001b[39;49m\u001b[43mdo_handshake\u001b[49m\u001b[43m(\u001b[49m\u001b[43m)\u001b[49m\n\u001b[1;32m   1041\u001b[0m \u001b[38;5;28;01mexcept\u001b[39;00m (\u001b[38;5;167;01mOSError\u001b[39;00m, \u001b[38;5;167;01mValueError\u001b[39;00m):\n\u001b[1;32m   1042\u001b[0m     \u001b[38;5;28mself\u001b[39m\u001b[38;5;241m.\u001b[39mclose()\n",
      "File \u001b[0;32m/opt/anaconda-saeed/miniconda/envs/py38/lib/python3.8/ssl.py:1309\u001b[0m, in \u001b[0;36mSSLSocket.do_handshake\u001b[0;34m(self, block)\u001b[0m\n\u001b[1;32m   1307\u001b[0m     \u001b[38;5;28;01mif\u001b[39;00m timeout \u001b[38;5;241m==\u001b[39m \u001b[38;5;241m0.0\u001b[39m \u001b[38;5;129;01mand\u001b[39;00m block:\n\u001b[1;32m   1308\u001b[0m         \u001b[38;5;28mself\u001b[39m\u001b[38;5;241m.\u001b[39msettimeout(\u001b[38;5;28;01mNone\u001b[39;00m)\n\u001b[0;32m-> 1309\u001b[0m     \u001b[38;5;28;43mself\u001b[39;49m\u001b[38;5;241;43m.\u001b[39;49m\u001b[43m_sslobj\u001b[49m\u001b[38;5;241;43m.\u001b[39;49m\u001b[43mdo_handshake\u001b[49m\u001b[43m(\u001b[49m\u001b[43m)\u001b[49m\n\u001b[1;32m   1310\u001b[0m \u001b[38;5;28;01mfinally\u001b[39;00m:\n\u001b[1;32m   1311\u001b[0m     \u001b[38;5;28mself\u001b[39m\u001b[38;5;241m.\u001b[39msettimeout(timeout)\n",
      "\u001b[0;31mKeyboardInterrupt\u001b[0m: "
     ]
    }
   ],
   "source": [
    "import blink.main_dense as main_dense\n",
    "import argparse\n",
    "\n",
    "models_path = \"/mnt/BIG-HDD-STORAGE/ebi/arxiv/processed/Models/models/\" # the path where you stored the BLINK models\n",
    "\n",
    "config = {\n",
    "    \"test_entities\": None,\n",
    "    \"test_mentions\": None,\n",
    "    \"interactive\": False,\n",
    "    \"top_k\": 5,\n",
    "    \"biencoder_model\": models_path+\"biencoder_wiki_large.bin\",\n",
    "    \"biencoder_config\": models_path+\"biencoder_wiki_large.json\",\n",
    "    \"entity_catalogue\": models_path+\"entity.jsonl\",\n",
    "    \"entity_encoding\": models_path+\"all_entities_large.t7\",\n",
    "    \"crossencoder_model\": models_path+\"crossencoder_wiki_large.bin\",\n",
    "    \"crossencoder_config\": models_path+\"crossencoder_wiki_large.json\",\n",
    "    \"fast\": False, # set this to be true if speed is a concern\n",
    "    \"output_path\": \"logs/\", # logging directory\n",
    "    \"faiss_index\": \"hnsw\",\n",
    "    \"index_path\": models_path+\"faiss_hnsw_index.pkl\"\n",
    "}\n",
    "\n",
    "args = argparse.Namespace(**config)\n",
    "\n",
    "models = main_dense.load_models(args, logger=None)"
   ]
  },
  {
   "cell_type": "code",
   "execution_count": 4,
   "id": "65ff3666",
   "metadata": {},
   "outputs": [],
   "source": [
    "from bs4 import BeautifulSoup\n",
    "from markdown import markdown"
   ]
  },
  {
   "cell_type": "code",
   "execution_count": 5,
   "id": "6b2ae74a",
   "metadata": {},
   "outputs": [],
   "source": [
    "file = open(\"/home/ext.packetwerk.com/saeed.torabzadeh/Projects/BLINK/blink/myKB.jsonl\")\n",
    "entity_list = []\n",
    "for line in file:\n",
    "    line_dict = json.loads(line)\n",
    "    html = markdown(line_dict['text'])\n",
    "    text = ''.join(BeautifulSoup(html).findAll(text=True))\n",
    "    line_dict['text'] = text\n",
    "    entity_list.append(line_dict)"
   ]
  },
  {
   "cell_type": "code",
   "execution_count": 6,
   "id": "c1a62278",
   "metadata": {},
   "outputs": [
    {
     "data": {
      "text/plain": [
       "'Zero-shot video object segmentation (VOS) is a challenging task that consists on segmenting and tracking multiple moving objects within a video fully automatically, without any manual initialization.'"
      ]
     },
     "execution_count": 6,
     "metadata": {},
     "output_type": "execute_result"
    }
   ],
   "source": [
    "text"
   ]
  },
  {
   "cell_type": "code",
   "execution_count": 7,
   "id": "285d1299",
   "metadata": {},
   "outputs": [],
   "source": [
    "entity_list = []\n",
    "line_dict = {\"text\": \"**Multi-Document Summarization** is a process of representing a set of documents with a short piece of text by capturing the relevant information and filtering out the redundant information. Two prominent approaches to Multi-Document Summarization are extractive and abstractive summarization. Extractive summarization systems aim to extract salient snippets, sentences or passages from documents, while abstractive summarization systems aim to concisely paraphrase the content of the documents.\\r\\n\\r\\n\\r\\n<span class=\\\"description-source\\\">Source: [Multi-Document Summarization using Distributed Bag-of-Words Model ](https://arxiv.org/abs/1710.02745)</span>\", \"idx\": \"TASK_multi-document-summarization\", \"title\": \"Multi-Document Summarization\", \"entity\": \"Multi-Document Summarization\"}\n",
    "html = markdown(line_dict['text'])\n",
    "text = ''.join(BeautifulSoup(html).findAll(text=True))\n",
    "line_dict['text'] = text\n",
    "entity_list.append(line_dict)"
   ]
  },
  {
   "cell_type": "code",
   "execution_count": 8,
   "id": "c1bd0360",
   "metadata": {},
   "outputs": [
    {
     "data": {
      "text/plain": [
       "'Multi-Document Summarization is a process of representing a set of documents with a short piece of text by capturing the relevant information and filtering out the redundant information. Two prominent approaches to Multi-Document Summarization are extractive and abstractive summarization. Extractive summarization systems aim to extract salient snippets, sentences or passages from documents, while abstractive summarization systems aim to concisely paraphrase the content of the documents.\\nSource: Multi-Document Summarization using Distributed Bag-of-Words Model '"
      ]
     },
     "execution_count": 8,
     "metadata": {},
     "output_type": "execute_result"
    }
   ],
   "source": [
    "text\n"
   ]
  },
  {
   "cell_type": "code",
   "execution_count": 11,
   "id": "6d09bff7",
   "metadata": {},
   "outputs": [
    {
     "name": "stdout",
     "output_type": "stream",
     "text": [
      "input_ids [101, 1, 4800, 1011, 6254, 7680, 7849, 3989, 2, 4800, 1011, 6254, 7680, 7849, 3989, 2003, 1037, 2832, 1997, 5052, 1037, 2275, 1997, 5491, 2007, 1037, 2460, 3538, 1997, 3793, 2011, 102]\n",
      "max_seq_length 32\n"
     ]
    },
    {
     "name": "stderr",
     "output_type": "stream",
     "text": [
      "100%|████████████████████████████████████████████████████████████████████████████████████████████████████████████████████████████████████████████████████████| 1/1 [00:00<00:00,  6.47it/s]\n",
      "100%|███████████████████████████████████████████████████████████████████████████████████████████████████████████████████████████████████████████████████████| 1/1 [00:00<00:00, 405.80it/s]"
     ]
    },
    {
     "name": "stdout",
     "output_type": "stream",
     "text": [
      "input_ids [101, 1, 4800, 1011, 6254, 7680, 7849, 3989, 2, 4800, 1011, 6254, 7680, 7849, 3989, 2003, 1037, 2832, 1997, 5052, 1037, 2275, 1997, 5491, 2007, 1037, 2460, 3538, 1997, 3793, 2011, 102]\n",
      "max_seq_length 32\n",
      "1/1 \r"
     ]
    },
    {
     "name": "stderr",
     "output_type": "stream",
     "text": [
      "\n",
      "Evaluation: 100%|████████████████████████████████████████████████████████████████████████████████████████████████████████████████████████████████████████████| 1/1 [00:00<00:00,  8.98it/s]\n"
     ]
    }
   ],
   "source": [
    "data_to_link = []\n",
    "for counter, item in enumerate(entity_list):\n",
    "    data_to_link.append({\n",
    "                            'id': counter,\n",
    "                            'label': 'unknown',\n",
    "                            'label_id': -1,\n",
    "                            'context_left': '', \n",
    "                            'mention': item['title'].lower(), \n",
    "                            'context_right': item['text'].lower(), \n",
    "                        })\n",
    "_, _, _, _, _, predictions, scores, = main_dense.run(args, None, *models, test_data=data_to_link)"
   ]
  },
  {
   "cell_type": "code",
   "execution_count": 7,
   "id": "2821e66d",
   "metadata": {},
   "outputs": [
    {
     "data": {
      "text/plain": [
       "800"
      ]
     },
     "execution_count": 7,
     "metadata": {},
     "output_type": "execute_result"
    }
   ],
   "source": [
    "len(data_to_link)"
   ]
  },
  {
   "cell_type": "code",
   "execution_count": 12,
   "id": "4942fbed",
   "metadata": {},
   "outputs": [
    {
     "data": {
      "text/plain": [
       "[['Multi-document summarization',\n",
       "  'Automatic summarization',\n",
       "  'Multiple document interface',\n",
       "  'Multicommunicating',\n",
       "  'Multi-Edit']]"
      ]
     },
     "execution_count": 12,
     "metadata": {},
     "output_type": "execute_result"
    }
   ],
   "source": [
    "predictions"
   ]
  },
  {
   "cell_type": "code",
   "execution_count": 13,
   "id": "de0b820f",
   "metadata": {},
   "outputs": [
    {
     "data": {
      "text/plain": [
       "[[12.20347, -3.457057, -9.534084, -10.771222, -11.210307]]"
      ]
     },
     "execution_count": 13,
     "metadata": {},
     "output_type": "execute_result"
    }
   ],
   "source": [
    "scores"
   ]
  },
  {
   "cell_type": "code",
   "execution_count": 10,
   "id": "cb2c616d",
   "metadata": {},
   "outputs": [
    {
     "data": {
      "text/plain": [
       "[[12.20347, -3.457057, -9.534084, -10.771222, -11.210307]]"
      ]
     },
     "execution_count": 10,
     "metadata": {},
     "output_type": "execute_result"
    }
   ],
   "source": [
    "scores"
   ]
  },
  {
   "cell_type": "code",
   "execution_count": 33,
   "id": "1e1ebf89",
   "metadata": {},
   "outputs": [],
   "source": [
    "all_entries = json.load(open('all.json'))"
   ]
  },
  {
   "cell_type": "code",
   "execution_count": 58,
   "id": "15e4233f",
   "metadata": {},
   "outputs": [],
   "source": [
    "probable_entries_to_merge = []"
   ]
  },
  {
   "cell_type": "code",
   "execution_count": 52,
   "id": "3ae4c9c4",
   "metadata": {},
   "outputs": [
    {
     "data": {
      "text/plain": [
       "505"
      ]
     },
     "execution_count": 52,
     "metadata": {},
     "output_type": "execute_result"
    }
   ],
   "source": [
    "len(probable_entries_to_merge)"
   ]
  },
  {
   "cell_type": "code",
   "execution_count": 36,
   "id": "4fec90ef",
   "metadata": {},
   "outputs": [],
   "source": [
    "file = open(\"/home/ext.packetwerk.com/saeed.torabzadeh/Projects/BLINK/blink/find_overlap_results.pckl\",'rb')\n",
    "object_file = pickle.load(file)"
   ]
  },
  {
   "cell_type": "code",
   "execution_count": 4,
   "id": "97621f40",
   "metadata": {},
   "outputs": [],
   "source": [
    "file = open(\"/home/ext.packetwerk.com/saeed.torabzadeh/Projects/BLINK/blink/find_overlap_results-temp.pckl\",'rb')\n",
    "object_file = pickle.load(file)"
   ]
  },
  {
   "cell_type": "code",
   "execution_count": 6,
   "id": "3ef77e91",
   "metadata": {},
   "outputs": [
    {
     "data": {
      "text/plain": [
       "[['Multi-document summarization',\n",
       "  'Automatic summarization',\n",
       "  'Multiple document interface',\n",
       "  'Multicommunicating',\n",
       "  'Multi-Edit']]"
      ]
     },
     "execution_count": 6,
     "metadata": {},
     "output_type": "execute_result"
    }
   ],
   "source": [
    "object_file[3]"
   ]
  },
  {
   "cell_type": "code",
   "execution_count": 7,
   "id": "e98559c7",
   "metadata": {},
   "outputs": [
    {
     "data": {
      "text/plain": [
       "[[3.475875, 2.7998025, 1.504757, -2.5257509, -2.8519585]]"
      ]
     },
     "execution_count": 7,
     "metadata": {},
     "output_type": "execute_result"
    }
   ],
   "source": [
    "object_file[4]"
   ]
  },
  {
   "cell_type": "code",
   "execution_count": 8,
   "id": "5449c7d4",
   "metadata": {},
   "outputs": [],
   "source": [
    "file = open(\"/home/ext.packetwerk.com/saeed.torabzadeh/Projects/BLINK/blink/find_overlap_results-temp.pckl\",'rb')\n",
    "object_file = pickle.load(file)"
   ]
  },
  {
   "cell_type": "code",
   "execution_count": 9,
   "id": "b404eed9",
   "metadata": {},
   "outputs": [
    {
     "data": {
      "text/plain": [
       "[['Multi-document summarization',\n",
       "  'Automatic summarization',\n",
       "  'Multiple document interface',\n",
       "  'Multicommunicating',\n",
       "  'Multi-Edit']]"
      ]
     },
     "execution_count": 9,
     "metadata": {},
     "output_type": "execute_result"
    }
   ],
   "source": [
    "object_file[3]"
   ]
  },
  {
   "cell_type": "code",
   "execution_count": 10,
   "id": "068ecf97",
   "metadata": {},
   "outputs": [
    {
     "data": {
      "text/plain": [
       "[[3.475875, 2.7998025, 1.504757, -2.5257509, -2.8519585]]"
      ]
     },
     "execution_count": 10,
     "metadata": {},
     "output_type": "execute_result"
    }
   ],
   "source": [
    "object_file[4]"
   ]
  },
  {
   "cell_type": "code",
   "execution_count": 59,
   "id": "351e0da1",
   "metadata": {},
   "outputs": [],
   "source": [
    "c = 0\n",
    "for counter, item in enumerate(zip(predictions, scores)):\n",
    "    if(item[1][0] > 0):\n",
    "#         arr = [i for i in zip(item[0], item[1])]\n",
    "        mention = data_to_link[counter]['mention']\n",
    "        corresponding_entry = [i for i in all_entries if 'full_name' in i and i['full_name'] and i['full_name'].lower() == mention.lower() or 'name' in i and i['name'] and i['name'].lower() == mention.lower()]\n",
    "        if(len(corresponding_entry) > 0):\n",
    "            probable_entries_to_merge.append(corresponding_entry[0])\n",
    "            probable_wikipedia = item[0][0]\n",
    "            probable_entries_to_merge[-1]['probable_wikipedia'] = probable_wikipedia\n",
    "            probable_entries_to_merge[-1]['score'] = str(item[1][0])\n",
    "            wiki_id = object_file[0][probable_wikipedia]\n",
    "            probable_entries_to_merge[-1]['probable_description'] = object_file[2][wiki_id]\n",
    "        else:\n",
    "            print(mention)\n",
    "            break"
   ]
  },
  {
   "cell_type": "code",
   "execution_count": 60,
   "id": "986448fa",
   "metadata": {},
   "outputs": [
    {
     "data": {
      "text/plain": [
       "{'id': 'HYPERPARAMETER_epoch',\n",
       " 'name': 'epoch',\n",
       " 'also_known_as': ['Number of iterations'],\n",
       " 'description': 'An epoch describes the number of times the algorithm sees the entire data set. So, each time the algorithm has seen all samples in the dataset, an epoch has been completed.',\n",
       " 'type': 'Hyperparameter',\n",
       " 'probable_wikipedia': 'Epoch',\n",
       " 'score': '8.283784',\n",
       " 'probable_description': ' An epoch, for the purposes of chronology and periodization, is an instant in time chosen as the origin of a particular calendar era. The \"epoch\" serves as a reference point from which time is measured.  The moment of epoch is usually decided by congruity, or by following conventions understood from the epoch in question. The epoch moment or date is usually defined from a specific, clear event of change, \"epoch event\". In a more gradual change, a deciding moment is chosen when the \"epoch criterion\" was reached. '}"
      ]
     },
     "execution_count": 60,
     "metadata": {},
     "output_type": "execute_result"
    }
   ],
   "source": [
    "probable_entries_to_merge[0]"
   ]
  },
  {
   "cell_type": "code",
   "execution_count": 61,
   "id": "0477593f",
   "metadata": {},
   "outputs": [],
   "source": [
    "with open('probable_entries_to_merge.json', 'w') as f_handler:\n",
    "    json.dump(probable_entries_to_merge, f_handler, indent = 4)"
   ]
  },
  {
   "cell_type": "code",
   "execution_count": 5,
   "id": "3bcbedf0",
   "metadata": {},
   "outputs": [],
   "source": [
    "base_dir = \"/mnt/BIG-HDD-STORAGE/ebi/arxiv/processed\"\n",
    "triples_dir = f\"{base_dir}/triples\""
   ]
  },
  {
   "cell_type": "code",
   "execution_count": null,
   "id": "4e6e2799",
   "metadata": {},
   "outputs": [],
   "source": []
  },
  {
   "cell_type": "code",
   "execution_count": 6,
   "id": "17857e8e",
   "metadata": {},
   "outputs": [],
   "source": [
    "def prepare_data_to_link(triple_file_dict, filename):\n",
    "    data_to_link = []\n",
    "    for sub_section in triple_file_dict:\n",
    "        if \"entities_info\" in sub_section:\n",
    "            for entity_info in sub_section[\"entities_info\"]:\n",
    "                if entity_info[\"type\"] not in [\"Reference\", \"Code\", \"Number\", \"Ost\", \"Feature\"]:\n",
    "                    bounds = sorted(entity_info['bounds'], key=lambda item: item[1] - item[0] ,reverse=True)\n",
    "                    bound = bounds[0]\n",
    "                    data_to_link.append({\n",
    "                        'id': f'{filename}-{entity_info[\"key\"]}',\n",
    "                        'label': 'unknown',\n",
    "                        'label_id': -1,\n",
    "                        'context_left': ' '.join(sub_section[\"tokens\"][:bound[0]]).lower(),\n",
    "                        'mention': ' '.join(sub_section[\"tokens\"][bound[0]:bound[1]]).lower(),\n",
    "                        'context_right': ' '.join(sub_section[\"tokens\"][bound[1]:]).lower(),\n",
    "                    })\n",
    "    _, _, _, _, _, predictions, scores, = main_dense.run(args, None, *models, test_data=data_to_link)\n",
    "    for dtl, prediction, score in zip(data_to_link, predictions, scores):\n",
    "        if(score[0] > 0):\n",
    "            print(dtl['mention'], prediction[0], score[0])"
   ]
  },
  {
   "cell_type": "code",
   "execution_count": 7,
   "id": "05736b79",
   "metadata": {},
   "outputs": [],
   "source": [
    "import time"
   ]
  },
  {
   "cell_type": "code",
   "execution_count": 9,
   "id": "f304c018",
   "metadata": {},
   "outputs": [
    {
     "name": "stderr",
     "output_type": "stream",
     "text": [
      "  0%|                                                                                                            | 0/211241 [00:00<?, ?it/s]\n",
      "  0%|                                                                                                                 | 0/9 [00:00<?, ?it/s]\u001b[A\n",
      " 22%|███████████████████████▎                                                                                 | 2/9 [00:00<00:00, 11.22it/s]\u001b[A\n",
      " 44%|██████████████████████████████████████████████▋                                                          | 4/9 [00:00<00:00, 11.18it/s]\u001b[A\n",
      " 67%|██████████████████████████████████████████████████████████████████████                                   | 6/9 [00:00<00:00, 11.50it/s]\u001b[A\n",
      "100%|█████████████████████████████████████████████████████████████████████████████████████████████████████████| 9/9 [00:00<00:00, 11.90it/s]\u001b[A\n",
      "\n",
      "  0%|                                                                                                                | 0/65 [00:00<?, ?it/s]\u001b[A\n",
      " 38%|███████████████████████████████████████▏                                                              | 25/65 [00:00<00:00, 243.56it/s]\u001b[A\n",
      "100%|██████████████████████████████████████████████████████████████████████████████████████████████████████| 65/65 [00:00<00:00, 233.32it/s]\u001b[A"
     ]
    },
    {
     "name": "stdout",
     "output_type": "stream",
     "text": [
      "1/65 \r"
     ]
    },
    {
     "name": "stderr",
     "output_type": "stream",
     "text": [
      "\n"
     ]
    },
    {
     "name": "stdout",
     "output_type": "stream",
     "text": [
      "65/65 \r"
     ]
    },
    {
     "name": "stderr",
     "output_type": "stream",
     "text": [
      "\n",
      "Evaluation:   0%|                                                                                                    | 0/65 [00:00<?, ?it/s]\u001b[A\n",
      "Evaluation:   3%|██▊                                                                                         | 2/65 [00:00<00:05, 10.62it/s]\u001b[A\n",
      "Evaluation:   6%|█████▋                                                                                      | 4/65 [00:00<00:05, 10.57it/s]\u001b[A\n",
      "Evaluation:   9%|████████▍                                                                                   | 6/65 [00:00<00:05, 10.54it/s]\u001b[A\n",
      "Evaluation:  12%|███████████▎                                                                                | 8/65 [00:00<00:05, 10.32it/s]\u001b[A\n",
      "Evaluation:  15%|██████████████                                                                             | 10/65 [00:00<00:05, 10.39it/s]\u001b[A\n",
      "Evaluation:  18%|████████████████▊                                                                          | 12/65 [00:01<00:05, 10.44it/s]\u001b[A\n",
      "Evaluation:  22%|███████████████████▌                                                                       | 14/65 [00:01<00:04, 10.46it/s]\u001b[A\n",
      "Evaluation:  25%|██████████████████████▍                                                                    | 16/65 [00:01<00:04, 10.48it/s]\u001b[A\n",
      "Evaluation:  28%|█████████████████████████▏                                                                 | 18/65 [00:01<00:04, 10.49it/s]\u001b[A\n",
      "Evaluation:  31%|████████████████████████████                                                               | 20/65 [00:01<00:04, 10.50it/s]\u001b[A\n",
      "Evaluation:  34%|██████████████████████████████▊                                                            | 22/65 [00:02<00:04, 10.49it/s]\u001b[A\n",
      "Evaluation:  37%|█████████████████████████████████▌                                                         | 24/65 [00:02<00:03, 10.50it/s]\u001b[A\n",
      "Evaluation:  40%|████████████████████████████████████▍                                                      | 26/65 [00:02<00:03, 10.50it/s]\u001b[A\n",
      "Evaluation:  43%|███████████████████████████████████████▏                                                   | 28/65 [00:02<00:03, 10.49it/s]\u001b[A\n",
      "Evaluation:  46%|██████████████████████████████████████████                                                 | 30/65 [00:02<00:03, 10.48it/s]\u001b[A\n",
      "Evaluation:  49%|████████████████████████████████████████████▊                                              | 32/65 [00:03<00:03, 10.49it/s]\u001b[A\n",
      "Evaluation:  52%|███████████████████████████████████████████████▌                                           | 34/65 [00:03<00:02, 10.37it/s]\u001b[A\n",
      "Evaluation:  55%|██████████████████████████████████████████████████▍                                        | 36/65 [00:03<00:03,  9.09it/s]\u001b[A\n",
      "Evaluation:  58%|█████████████████████████████████████████████████████▏                                     | 38/65 [00:03<00:02,  9.47it/s]\u001b[A\n",
      "Evaluation:  62%|████████████████████████████████████████████████████████                                   | 40/65 [00:03<00:02,  9.77it/s]\u001b[A\n",
      "Evaluation:  65%|██████████████████████████████████████████████████████████▊                                | 42/65 [00:04<00:02,  9.98it/s]\u001b[A\n",
      "Evaluation:  68%|█████████████████████████████████████████████████████████████▌                             | 44/65 [00:04<00:02, 10.14it/s]\u001b[A\n",
      "Evaluation:  71%|████████████████████████████████████████████████████████████████▍                          | 46/65 [00:04<00:01, 10.25it/s]\u001b[A\n",
      "Evaluation:  74%|███████████████████████████████████████████████████████████████████▏                       | 48/65 [00:04<00:01, 10.32it/s]\u001b[A\n",
      "Evaluation:  77%|██████████████████████████████████████████████████████████████████████                     | 50/65 [00:04<00:01, 10.32it/s]\u001b[A\n",
      "Evaluation:  80%|████████████████████████████████████████████████████████████████████████▊                  | 52/65 [00:05<00:01, 10.38it/s]\u001b[A\n",
      "Evaluation:  83%|███████████████████████████████████████████████████████████████████████████▌               | 54/65 [00:05<00:01,  9.24it/s]\u001b[A\n",
      "Evaluation:  86%|██████████████████████████████████████████████████████████████████████████████▍            | 56/65 [00:05<00:00,  9.55it/s]\u001b[A\n",
      "Evaluation:  89%|█████████████████████████████████████████████████████████████████████████████████▏         | 58/65 [00:05<00:00,  9.83it/s]\u001b[A\n",
      "Evaluation:  92%|████████████████████████████████████████████████████████████████████████████████████       | 60/65 [00:05<00:00, 10.02it/s]\u001b[A\n",
      "Evaluation:  95%|██████████████████████████████████████████████████████████████████████████████████████▊    | 62/65 [00:06<00:00, 10.17it/s]\u001b[A\n",
      "Evaluation: 100%|███████████████████████████████████████████████████████████████████████████████████████████| 65/65 [00:06<00:00, 10.18it/s]\u001b[A\n",
      "  0%|                                                                                                | 1/211241 [00:11<646:39:14, 11.02s/it]"
     ]
    },
    {
     "name": "stdout",
     "output_type": "stream",
     "text": [
      "thompson sampling Thompson sampling 12.384498\n",
      "recommender systems Recommender system 10.227101\n",
      "multi - armed bandits Multi-armed bandit 5.422364\n",
      "amazon marketplace Amazon Marketplace 11.996152\n",
      "restaurants Restaurant 11.597531\n",
      "digital economy Digital economy 8.752863\n",
      "recommender systems Recommender system 8.897625\n",
      "search engines Search engine (computing) 3.2318892\n",
      "online advertising Online advertising 10.1705885\n",
      "service quality Service quality 10.724719\n",
      "yelp Yelp 10.2075405\n",
      "regret Regret 0.62473506\n",
      "recommender systems Recommender system 10.332027\n",
      "auctions Auction 8.028332\n"
     ]
    },
    {
     "name": "stderr",
     "output_type": "stream",
     "text": [
      "\n",
      "  0%|                                                                                                                 | 0/7 [00:00<?, ?it/s]\u001b[A\n",
      " 29%|██████████████████████████████                                                                           | 2/7 [00:00<00:00, 11.96it/s]\u001b[A\n",
      " 57%|████████████████████████████████████████████████████████████                                             | 4/7 [00:00<00:00, 11.96it/s]\u001b[A\n",
      "100%|█████████████████████████████████████████████████████████████████████████████████████████████████████████| 7/7 [00:00<00:00, 11.73it/s]\u001b[A\n",
      "\n",
      "  0%|                                                                                                                | 0/56 [00:00<?, ?it/s]\u001b[A\n",
      "100%|██████████████████████████████████████████████████████████████████████████████████████████████████████| 56/56 [00:00<00:00, 281.23it/s]\u001b[A"
     ]
    },
    {
     "name": "stdout",
     "output_type": "stream",
     "text": [
      "7/56 \r"
     ]
    },
    {
     "name": "stderr",
     "output_type": "stream",
     "text": [
      "\n"
     ]
    },
    {
     "name": "stdout",
     "output_type": "stream",
     "text": [
      "56/56 \r"
     ]
    },
    {
     "name": "stderr",
     "output_type": "stream",
     "text": [
      "\n",
      "Evaluation:   0%|                                                                                                    | 0/56 [00:00<?, ?it/s]\u001b[A\n",
      "Evaluation:   2%|█▋                                                                                          | 1/56 [00:00<00:09,  5.98it/s]\u001b[A\n",
      "Evaluation:   4%|███▎                                                                                        | 2/56 [00:00<00:07,  7.69it/s]\u001b[A\n",
      "Evaluation:   7%|██████▌                                                                                     | 4/56 [00:00<00:05,  9.24it/s]\u001b[A\n",
      "Evaluation:  11%|█████████▊                                                                                  | 6/56 [00:00<00:05,  9.80it/s]\u001b[A\n",
      "Evaluation:  14%|█████████████▏                                                                              | 8/56 [00:00<00:04, 10.06it/s]\u001b[A\n",
      "Evaluation:  18%|████████████████▎                                                                          | 10/56 [00:01<00:04, 10.22it/s]\u001b[A\n",
      "Evaluation:  21%|███████████████████▌                                                                       | 12/56 [00:01<00:04, 10.31it/s]\u001b[A\n",
      "Evaluation:  25%|██████████████████████▊                                                                    | 14/56 [00:01<00:04, 10.38it/s]\u001b[A\n",
      "Evaluation:  29%|██████████████████████████                                                                 | 16/56 [00:01<00:03, 10.27it/s]\u001b[A\n",
      "Evaluation:  32%|█████████████████████████████▎                                                             | 18/56 [00:01<00:03, 10.33it/s]\u001b[A\n",
      "Evaluation:  36%|████████████████████████████████▌                                                          | 20/56 [00:01<00:03, 10.36it/s]\u001b[A\n",
      "Evaluation:  39%|███████████████████████████████████▊                                                       | 22/56 [00:02<00:03, 10.40it/s]\u001b[A\n",
      "Evaluation:  43%|███████████████████████████████████████                                                    | 24/56 [00:02<00:03,  9.11it/s]\u001b[A\n",
      "Evaluation:  46%|██████████████████████████████████████████▎                                                | 26/56 [00:02<00:03,  9.49it/s]\u001b[A\n",
      "Evaluation:  50%|█████████████████████████████████████████████▌                                             | 28/56 [00:02<00:02,  9.77it/s]\u001b[A\n",
      "Evaluation:  54%|████████████████████████████████████████████████▊                                          | 30/56 [00:03<00:02,  9.98it/s]\u001b[A\n",
      "Evaluation:  57%|████████████████████████████████████████████████████                                       | 32/56 [00:03<00:02, 10.13it/s]\u001b[A\n",
      "Evaluation:  61%|███████████████████████████████████████████████████████▏                                   | 34/56 [00:03<00:02, 10.23it/s]\u001b[A\n",
      "Evaluation:  64%|██████████████████████████████████████████████████████████▌                                | 36/56 [00:03<00:02,  9.08it/s]\u001b[A\n",
      "Evaluation:  68%|█████████████████████████████████████████████████████████████▊                             | 38/56 [00:03<00:01,  9.47it/s]\u001b[A\n",
      "Evaluation:  71%|█████████████████████████████████████████████████████████████████                          | 40/56 [00:04<00:01,  9.76it/s]\u001b[A\n",
      "Evaluation:  75%|████████████████████████████████████████████████████████████████████▎                      | 42/56 [00:04<00:01,  9.97it/s]\u001b[A\n",
      "Evaluation:  79%|███████████████████████████████████████████████████████████████████████▌                   | 44/56 [00:04<00:01, 10.11it/s]\u001b[A\n",
      "Evaluation:  82%|██████████████████████████████████████████████████████████████████████████▊                | 46/56 [00:04<00:00, 10.22it/s]\u001b[A\n",
      "Evaluation:  86%|██████████████████████████████████████████████████████████████████████████████             | 48/56 [00:04<00:00, 10.29it/s]\u001b[A\n",
      "Evaluation:  89%|█████████████████████████████████████████████████████████████████████████████████▎         | 50/56 [00:05<00:00, 10.35it/s]\u001b[A\n",
      "Evaluation:  93%|████████████████████████████████████████████████████████████████████████████████████▌      | 52/56 [00:05<00:00, 10.38it/s]\u001b[A\n",
      "Evaluation:  96%|███████████████████████████████████████████████████████████████████████████████████████▊   | 54/56 [00:05<00:00,  9.49it/s]\u001b[A\n",
      "Evaluation: 100%|███████████████████████████████████████████████████████████████████████████████████████████| 56/56 [00:05<00:00,  9.87it/s]\u001b[A\n",
      "  0%|                                                                                                | 2/211241 [00:20<603:11:49, 10.28s/it]"
     ]
    },
    {
     "name": "stdout",
     "output_type": "stream",
     "text": [
      "topic models Topic model 9.025267\n",
      "topic modeling Topic model 10.906912\n",
      "topic models Topic model 7.632183\n",
      "probabilistic topic modeling Topic model 0.18182199\n",
      "latent dirichlet allocation Latent Dirichlet allocation 12.786819\n",
      "lda Latent Dirichlet allocation 7.0686746\n",
      "topic models Topic model 8.927494\n",
      "language model Language model 6.227929\n",
      "topic models Topic model 5.9656577\n",
      "lda Latent Dirichlet allocation 8.0001\n",
      "effectiveness Effectiveness 6.329025\n",
      "document clustering Document clustering 9.714382\n",
      "document classification Document classification 10.516239\n",
      "language model Language model 6.227929\n",
      "maximum likelihood estimation Maximum likelihood estimation 12.409466\n",
      "topic model Topic model 10.243451\n",
      "lda Latent Dirichlet allocation 8.275254\n",
      "topic models Topic model 10.324279\n",
      "performance Performance 1.6294972\n",
      "topic models Topic model 8.760435\n",
      "classification Statistical classification 2.747726\n",
      "topic model Topic model 10.643974\n",
      "lda Latent Dirichlet allocation 8.995737\n"
     ]
    },
    {
     "name": "stderr",
     "output_type": "stream",
     "text": [
      "\n",
      "  0%|                                                                                                                 | 0/7 [00:00<?, ?it/s]\u001b[A\n",
      " 29%|██████████████████████████████                                                                           | 2/7 [00:00<00:00, 10.53it/s]\u001b[A\n",
      " 57%|████████████████████████████████████████████████████████████                                             | 4/7 [00:00<00:00, 10.97it/s]\u001b[A\n",
      "100%|█████████████████████████████████████████████████████████████████████████████████████████████████████████| 7/7 [00:00<00:00, 11.57it/s]\u001b[A\n",
      "\n",
      "  0%|                                                                                                                | 0/51 [00:00<?, ?it/s]\u001b[A\n",
      " 45%|██████████████████████████████████████████████                                                        | 23/51 [00:00<00:00, 229.15it/s]\u001b[A\n",
      "100%|██████████████████████████████████████████████████████████████████████████████████████████████████████| 51/51 [00:00<00:00, 224.89it/s]\u001b[A"
     ]
    },
    {
     "name": "stdout",
     "output_type": "stream",
     "text": [
      "4/51 \r"
     ]
    },
    {
     "name": "stderr",
     "output_type": "stream",
     "text": [
      "\n"
     ]
    },
    {
     "name": "stdout",
     "output_type": "stream",
     "text": [
      "51/51 \r"
     ]
    },
    {
     "name": "stderr",
     "output_type": "stream",
     "text": [
      "\n",
      "Evaluation:   0%|                                                                                                    | 0/51 [00:00<?, ?it/s]\u001b[A\n",
      "Evaluation:   4%|███▌                                                                                        | 2/51 [00:00<00:04, 10.58it/s]\u001b[A\n",
      "Evaluation:   8%|███████▏                                                                                    | 4/51 [00:00<00:04, 10.53it/s]\u001b[A\n",
      "Evaluation:  12%|██████████▊                                                                                 | 6/51 [00:00<00:04, 10.49it/s]\u001b[A\n",
      "Evaluation:  16%|██████████████▍                                                                             | 8/51 [00:00<00:04, 10.35it/s]\u001b[A\n",
      "Evaluation:  20%|█████████████████▊                                                                         | 10/51 [00:00<00:03, 10.40it/s]\u001b[A\n",
      "Evaluation:  24%|█████████████████████▍                                                                     | 12/51 [00:01<00:03, 10.42it/s]\u001b[A\n",
      "Evaluation:  27%|████████████████████████▉                                                                  | 14/51 [00:01<00:03, 10.45it/s]\u001b[A\n",
      "Evaluation:  31%|████████████████████████████▌                                                              | 16/51 [00:01<00:03, 10.46it/s]\u001b[A\n",
      "Evaluation:  35%|████████████████████████████████                                                           | 18/51 [00:01<00:03, 10.46it/s]\u001b[A\n",
      "Evaluation:  39%|███████████████████████████████████▋                                                       | 20/51 [00:01<00:02, 10.48it/s]\u001b[A\n",
      "Evaluation:  43%|███████████████████████████████████████▎                                                   | 22/51 [00:02<00:02, 10.30it/s]\u001b[A\n",
      "Evaluation:  47%|██████████████████████████████████████████▊                                                | 24/51 [00:02<00:02, 10.35it/s]\u001b[A\n",
      "Evaluation:  51%|██████████████████████████████████████████████▍                                            | 26/51 [00:02<00:02, 10.37it/s]\u001b[A\n",
      "Evaluation:  55%|█████████████████████████████████████████████████▉                                         | 28/51 [00:02<00:02, 10.40it/s]\u001b[A\n",
      "Evaluation:  59%|█████████████████████████████████████████████████████▌                                     | 30/51 [00:02<00:02, 10.41it/s]\u001b[A\n",
      "Evaluation:  63%|█████████████████████████████████████████████████████████                                  | 32/51 [00:03<00:01, 10.44it/s]\u001b[A\n",
      "Evaluation:  67%|████████████████████████████████████████████████████████████▋                              | 34/51 [00:03<00:01, 10.33it/s]\u001b[A\n",
      "Evaluation:  71%|████████████████████████████████████████████████████████████████▏                          | 36/51 [00:03<00:01, 10.34it/s]\u001b[A\n",
      "Evaluation:  75%|███████████████████████████████████████████████████████████████████▊                       | 38/51 [00:03<00:01,  9.24it/s]\u001b[A\n",
      "Evaluation:  78%|███████████████████████████████████████████████████████████████████████▎                   | 40/51 [00:03<00:01,  9.58it/s]\u001b[A\n",
      "Evaluation:  82%|██████████████████████████████████████████████████████████████████████████▉                | 42/51 [00:04<00:00,  9.82it/s]\u001b[A\n",
      "Evaluation:  86%|██████████████████████████████████████████████████████████████████████████████▌            | 44/51 [00:04<00:00, 10.01it/s]\u001b[A\n",
      "Evaluation:  90%|██████████████████████████████████████████████████████████████████████████████████         | 46/51 [00:04<00:00, 10.16it/s]\u001b[A\n",
      "Evaluation:  94%|█████████████████████████████████████████████████████████████████████████████████████▋     | 48/51 [00:04<00:00, 10.27it/s]\u001b[A\n",
      "Evaluation: 100%|███████████████████████████████████████████████████████████████████████████████████████████| 51/51 [00:04<00:00, 10.26it/s]\u001b[A\n",
      "  0%|                                                                                                | 3/211241 [00:29<571:57:15,  9.75s/it]"
     ]
    },
    {
     "name": "stdout",
     "output_type": "stream",
     "text": [
      "deep learning methods Deep learning 9.269905\n",
      "gender Gender 8.88921\n",
      "computer vision Computer vision 10.859504\n",
      "robotics Robotics 10.226125\n",
      "pose Pose (computer vision) 1.0843717\n",
      "gender Gender 9.541416\n",
      "navigation Navigation 7.1166205\n",
      "robotics Robotics 9.051631\n",
      "person analysis Person Analysis 7.3141546\n",
      "robotics Robotics 10.5702095\n",
      "computer vision Computer vision 10.417419\n",
      "nearest - neighbor methods Nearest-neighbor interpolation 1.0099545\n",
      "tracking system Tracking system 7.408725\n",
      "gesture recognition Gesture recognition 8.795975\n",
      "person analysis Person Analysis 7.3141546\n",
      "deep learning based methods Deep learning 3.7922971\n",
      "quality Video quality 0.6920497\n"
     ]
    },
    {
     "name": "stderr",
     "output_type": "stream",
     "text": [
      "\n",
      "  0%|                                                                                                                 | 0/6 [00:00<?, ?it/s]\u001b[A\n",
      " 33%|███████████████████████████████████                                                                      | 2/6 [00:00<00:00, 10.98it/s]\u001b[A\n",
      " 67%|██████████████████████████████████████████████████████████████████████                                   | 4/6 [00:00<00:00, 10.70it/s]\u001b[A\n",
      "100%|█████████████████████████████████████████████████████████████████████████████████████████████████████████| 6/6 [00:00<00:00, 10.94it/s]\u001b[A\n",
      "\n",
      "  0%|                                                                                                                | 0/47 [00:00<?, ?it/s]\u001b[A\n",
      " 49%|█████████████████████████████████████████████████▉                                                    | 23/47 [00:00<00:00, 229.86it/s]\u001b[A\n",
      "100%|██████████████████████████████████████████████████████████████████████████████████████████████████████| 47/47 [00:00<00:00, 227.68it/s]\u001b[A"
     ]
    },
    {
     "name": "stdout",
     "output_type": "stream",
     "text": [
      "6/47 \r"
     ]
    },
    {
     "name": "stderr",
     "output_type": "stream",
     "text": [
      "\n"
     ]
    },
    {
     "name": "stdout",
     "output_type": "stream",
     "text": [
      "47/47 \r"
     ]
    },
    {
     "name": "stderr",
     "output_type": "stream",
     "text": [
      "\n",
      "Evaluation:   0%|                                                                                                    | 0/47 [00:00<?, ?it/s]\u001b[A\n",
      "Evaluation:   4%|███▉                                                                                        | 2/47 [00:00<00:06,  7.08it/s]\u001b[A\n",
      "Evaluation:   9%|███████▊                                                                                    | 4/47 [00:00<00:04,  8.72it/s]\u001b[A\n",
      "Evaluation:  13%|███████████▋                                                                                | 6/47 [00:00<00:04,  9.42it/s]\u001b[A\n",
      "Evaluation:  15%|█████████████▋                                                                              | 7/47 [00:00<00:04,  9.50it/s]\u001b[A\n",
      "Evaluation:  17%|███████████████▋                                                                            | 8/47 [00:00<00:04,  7.99it/s]\u001b[A\n",
      "Evaluation:  21%|███████████████████▎                                                                       | 10/47 [00:01<00:04,  8.88it/s]\u001b[A\n",
      "Evaluation:  26%|███████████████████████▏                                                                   | 12/47 [00:01<00:03,  9.43it/s]\u001b[A\n",
      "Evaluation:  30%|███████████████████████████                                                                | 14/47 [00:01<00:03,  9.76it/s]\u001b[A\n",
      "Evaluation:  34%|██████████████████████████████▉                                                            | 16/47 [00:01<00:03,  9.99it/s]\u001b[A\n",
      "Evaluation:  38%|██████████████████████████████████▊                                                        | 18/47 [00:01<00:02, 10.14it/s]\u001b[A\n",
      "Evaluation:  43%|██████████████████████████████████████▋                                                    | 20/47 [00:02<00:02, 10.25it/s]\u001b[A\n",
      "Evaluation:  47%|██████████████████████████████████████████▌                                                | 22/47 [00:02<00:02, 10.29it/s]\u001b[A\n",
      "Evaluation:  51%|██████████████████████████████████████████████▍                                            | 24/47 [00:02<00:02, 10.33it/s]\u001b[A\n",
      "Evaluation:  55%|██████████████████████████████████████████████████▎                                        | 26/47 [00:02<00:02,  9.25it/s]\u001b[A\n",
      "Evaluation:  60%|██████████████████████████████████████████████████████▏                                    | 28/47 [00:02<00:01,  9.60it/s]\u001b[A\n",
      "Evaluation:  64%|██████████████████████████████████████████████████████████                                 | 30/47 [00:03<00:01,  9.84it/s]\u001b[A\n",
      "Evaluation:  68%|█████████████████████████████████████████████████████████████▉                             | 32/47 [00:03<00:01, 10.00it/s]\u001b[A\n",
      "Evaluation:  72%|█████████████████████████████████████████████████████████████████▊                         | 34/47 [00:03<00:01, 10.00it/s]\u001b[A\n",
      "Evaluation:  77%|█████████████████████████████████████████████████████████████████████▋                     | 36/47 [00:03<00:01, 10.15it/s]\u001b[A\n",
      "Evaluation:  81%|█████████████████████████████████████████████████████████████████████████▌                 | 38/47 [00:03<00:00, 10.24it/s]\u001b[A\n",
      "Evaluation:  85%|█████████████████████████████████████████████████████████████████████████████▍             | 40/47 [00:04<00:00, 10.27it/s]\u001b[A\n",
      "Evaluation:  89%|█████████████████████████████████████████████████████████████████████████████████▎         | 42/47 [00:04<00:00, 10.30it/s]\u001b[A\n",
      "Evaluation:  94%|█████████████████████████████████████████████████████████████████████████████████████▏     | 44/47 [00:04<00:00, 10.34it/s]\u001b[A\n",
      "Evaluation: 100%|███████████████████████████████████████████████████████████████████████████████████████████| 47/47 [00:04<00:00,  9.85it/s]\u001b[A\n",
      "  0%|                                                                                                | 4/211241 [00:38<545:19:58,  9.29s/it]"
     ]
    },
    {
     "name": "stdout",
     "output_type": "stream",
     "text": [
      "deep learning Deep learning 12.044806\n",
      "generative adversarial networks Generative adversarial network 11.292824\n",
      "magnet Magnet 1.5184639\n",
      "autoencoders Autoencoder 12.350384\n",
      "generative model Generative model 9.882442\n",
      "generative models Generative model 7.5744843\n",
      "gan Generative adversarial network 4.7234263\n",
      "magnet Magnet 1.3955297\n",
      "object detection Object detection 9.762647\n",
      "magnet Magnet 1.3955297\n",
      "face identification Face ID 2.0325236\n",
      "autonomous - driving Self-driving car 1.7410997\n"
     ]
    },
    {
     "name": "stderr",
     "output_type": "stream",
     "text": [
      "\n",
      "  0%|                                                                                                                 | 0/7 [00:00<?, ?it/s]\u001b[A\n",
      " 29%|██████████████████████████████                                                                           | 2/7 [00:00<00:00, 11.00it/s]\u001b[A\n",
      " 57%|████████████████████████████████████████████████████████████                                             | 4/7 [00:00<00:00, 11.80it/s]\u001b[A\n",
      "100%|█████████████████████████████████████████████████████████████████████████████████████████████████████████| 7/7 [00:00<00:00, 10.95it/s]\u001b[A\n",
      "\n",
      "  0%|                                                                                                                | 0/50 [00:00<?, ?it/s]\u001b[A\n",
      " 48%|████████████████████████████████████████████████▉                                                     | 24/50 [00:00<00:00, 232.18it/s]\u001b[A\n",
      "100%|██████████████████████████████████████████████████████████████████████████████████████████████████████| 50/50 [00:00<00:00, 232.48it/s]\u001b[A"
     ]
    },
    {
     "name": "stdout",
     "output_type": "stream",
     "text": [
      "5/50 \r"
     ]
    },
    {
     "name": "stderr",
     "output_type": "stream",
     "text": [
      "\n"
     ]
    },
    {
     "name": "stdout",
     "output_type": "stream",
     "text": [
      "50/50 \r"
     ]
    },
    {
     "name": "stderr",
     "output_type": "stream",
     "text": [
      "\n",
      "Evaluation:   0%|                                                                                                    | 0/50 [00:00<?, ?it/s]\u001b[A\n",
      "Evaluation:   4%|███▋                                                                                        | 2/50 [00:00<00:04, 10.56it/s]\u001b[A\n",
      "Evaluation:   8%|███████▎                                                                                    | 4/50 [00:00<00:04, 10.50it/s]\u001b[A\n",
      "Evaluation:  12%|███████████                                                                                 | 6/50 [00:00<00:04, 10.50it/s]\u001b[A\n",
      "Evaluation:  16%|██████████████▋                                                                             | 8/50 [00:00<00:04, 10.28it/s]\u001b[A\n",
      "Evaluation:  20%|██████████████████▏                                                                        | 10/50 [00:00<00:03, 10.35it/s]\u001b[A\n",
      "Evaluation:  24%|█████████████████████▊                                                                     | 12/50 [00:01<00:03, 10.38it/s]\u001b[A\n",
      "Evaluation:  28%|█████████████████████████▍                                                                 | 14/50 [00:01<00:03, 10.42it/s]\u001b[A\n",
      "Evaluation:  32%|█████████████████████████████                                                              | 16/50 [00:01<00:03, 10.45it/s]\u001b[A\n",
      "Evaluation:  36%|████████████████████████████████▊                                                          | 18/50 [00:01<00:03, 10.47it/s]\u001b[A\n",
      "Evaluation:  40%|████████████████████████████████████▍                                                      | 20/50 [00:01<00:02, 10.48it/s]\u001b[A\n",
      "Evaluation:  44%|████████████████████████████████████████                                                   | 22/50 [00:02<00:02, 10.35it/s]\u001b[A\n",
      "Evaluation:  48%|███████████████████████████████████████████▋                                               | 24/50 [00:02<00:02, 10.39it/s]\u001b[A\n",
      "Evaluation:  52%|███████████████████████████████████████████████▎                                           | 26/50 [00:02<00:02, 10.41it/s]\u001b[A\n",
      "Evaluation:  56%|██████████████████████████████████████████████████▉                                        | 28/50 [00:02<00:02, 10.43it/s]\u001b[A\n",
      "Evaluation:  60%|██████████████████████████████████████████████████████▌                                    | 30/50 [00:02<00:01, 10.44it/s]\u001b[A\n",
      "Evaluation:  64%|██████████████████████████████████████████████████████████▏                                | 32/50 [00:03<00:01, 10.45it/s]\u001b[A\n",
      "Evaluation:  68%|█████████████████████████████████████████████████████████████▉                             | 34/50 [00:03<00:01, 10.46it/s]\u001b[A\n",
      "Evaluation:  72%|█████████████████████████████████████████████████████████████████▌                         | 36/50 [00:03<00:01, 10.34it/s]\u001b[A\n",
      "Evaluation:  76%|█████████████████████████████████████████████████████████████████████▏                     | 38/50 [00:03<00:01, 10.38it/s]\u001b[A\n",
      "Evaluation:  80%|████████████████████████████████████████████████████████████████████████▊                  | 40/50 [00:03<00:00, 10.41it/s]\u001b[A\n",
      "Evaluation:  84%|████████████████████████████████████████████████████████████████████████████▍              | 42/50 [00:04<00:00, 10.43it/s]\u001b[A\n",
      "Evaluation:  88%|████████████████████████████████████████████████████████████████████████████████           | 44/50 [00:04<00:00, 10.44it/s]\u001b[A\n",
      "Evaluation:  92%|███████████████████████████████████████████████████████████████████████████████████▋       | 46/50 [00:04<00:00, 10.43it/s]\u001b[A\n",
      "Evaluation:  96%|███████████████████████████████████████████████████████████████████████████████████████▎   | 48/50 [00:04<00:00, 10.27it/s]\u001b[A\n",
      "Evaluation: 100%|███████████████████████████████████████████████████████████████████████████████████████████| 50/50 [00:04<00:00, 10.39it/s]\u001b[A\n",
      "  0%|                                                                                                | 5/211241 [00:47<538:52:22,  9.18s/it]"
     ]
    },
    {
     "name": "stdout",
     "output_type": "stream",
     "text": [
      "random forest Random forest 9.768847\n",
      "inertial confinement fusion Inertial confinement fusion 12.70672\n",
      "optimal design Optimal design 10.388933\n",
      "velocity Velocity 5.959965\n",
      "computational models Computational model 6.7545495\n",
      "machine learning Machine learning 10.177659\n",
      "machine learning Machine learning 12.223489\n",
      "inertial confinement fusion Inertial confinement fusion 12.724879\n",
      "transfer learning Transfer learning 8.359824\n",
      "surrogate models Surrogate model 11.702748\n",
      "pressures Pressure 4.1104155\n",
      "computer simulations Computer simulation 9.450274\n",
      "national ignition facility National Ignition Facility 12.567915\n",
      "random forest Random forest 7.6177115\n",
      "rf Radio frequency 5.2818794\n",
      "surrogate models Surrogate model 11.702748\n",
      "icf International Classification of Functioning, Disability and Health 3.9610732\n",
      "random forest Random forest 7.36607\n",
      "ale Application Level Events 3.703074\n",
      "rf Radio frequency 5.2818794\n",
      "yield Yield (engineering) 3.3673508\n",
      "machine learning Machine learning 10.895772\n",
      "icf Inertial confinement fusion 1.8757875\n",
      "ml Machine learning 8.936832\n"
     ]
    },
    {
     "name": "stderr",
     "output_type": "stream",
     "text": [
      "\n",
      "  0%|                                                                                                                 | 0/2 [00:00<?, ?it/s]\u001b[A\n",
      "100%|█████████████████████████████████████████████████████████████████████████████████████████████████████████| 2/2 [00:00<00:00, 13.65it/s]\u001b[A\n",
      "\n",
      "100%|██████████████████████████████████████████████████████████████████████████████████████████████████████| 10/10 [00:00<00:00, 247.73it/s]\u001b[A\n"
     ]
    },
    {
     "name": "stdout",
     "output_type": "stream",
     "text": [
      "10/10 \r"
     ]
    },
    {
     "name": "stderr",
     "output_type": "stream",
     "text": [
      "\n",
      "Evaluation:   0%|                                                                                                    | 0/10 [00:00<?, ?it/s]\u001b[A\n",
      "Evaluation:  10%|█████████▏                                                                                  | 1/10 [00:00<00:01,  6.89it/s]\u001b[A\n",
      "Evaluation:  30%|███████████████████████████▌                                                                | 3/10 [00:00<00:00,  9.24it/s]\u001b[A\n",
      "Evaluation:  40%|████████████████████████████████████▊                                                       | 4/10 [00:00<00:00,  9.39it/s]\u001b[A\n",
      "Evaluation:  60%|███████████████████████████████████████████████████████▏                                    | 6/10 [00:00<00:00,  9.93it/s]\u001b[A\n",
      "Evaluation:  80%|█████████████████████████████████████████████████████████████████████████▌                  | 8/10 [00:00<00:00, 10.17it/s]\u001b[A\n",
      "Evaluation: 100%|███████████████████████████████████████████████████████████████████████████████████████████| 10/10 [00:01<00:00,  9.73it/s]\u001b[A\n",
      "  0%|                                                                                                | 6/211241 [00:51<428:58:29,  7.31s/it]"
     ]
    },
    {
     "name": "stdout",
     "output_type": "stream",
     "text": [
      "generative models Generative model 5.455704\n"
     ]
    },
    {
     "name": "stderr",
     "output_type": "stream",
     "text": [
      "\n",
      "  0%|                                                                                                                | 0/14 [00:00<?, ?it/s]\u001b[A\n",
      " 14%|██████████████▊                                                                                         | 2/14 [00:00<00:01, 11.94it/s]\u001b[A\n",
      " 29%|█████████████████████████████▋                                                                          | 4/14 [00:00<00:00, 11.64it/s]\u001b[A\n",
      " 43%|████████████████████████████████████████████▌                                                           | 6/14 [00:00<00:00, 12.19it/s]\u001b[A\n",
      " 57%|███████████████████████████████████████████████████████████▍                                            | 8/14 [00:00<00:00, 11.82it/s]\u001b[A\n",
      " 71%|█████████████████████████████████████████████████████████████████████████▌                             | 10/14 [00:00<00:00, 11.67it/s]\u001b[A\n",
      " 86%|████████████████████████████████████████████████████████████████████████████████████████▎              | 12/14 [00:01<00:00, 11.84it/s]\u001b[A\n",
      "100%|███████████████████████████████████████████████████████████████████████████████████████████████████████| 14/14 [00:01<00:00, 11.80it/s]\u001b[A\n",
      "\n",
      "  0%|                                                                                                               | 0/112 [00:00<?, ?it/s]\u001b[A\n",
      " 21%|████████████████████▋                                                                                | 23/112 [00:00<00:00, 223.37it/s]\u001b[A\n",
      " 41%|█████████████████████████████████████████▍                                                           | 46/112 [00:00<00:00, 224.61it/s]\u001b[A\n",
      " 62%|██████████████████████████████████████████████████████████████▏                                      | 69/112 [00:00<00:00, 215.75it/s]\u001b[A\n",
      "100%|████████████████████████████████████████████████████████████████████████████████████████████████████| 112/112 [00:00<00:00, 219.03it/s]\u001b[A\n"
     ]
    },
    {
     "name": "stdout",
     "output_type": "stream",
     "text": [
      "112/112 \r"
     ]
    },
    {
     "name": "stderr",
     "output_type": "stream",
     "text": [
      "\n",
      "Evaluation:   0%|                                                                                                   | 0/112 [00:00<?, ?it/s]\u001b[A\n",
      "Evaluation:   2%|█▋                                                                                         | 2/112 [00:00<00:10, 10.64it/s]\u001b[A\n",
      "Evaluation:   4%|███▎                                                                                       | 4/112 [00:00<00:12,  8.31it/s]\u001b[A\n",
      "Evaluation:   5%|████▉                                                                                      | 6/112 [00:00<00:11,  9.18it/s]\u001b[A\n",
      "Evaluation:   7%|██████▌                                                                                    | 8/112 [00:00<00:10,  9.67it/s]\u001b[A\n",
      "Evaluation:   9%|████████                                                                                  | 10/112 [00:01<00:10,  9.96it/s]\u001b[A\n",
      "Evaluation:  11%|█████████▋                                                                                | 12/112 [00:01<00:09, 10.14it/s]\u001b[A\n",
      "Evaluation:  12%|███████████▎                                                                              | 14/112 [00:01<00:09, 10.26it/s]\u001b[A\n",
      "Evaluation:  14%|████████████▊                                                                             | 16/112 [00:01<00:10,  8.73it/s]\u001b[A\n",
      "Evaluation:  16%|██████████████▍                                                                           | 18/112 [00:01<00:10,  9.21it/s]\u001b[A\n",
      "Evaluation:  18%|████████████████                                                                          | 20/112 [00:02<00:09,  9.58it/s]\u001b[A\n",
      "Evaluation:  20%|█████████████████▋                                                                        | 22/112 [00:02<00:09,  9.84it/s]\u001b[A\n",
      "Evaluation:  21%|███████████████████▎                                                                      | 24/112 [00:02<00:08, 10.03it/s]\u001b[A\n",
      "Evaluation:  23%|████████████████████▉                                                                     | 26/112 [00:02<00:08, 10.17it/s]\u001b[A\n",
      "Evaluation:  25%|██████████████████████▌                                                                   | 28/112 [00:02<00:08, 10.22it/s]\u001b[A\n",
      "Evaluation:  27%|████████████████████████                                                                  | 30/112 [00:03<00:07, 10.31it/s]\u001b[A\n",
      "Evaluation:  29%|█████████████████████████▋                                                                | 32/112 [00:03<00:07, 10.37it/s]\u001b[A\n",
      "Evaluation:  30%|███████████████████████████▎                                                              | 34/112 [00:03<00:07, 10.41it/s]\u001b[A\n",
      "Evaluation:  32%|████████████████████████████▉                                                             | 36/112 [00:03<00:07, 10.44it/s]\u001b[A\n",
      "Evaluation:  34%|██████████████████████████████▌                                                           | 38/112 [00:03<00:07, 10.47it/s]\u001b[A\n",
      "Evaluation:  36%|████████████████████████████████▏                                                         | 40/112 [00:04<00:06, 10.48it/s]\u001b[A\n",
      "Evaluation:  38%|█████████████████████████████████▊                                                        | 42/112 [00:04<00:06, 10.49it/s]\u001b[A\n",
      "Evaluation:  39%|███████████████████████████████████▎                                                      | 44/112 [00:04<00:06, 10.49it/s]\u001b[A\n",
      "Evaluation:  41%|████████████████████████████████████▉                                                     | 46/112 [00:04<00:06, 10.50it/s]\u001b[A\n",
      "Evaluation:  43%|██████████████████████████████████████▌                                                   | 48/112 [00:04<00:06, 10.45it/s]\u001b[A\n",
      "Evaluation:  45%|████████████████████████████████████████▏                                                 | 50/112 [00:04<00:05, 10.47it/s]\u001b[A\n",
      "Evaluation:  46%|█████████████████████████████████████████▊                                                | 52/112 [00:05<00:05, 10.48it/s]\u001b[A\n",
      "Evaluation:  48%|███████████████████████████████████████████▍                                              | 54/112 [00:05<00:05, 10.49it/s]\u001b[A\n",
      "Evaluation:  50%|█████████████████████████████████████████████                                             | 56/112 [00:05<00:05, 10.50it/s]\u001b[A\n",
      "Evaluation:  52%|██████████████████████████████████████████████▌                                           | 58/112 [00:05<00:05, 10.50it/s]\u001b[A\n",
      "Evaluation:  54%|████████████████████████████████████████████████▏                                         | 60/112 [00:05<00:05, 10.10it/s]\u001b[A\n",
      "Evaluation:  55%|█████████████████████████████████████████████████▊                                        | 62/112 [00:06<00:04, 10.21it/s]\u001b[A\n",
      "Evaluation:  57%|███████████████████████████████████████████████████▍                                      | 64/112 [00:06<00:04, 10.30it/s]\u001b[A\n",
      "Evaluation:  59%|█████████████████████████████████████████████████████                                     | 66/112 [00:06<00:04, 10.37it/s]\u001b[A\n",
      "Evaluation:  61%|██████████████████████████████████████████████████████▋                                   | 68/112 [00:06<00:04, 10.41it/s]\u001b[A\n",
      "Evaluation:  62%|████████████████████████████████████████████████████████▎                                 | 70/112 [00:06<00:04, 10.44it/s]\u001b[A\n",
      "Evaluation:  64%|█████████████████████████████████████████████████████████▊                                | 72/112 [00:07<00:03, 10.46it/s]\u001b[A\n",
      "Evaluation:  66%|███████████████████████████████████████████████████████████▍                              | 74/112 [00:07<00:03, 10.47it/s]\u001b[A\n",
      "Evaluation:  68%|█████████████████████████████████████████████████████████████                             | 76/112 [00:07<00:03, 10.36it/s]\u001b[A\n",
      "Evaluation:  70%|██████████████████████████████████████████████████████████████▋                           | 78/112 [00:07<00:03, 10.41it/s]\u001b[A\n",
      "Evaluation:  71%|████████████████████████████████████████████████████████████████▎                         | 80/112 [00:07<00:03, 10.44it/s]\u001b[A\n",
      "Evaluation:  73%|█████████████████████████████████████████████████████████████████▉                        | 82/112 [00:08<00:02, 10.46it/s]\u001b[A\n",
      "Evaluation:  75%|███████████████████████████████████████████████████████████████████▌                      | 84/112 [00:08<00:02, 10.47it/s]\u001b[A\n",
      "Evaluation:  77%|█████████████████████████████████████████████████████████████████████                     | 86/112 [00:08<00:02, 10.48it/s]\u001b[A\n",
      "Evaluation:  79%|██████████████████████████████████████████████████████████████████████▋                   | 88/112 [00:08<00:02, 10.40it/s]\u001b[A\n",
      "Evaluation:  80%|████████████████████████████████████████████████████████████████████████▎                 | 90/112 [00:08<00:02, 10.42it/s]\u001b[A\n",
      "Evaluation:  82%|█████████████████████████████████████████████████████████████████████████▉                | 92/112 [00:08<00:01, 10.45it/s]\u001b[A\n",
      "Evaluation:  84%|███████████████████████████████████████████████████████████████████████████▌              | 94/112 [00:09<00:01, 10.48it/s]\u001b[A\n",
      "Evaluation:  86%|█████████████████████████████████████████████████████████████████████████████▏            | 96/112 [00:09<00:01, 10.50it/s]\u001b[A\n",
      "Evaluation:  88%|██████████████████████████████████████████████████████████████████████████████▊           | 98/112 [00:09<00:01, 10.50it/s]\u001b[A\n",
      "Evaluation:  89%|███████████████████████████████████████████████████████████████████████████████▍         | 100/112 [00:09<00:01, 10.51it/s]\u001b[A\n",
      "Evaluation:  91%|█████████████████████████████████████████████████████████████████████████████████        | 102/112 [00:09<00:00, 10.52it/s]\u001b[A\n",
      "Evaluation:  93%|██████████████████████████████████████████████████████████████████████████████████▋      | 104/112 [00:10<00:00, 10.52it/s]\u001b[A\n",
      "Evaluation:  95%|████████████████████████████████████████████████████████████████████████████████████▏    | 106/112 [00:10<00:00, 10.52it/s]\u001b[A\n",
      "Evaluation:  96%|█████████████████████████████████████████████████████████████████████████████████████▊   | 108/112 [00:10<00:00, 10.43it/s]\u001b[A\n",
      "Evaluation:  98%|███████████████████████████████████████████████████████████████████████████████████████▍ | 110/112 [00:10<00:00, 10.45it/s]\u001b[A\n",
      "Evaluation: 100%|█████████████████████████████████████████████████████████████████████████████████████████| 112/112 [00:10<00:00, 10.27it/s]\u001b[A\n",
      "  0%|                                                                                                | 7/211241 [01:08<616:39:49, 10.51s/it]"
     ]
    },
    {
     "name": "stdout",
     "output_type": "stream",
     "text": [
      "mcs systems Management control system 3.4351408\n",
      "deep learning model Deep learning 1.6056364\n",
      "mcs Management control system 5.8905363\n",
      "combinatorial optimization Combinatorial optimization 10.231197\n",
      "reinforcement learning Reinforcement learning 11.840116\n",
      "energy efficiency Efficient energy use 4.461808\n",
      "profit maximization Profit maximization 7.576087\n",
      "deep reinforcement learning Deep reinforcement learning 10.831724\n",
      "deep reinforcement learning Deep reinforcement learning 10.904422\n",
      "mcs Universal Master Control Station 1.3361088\n",
      "profit maximization Profit maximization 9.202116\n",
      "performance Performance 3.099428\n",
      "energy efficiency Efficient energy use 5.8694215\n",
      "crowd Crowd 5.9344053\n",
      "deep reinforcement learning Deep reinforcement learning 11.423503\n",
      "efficiency Efficiency 7.280509\n",
      "profit maximization Profit maximization 9.202116\n",
      "energy efficiency Efficient energy use 5.8694215\n",
      "mcs MCS algorithm 5.1982174\n",
      "energy efficiency Efficient energy use 4.5348697\n",
      "reinforcement learning Reinforcement learning 11.403503\n",
      "deep reinforcement learning Deep reinforcement learning 10.361464\n",
      "reinforcement learning Reinforcement learning 11.9158\n",
      "alphastar AlphaStar 1.2416769\n",
      "modelfree reinforcement learning algorithms Model-free (reinforcement learning) 4.84492\n",
      "neural network Neural network 9.933941\n",
      "reinforcement learning Reinforcement learning 11.9158\n",
      "ride - sharing Carpool 8.184405\n",
      "mcs MCS algorithm 3.816549\n",
      "deep reinforcement learning Deep reinforcement learning 11.965016\n",
      "approximate algorithms Approximation algorithm 4.837786\n",
      "markov decision process method Markov decision process 5.3649545\n",
      "sequential decision - making Sequential decision making 11.839628\n",
      "deep reinforcement learning Deep reinforcement learning 11.114029\n",
      "deep reinforcement learning Deep reinforcement learning 11.459912\n",
      "machine learning Machine learning 11.862137\n",
      "rl Reinforcement learning 7.309795\n",
      "deep reinforcement learning Deep reinforcement learning 11.158634\n",
      "performance Performance 4.535363\n",
      "natural language processing Natural language processing 10.602839\n",
      "reinforcement learning Reinforcement learning 11.681823\n",
      "language models Language model 5.3749924\n",
      "machine learning Machine learning 11.906684\n",
      "performance Performance 2.4764407\n",
      "deep reinforcement learning Deep reinforcement learning 11.299611\n",
      "rl Reinforcement learning 6.2793465\n",
      "reinforcement learning Reinforcement learning 11.861568\n",
      "deep reinforcement learning Deep reinforcement learning 11.1276655\n"
     ]
    },
    {
     "name": "stderr",
     "output_type": "stream",
     "text": [
      "\n",
      "  0%|                                                                                                                | 0/16 [00:00<?, ?it/s]\u001b[A\n",
      "  6%|██████▌                                                                                                 | 1/16 [00:00<00:01,  9.88it/s]\u001b[A\n",
      " 19%|███████████████████▌                                                                                    | 3/16 [00:00<00:01, 11.07it/s]\u001b[A\n",
      " 31%|████████████████████████████████▌                                                                       | 5/16 [00:00<00:00, 11.62it/s]\u001b[A\n",
      " 44%|█████████████████████████████████████████████▌                                                          | 7/16 [00:00<00:00, 11.64it/s]\u001b[A\n",
      " 56%|██████████████████████████████████████████████████████████▌                                             | 9/16 [00:00<00:00, 12.29it/s]\u001b[A\n",
      " 69%|██████████████████████████████████████████████████████████████████████▊                                | 11/16 [00:00<00:00, 12.36it/s]\u001b[A\n",
      " 81%|███████████████████████████████████████████████████████████████████████████████████▋                   | 13/16 [00:01<00:00, 12.62it/s]\u001b[A\n",
      "100%|███████████████████████████████████████████████████████████████████████████████████████████████████████| 16/16 [00:01<00:00, 12.40it/s]\u001b[A\n",
      "\n",
      "  0%|                                                                                                               | 0/122 [00:00<?, ?it/s]\u001b[A\n",
      " 25%|████████████████████████▊                                                                            | 30/122 [00:00<00:00, 291.40it/s]\u001b[A\n",
      " 49%|█████████████████████████████████████████████████▋                                                   | 60/122 [00:00<00:00, 222.14it/s]\u001b[A\n",
      " 70%|███████████████████████████████████████████████████████████████████████▏                             | 86/122 [00:00<00:00, 234.02it/s]\u001b[A\n",
      "100%|████████████████████████████████████████████████████████████████████████████████████████████████████| 122/122 [00:00<00:00, 246.81it/s]\u001b[A"
     ]
    },
    {
     "name": "stdout",
     "output_type": "stream",
     "text": [
      "5/122 \r"
     ]
    },
    {
     "name": "stderr",
     "output_type": "stream",
     "text": [
      "\n"
     ]
    },
    {
     "name": "stdout",
     "output_type": "stream",
     "text": [
      "122/122 \r"
     ]
    },
    {
     "name": "stderr",
     "output_type": "stream",
     "text": [
      "\n",
      "Evaluation:   0%|                                                                                                   | 0/122 [00:00<?, ?it/s]\u001b[A\n",
      "Evaluation:   1%|▋                                                                                          | 1/122 [00:00<00:18,  6.61it/s]\u001b[A\n",
      "Evaluation:   2%|██▏                                                                                        | 3/122 [00:00<00:13,  9.12it/s]\u001b[A\n",
      "Evaluation:   4%|███▋                                                                                       | 5/122 [00:00<00:11,  9.79it/s]\u001b[A\n",
      "Evaluation:   6%|█████▏                                                                                     | 7/122 [00:00<00:11, 10.08it/s]\u001b[A\n",
      "Evaluation:   7%|█████▉                                                                                     | 8/122 [00:00<00:12,  8.89it/s]\u001b[A\n",
      "Evaluation:   8%|███████▍                                                                                  | 10/122 [00:01<00:11,  9.48it/s]\u001b[A\n",
      "Evaluation:  10%|████████▊                                                                                 | 12/122 [00:01<00:11,  9.83it/s]\u001b[A\n",
      "Evaluation:  11%|██████████▎                                                                               | 14/122 [00:01<00:10, 10.06it/s]\u001b[A\n",
      "Evaluation:  13%|███████████▊                                                                              | 16/122 [00:01<00:10, 10.20it/s]\u001b[A\n",
      "Evaluation:  15%|█████████████▎                                                                            | 18/122 [00:01<00:10, 10.30it/s]\u001b[A\n",
      "Evaluation:  16%|██████████████▊                                                                           | 20/122 [00:02<00:09, 10.38it/s]\u001b[A\n",
      "Evaluation:  18%|████████████████▏                                                                         | 22/122 [00:02<00:10,  9.33it/s]\u001b[A\n",
      "Evaluation:  20%|█████████████████▋                                                                        | 24/122 [00:02<00:10,  9.67it/s]\u001b[A\n",
      "Evaluation:  21%|███████████████████▏                                                                      | 26/122 [00:02<00:09,  9.66it/s]\u001b[A\n",
      "Evaluation:  23%|████████████████████▋                                                                     | 28/122 [00:02<00:09,  9.88it/s]\u001b[A\n",
      "Evaluation:  25%|██████████████████████▏                                                                   | 30/122 [00:03<00:09, 10.06it/s]\u001b[A\n",
      "Evaluation:  26%|███████████████████████▌                                                                  | 32/122 [00:03<00:08, 10.20it/s]\u001b[A\n",
      "Evaluation:  28%|█████████████████████████                                                                 | 34/122 [00:03<00:08, 10.29it/s]\u001b[A\n",
      "Evaluation:  30%|██████████████████████████▌                                                               | 36/122 [00:03<00:08, 10.36it/s]\u001b[A\n",
      "Evaluation:  31%|████████████████████████████                                                              | 38/122 [00:03<00:08, 10.40it/s]\u001b[A\n",
      "Evaluation:  33%|█████████████████████████████▌                                                            | 40/122 [00:04<00:07, 10.44it/s]\u001b[A\n",
      "Evaluation:  34%|██████████████████████████████▉                                                           | 42/122 [00:04<00:07, 10.46it/s]\u001b[A\n",
      "Evaluation:  36%|████████████████████████████████▍                                                         | 44/122 [00:04<00:07, 10.47it/s]\u001b[A\n",
      "Evaluation:  38%|█████████████████████████████████▉                                                        | 46/122 [00:04<00:07, 10.49it/s]\u001b[A\n",
      "Evaluation:  39%|███████████████████████████████████▍                                                      | 48/122 [00:04<00:07, 10.50it/s]\u001b[A\n",
      "Evaluation:  41%|████████████████████████████████████▉                                                     | 50/122 [00:04<00:06, 10.50it/s]\u001b[A\n",
      "Evaluation:  43%|██████████████████████████████████████▎                                                   | 52/122 [00:05<00:07,  9.35it/s]\u001b[A\n",
      "Evaluation:  44%|███████████████████████████████████████▊                                                  | 54/122 [00:05<00:07,  9.67it/s]\u001b[A\n",
      "Evaluation:  46%|█████████████████████████████████████████▎                                                | 56/122 [00:05<00:06,  9.87it/s]\u001b[A\n",
      "Evaluation:  48%|██████████████████████████████████████████▊                                               | 58/122 [00:05<00:06, 10.06it/s]\u001b[A\n",
      "Evaluation:  49%|████████████████████████████████████████████▎                                             | 60/122 [00:05<00:06, 10.19it/s]\u001b[A\n",
      "Evaluation:  51%|█████████████████████████████████████████████▋                                            | 62/122 [00:06<00:05, 10.29it/s]\u001b[A\n",
      "Evaluation:  52%|███████████████████████████████████████████████▏                                          | 64/122 [00:06<00:05, 10.36it/s]\u001b[A\n",
      "Evaluation:  54%|████████████████████████████████████████████████▋                                         | 66/122 [00:06<00:05, 10.41it/s]\u001b[A\n",
      "Evaluation:  56%|██████████████████████████████████████████████████▏                                       | 68/122 [00:06<00:05, 10.45it/s]\u001b[A\n",
      "Evaluation:  57%|███████████████████████████████████████████████████▋                                      | 70/122 [00:06<00:04, 10.47it/s]\u001b[A\n",
      "Evaluation:  59%|█████████████████████████████████████████████████████                                     | 72/122 [00:07<00:04, 10.49it/s]\u001b[A\n",
      "Evaluation:  61%|██████████████████████████████████████████████████████▌                                   | 74/122 [00:07<00:04, 10.50it/s]\u001b[A\n",
      "Evaluation:  62%|████████████████████████████████████████████████████████                                  | 76/122 [00:07<00:04, 10.51it/s]\u001b[A\n",
      "Evaluation:  64%|█████████████████████████████████████████████████████████▌                                | 78/122 [00:07<00:04, 10.52it/s]\u001b[A\n",
      "Evaluation:  66%|███████████████████████████████████████████████████████████                               | 80/122 [00:07<00:03, 10.51it/s]\u001b[A\n",
      "Evaluation:  67%|████████████████████████████████████████████████████████████▍                             | 82/122 [00:08<00:03, 10.51it/s]\u001b[A\n",
      "Evaluation:  69%|█████████████████████████████████████████████████████████████▉                            | 84/122 [00:08<00:03, 10.46it/s]\u001b[A\n",
      "Evaluation:  70%|███████████████████████████████████████████████████████████████▍                          | 86/122 [00:08<00:03, 10.48it/s]\u001b[A\n",
      "Evaluation:  72%|████████████████████████████████████████████████████████████████▉                         | 88/122 [00:08<00:03, 10.49it/s]\u001b[A\n",
      "Evaluation:  74%|██████████████████████████████████████████████████████████████████▍                       | 90/122 [00:08<00:03,  9.14it/s]\u001b[A\n",
      "Evaluation:  75%|███████████████████████████████████████████████████████████████████▊                      | 92/122 [00:09<00:03,  9.47it/s]\u001b[A\n",
      "Evaluation:  77%|█████████████████████████████████████████████████████████████████████▎                    | 94/122 [00:09<00:02,  9.73it/s]\u001b[A\n",
      "Evaluation:  79%|██████████████████████████████████████████████████████████████████████▊                   | 96/122 [00:09<00:02,  9.84it/s]\u001b[A\n",
      "Evaluation:  80%|████████████████████████████████████████████████████████████████████████▎                 | 98/122 [00:09<00:02, 10.01it/s]\u001b[A\n",
      "Evaluation:  82%|████████████████████████████████████████████████████████████████████████▉                | 100/122 [00:09<00:02, 10.14it/s]\u001b[A\n",
      "Evaluation:  84%|██████████████████████████████████████████████████████████████████████████▍              | 102/122 [00:10<00:02,  9.98it/s]\u001b[A\n",
      "Evaluation:  85%|███████████████████████████████████████████████████████████████████████████▊             | 104/122 [00:10<00:01, 10.11it/s]\u001b[A\n",
      "Evaluation:  87%|█████████████████████████████████████████████████████████████████████████████▎           | 106/122 [00:10<00:01, 10.21it/s]\u001b[A\n",
      "Evaluation:  89%|██████████████████████████████████████████████████████████████████████████████▊          | 108/122 [00:10<00:01, 10.27it/s]\u001b[A\n",
      "Evaluation:  90%|████████████████████████████████████████████████████████████████████████████████▏        | 110/122 [00:10<00:01, 10.32it/s]\u001b[A\n",
      "Evaluation:  92%|█████████████████████████████████████████████████████████████████████████████████▋       | 112/122 [00:11<00:00, 10.36it/s]\u001b[A\n",
      "Evaluation:  93%|███████████████████████████████████████████████████████████████████████████████████▏     | 114/122 [00:11<00:00, 10.20it/s]\u001b[A\n",
      "Evaluation:  95%|████████████████████████████████████████████████████████████████████████████████████▌    | 116/122 [00:11<00:00, 10.28it/s]\u001b[A\n",
      "Evaluation:  97%|██████████████████████████████████████████████████████████████████████████████████████   | 118/122 [00:11<00:00, 10.33it/s]\u001b[A\n",
      "Evaluation:  98%|███████████████████████████████████████████████████████████████████████████████████████▌ | 120/122 [00:11<00:00, 10.37it/s]\u001b[A\n",
      "Evaluation: 100%|█████████████████████████████████████████████████████████████████████████████████████████| 122/122 [00:12<00:00, 10.12it/s]\u001b[A\n",
      "  0%|                                                                                                | 8/211241 [01:26<762:37:52, 13.00s/it]"
     ]
    },
    {
     "name": "stdout",
     "output_type": "stream",
     "text": [
      "localization Internationalization and localization 1.4189068\n",
      "convolutional neural networks Convolutional neural network 11.727152\n",
      "surveillance Surveillance 8.944212\n",
      "image segmentation Image segmentation 9.103513\n",
      "computer vision Computer vision 11.701094\n",
      "recurrent networks Recurrent neural network 1.5462711\n",
      "image segmentation Image segmentation 9.918952\n",
      "object detection Object detection 11.352297\n",
      "convolutional networks Convolutional neural network 6.4731517\n",
      "rnns Recurrent neural network 2.6745348\n",
      "motion Motion 6.907655\n",
      "object detection Object detection 10.84763\n",
      "cnn CNN 4.0601115\n",
      "rnn Rnn (software) 10.2047205\n",
      "cnn Convolutional neural network 1.7985064\n"
     ]
    },
    {
     "name": "stderr",
     "output_type": "stream",
     "text": [
      "\n",
      "  0%|                                                                                                                | 0/11 [00:00<?, ?it/s]\u001b[A\n",
      " 18%|██████████████████▉                                                                                     | 2/11 [00:00<00:00, 11.02it/s]\u001b[A\n",
      " 36%|█████████████████████████████████████▊                                                                  | 4/11 [00:00<00:00, 11.75it/s]\u001b[A\n",
      " 55%|████████████████████████████████████████████████████████▋                                               | 6/11 [00:00<00:00, 11.95it/s]\u001b[A\n",
      " 73%|███████████████████████████████████████████████████████████████████████████▋                            | 8/11 [00:00<00:00, 11.94it/s]\u001b[A\n",
      "100%|███████████████████████████████████████████████████████████████████████████████████████████████████████| 11/11 [00:00<00:00, 12.53it/s]\u001b[A\n",
      "\n",
      "  0%|                                                                                                                | 0/82 [00:00<?, ?it/s]\u001b[A\n",
      " 29%|█████████████████████████████▊                                                                        | 24/82 [00:00<00:00, 232.96it/s]\u001b[A\n",
      " 59%|███████████████████████████████████████████████████████████▋                                          | 48/82 [00:00<00:00, 193.85it/s]\u001b[A\n",
      "100%|██████████████████████████████████████████████████████████████████████████████████████████████████████| 82/82 [00:00<00:00, 198.53it/s]\u001b[A"
     ]
    },
    {
     "name": "stdout",
     "output_type": "stream",
     "text": [
      "1/82 \r"
     ]
    },
    {
     "name": "stderr",
     "output_type": "stream",
     "text": [
      "\n"
     ]
    },
    {
     "name": "stdout",
     "output_type": "stream",
     "text": [
      "82/82 \r"
     ]
    },
    {
     "name": "stderr",
     "output_type": "stream",
     "text": [
      "\n",
      "Evaluation:   0%|                                                                                                    | 0/82 [00:00<?, ?it/s]\u001b[A\n",
      "Evaluation:   2%|██▏                                                                                         | 2/82 [00:00<00:07, 10.63it/s]\u001b[A\n",
      "Evaluation:   5%|████▍                                                                                       | 4/82 [00:00<00:07, 10.57it/s]\u001b[A\n",
      "Evaluation:   7%|██████▋                                                                                     | 6/82 [00:00<00:07, 10.55it/s]\u001b[A\n",
      "Evaluation:  10%|████████▉                                                                                   | 8/82 [00:00<00:07, 10.53it/s]\u001b[A\n",
      "Evaluation:  12%|███████████                                                                                | 10/82 [00:00<00:06, 10.52it/s]\u001b[A\n",
      "Evaluation:  15%|█████████████▎                                                                             | 12/82 [00:01<00:06, 10.51it/s]\u001b[A\n",
      "Evaluation:  17%|███████████████▌                                                                           | 14/82 [00:01<00:06, 10.52it/s]\u001b[A\n",
      "Evaluation:  20%|█████████████████▊                                                                         | 16/82 [00:01<00:06, 10.51it/s]\u001b[A\n",
      "Evaluation:  22%|███████████████████▉                                                                       | 18/82 [00:01<00:06,  9.21it/s]\u001b[A\n",
      "Evaluation:  24%|██████████████████████▏                                                                    | 20/82 [00:01<00:06,  9.56it/s]\u001b[A\n",
      "Evaluation:  27%|████████████████████████▍                                                                  | 22/82 [00:02<00:06,  9.83it/s]\u001b[A\n",
      "Evaluation:  29%|██████████████████████████▋                                                                | 24/82 [00:02<00:05, 10.02it/s]\u001b[A\n",
      "Evaluation:  32%|████████████████████████████▊                                                              | 26/82 [00:02<00:05, 10.17it/s]\u001b[A\n",
      "Evaluation:  34%|███████████████████████████████                                                            | 28/82 [00:02<00:05, 10.27it/s]\u001b[A\n",
      "Evaluation:  37%|█████████████████████████████████▎                                                         | 30/82 [00:02<00:05, 10.18it/s]\u001b[A\n",
      "Evaluation:  39%|███████████████████████████████████▌                                                       | 32/82 [00:03<00:04, 10.27it/s]\u001b[A\n",
      "Evaluation:  41%|█████████████████████████████████████▋                                                     | 34/82 [00:03<00:05,  9.36it/s]\u001b[A\n",
      "Evaluation:  44%|███████████████████████████████████████▉                                                   | 36/82 [00:03<00:04,  9.68it/s]\u001b[A\n",
      "Evaluation:  46%|██████████████████████████████████████████▏                                                | 38/82 [00:03<00:04,  9.91it/s]\u001b[A\n",
      "Evaluation:  49%|████████████████████████████████████████████▍                                              | 40/82 [00:03<00:04, 10.09it/s]\u001b[A\n",
      "Evaluation:  51%|██████████████████████████████████████████████▌                                            | 42/82 [00:04<00:03, 10.22it/s]\u001b[A\n",
      "Evaluation:  54%|████████████████████████████████████████████████▊                                          | 44/82 [00:04<00:03, 10.30it/s]\u001b[A\n",
      "Evaluation:  56%|███████████████████████████████████████████████████                                        | 46/82 [00:04<00:03, 10.37it/s]\u001b[A\n",
      "Evaluation:  59%|█████████████████████████████████████████████████████▎                                     | 48/82 [00:04<00:03, 10.41it/s]\u001b[A\n",
      "Evaluation:  61%|███████████████████████████████████████████████████████▍                                   | 50/82 [00:04<00:03, 10.44it/s]\u001b[A\n",
      "Evaluation:  63%|█████████████████████████████████████████████████████████▋                                 | 52/82 [00:05<00:02, 10.46it/s]\u001b[A\n",
      "Evaluation:  66%|███████████████████████████████████████████████████████████▉                               | 54/82 [00:05<00:02, 10.49it/s]\u001b[A\n",
      "Evaluation:  68%|██████████████████████████████████████████████████████████████▏                            | 56/82 [00:05<00:02, 10.49it/s]\u001b[A\n",
      "Evaluation:  71%|████████████████████████████████████████████████████████████████▎                          | 58/82 [00:05<00:02, 10.50it/s]\u001b[A\n",
      "Evaluation:  73%|██████████████████████████████████████████████████████████████████▌                        | 60/82 [00:05<00:02,  9.27it/s]\u001b[A\n",
      "Evaluation:  76%|████████████████████████████████████████████████████████████████████▊                      | 62/82 [00:06<00:02,  9.60it/s]\u001b[A\n",
      "Evaluation:  78%|███████████████████████████████████████████████████████████████████████                    | 64/82 [00:06<00:01,  9.85it/s]\u001b[A\n",
      "Evaluation:  80%|█████████████████████████████████████████████████████████████████████████▏                 | 66/82 [00:06<00:01, 10.04it/s]\u001b[A\n",
      "Evaluation:  83%|███████████████████████████████████████████████████████████████████████████▍               | 68/82 [00:06<00:01, 10.17it/s]\u001b[A\n",
      "Evaluation:  85%|█████████████████████████████████████████████████████████████████████████████▋             | 70/82 [00:06<00:01, 10.27it/s]\u001b[A\n",
      "Evaluation:  88%|███████████████████████████████████████████████████████████████████████████████▉           | 72/82 [00:07<00:01,  9.70it/s]\u001b[A\n",
      "Evaluation:  90%|██████████████████████████████████████████████████████████████████████████████████         | 74/82 [00:07<00:00,  9.93it/s]\u001b[A\n",
      "Evaluation:  93%|████████████████████████████████████████████████████████████████████████████████████▎      | 76/82 [00:07<00:00,  9.87it/s]\u001b[A\n",
      "Evaluation:  94%|█████████████████████████████████████████████████████████████████████████████████████▍     | 77/82 [00:07<00:00,  9.88it/s]\u001b[A\n",
      "Evaluation:  95%|██████████████████████████████████████████████████████████████████████████████████████▌    | 78/82 [00:07<00:00,  9.87it/s]\u001b[A\n",
      "Evaluation:  98%|████████████████████████████████████████████████████████████████████████████████████████▊  | 80/82 [00:07<00:00, 10.00it/s]\u001b[A\n",
      "Evaluation: 100%|███████████████████████████████████████████████████████████████████████████████████████████| 82/82 [00:08<00:00, 10.09it/s]\u001b[A\n",
      "  0%|                                                                                                | 9/211241 [01:39<768:37:59, 13.10s/it]"
     ]
    },
    {
     "name": "stdout",
     "output_type": "stream",
     "text": [
      "end - to - end delay End-to-end delay 10.145749\n",
      "snr Signal-to-noise ratio 9.148121\n",
      "csi Channel state information 10.836093\n",
      "harq Hybrid automatic repeat request 9.428317\n",
      "qos Quality of service 9.248189\n",
      "acknowledgement Acknowledgement (data networks) 9.452975\n",
      "harq Hybrid automatic repeat request 9.126051\n",
      "throughput Throughput 11.407662\n",
      "throughput Throughput 11.407662\n",
      "voice over ip Voice over IP 12.372759\n",
      "outage probability Outage probability 10.459365\n",
      "quality Quality of service 1.2915658\n",
      "harq protocols Hybrid automatic repeat request 4.61341\n",
      "smartphones Smartphone 11.422945\n",
      "harq protocols Hybrid automatic repeat request 2.7387462\n",
      "quality Quality of service 1.2915658\n",
      "performance Performance 0.12843382\n",
      "voice over ip Voice over IP 11.929141\n",
      "type - i harq Hybrid automatic repeat request 0.029342692\n",
      "harq Hybrid automatic repeat request 9.532316\n",
      "harq protocols Hybrid automatic repeat request 3.9643676\n",
      "channel state information Channel state information 12.525851\n",
      "outage probability Outage probability 9.804946\n",
      "outage probability Outage probability 9.804946\n",
      "harq protocols Hybrid automatic repeat request 4.4742312\n",
      "outage probability Outage probability 9.033427\n",
      "harq Hybrid automatic repeat request 9.274834\n"
     ]
    },
    {
     "name": "stderr",
     "output_type": "stream",
     "text": [
      "\n",
      "  0%|                                                                                                                 | 0/8 [00:00<?, ?it/s]\u001b[A\n",
      " 25%|██████████████████████████▎                                                                              | 2/8 [00:00<00:00, 13.07it/s]\u001b[A\n",
      " 50%|████████████████████████████████████████████████████▌                                                    | 4/8 [00:00<00:00, 12.73it/s]\u001b[A\n",
      " 75%|██████████████████████████████████████████████████████████████████████████████▊                          | 6/8 [00:00<00:00, 12.55it/s]\u001b[A\n",
      "100%|█████████████████████████████████████████████████████████████████████████████████████████████████████████| 8/8 [00:00<00:00, 12.82it/s]\u001b[A\n",
      "\n",
      "  0%|                                                                                                                | 0/61 [00:00<?, ?it/s]\u001b[A\n",
      " 46%|██████████████████████████████████████████████▊                                                       | 28/61 [00:00<00:00, 277.41it/s]\u001b[A\n",
      "100%|██████████████████████████████████████████████████████████████████████████████████████████████████████| 61/61 [00:00<00:00, 254.91it/s]\u001b[A"
     ]
    },
    {
     "name": "stdout",
     "output_type": "stream",
     "text": [
      "4/61 \r"
     ]
    },
    {
     "name": "stderr",
     "output_type": "stream",
     "text": [
      "\n"
     ]
    },
    {
     "name": "stdout",
     "output_type": "stream",
     "text": [
      "61/61 \r"
     ]
    },
    {
     "name": "stderr",
     "output_type": "stream",
     "text": [
      "\n",
      "Evaluation:   0%|                                                                                                    | 0/61 [00:00<?, ?it/s]\u001b[A\n",
      "Evaluation:   3%|███                                                                                         | 2/61 [00:00<00:05, 10.64it/s]\u001b[A\n",
      "Evaluation:   7%|██████                                                                                      | 4/61 [00:00<00:05, 10.59it/s]\u001b[A\n",
      "Evaluation:  10%|█████████                                                                                   | 6/61 [00:00<00:05, 10.56it/s]\u001b[A\n",
      "Evaluation:  13%|████████████                                                                                | 8/61 [00:00<00:05, 10.55it/s]\u001b[A\n",
      "Evaluation:  16%|██████████████▉                                                                            | 10/61 [00:00<00:04, 10.54it/s]\u001b[A\n",
      "Evaluation:  20%|█████████████████▉                                                                         | 12/61 [00:01<00:04, 10.54it/s]\u001b[A\n",
      "Evaluation:  23%|████████████████████▉                                                                      | 14/61 [00:01<00:04, 10.52it/s]\u001b[A\n",
      "Evaluation:  26%|███████████████████████▊                                                                   | 16/61 [00:01<00:04, 10.51it/s]\u001b[A\n",
      "Evaluation:  30%|██████████████████████████▊                                                                | 18/61 [00:01<00:04, 10.52it/s]\u001b[A\n",
      "Evaluation:  33%|█████████████████████████████▊                                                             | 20/61 [00:01<00:03, 10.51it/s]\u001b[A\n",
      "Evaluation:  36%|████████████████████████████████▊                                                          | 22/61 [00:02<00:03, 10.52it/s]\u001b[A\n",
      "Evaluation:  39%|███████████████████████████████████▊                                                       | 24/61 [00:02<00:03, 10.30it/s]\u001b[A\n",
      "Evaluation:  43%|██████████████████████████████████████▊                                                    | 26/61 [00:02<00:03, 10.24it/s]\u001b[A\n",
      "Evaluation:  46%|█████████████████████████████████████████▊                                                 | 28/61 [00:02<00:03, 10.32it/s]\u001b[A\n",
      "Evaluation:  49%|████████████████████████████████████████████▊                                              | 30/61 [00:02<00:02, 10.37it/s]\u001b[A\n",
      "Evaluation:  52%|███████████████████████████████████████████████▋                                           | 32/61 [00:03<00:02, 10.32it/s]\u001b[A\n",
      "Evaluation:  56%|██████████████████████████████████████████████████▋                                        | 34/61 [00:03<00:02, 10.14it/s]\u001b[A\n",
      "Evaluation:  59%|█████████████████████████████████████████████████████▋                                     | 36/61 [00:03<00:02, 10.18it/s]\u001b[A\n",
      "Evaluation:  62%|████████████████████████████████████████████████████████▋                                  | 38/61 [00:03<00:02, 10.17it/s]\u001b[A\n",
      "Evaluation:  66%|███████████████████████████████████████████████████████████▋                               | 40/61 [00:03<00:02, 10.14it/s]\u001b[A\n",
      "Evaluation:  69%|██████████████████████████████████████████████████████████████▋                            | 42/61 [00:04<00:01,  9.87it/s]\u001b[A\n",
      "Evaluation:  70%|████████████████████████████████████████████████████████████████▏                          | 43/61 [00:04<00:01,  9.79it/s]\u001b[A\n",
      "Evaluation:  72%|█████████████████████████████████████████████████████████████████▋                         | 44/61 [00:04<00:01,  9.67it/s]\u001b[A\n",
      "Evaluation:  74%|███████████████████████████████████████████████████████████████████▏                       | 45/61 [00:04<00:01,  9.53it/s]\u001b[A\n",
      "Evaluation:  75%|████████████████████████████████████████████████████████████████████▌                      | 46/61 [00:04<00:01,  9.44it/s]\u001b[A\n",
      "Evaluation:  77%|██████████████████████████████████████████████████████████████████████                     | 47/61 [00:04<00:01,  9.45it/s]\u001b[A\n",
      "Evaluation:  79%|███████████████████████████████████████████████████████████████████████▌                   | 48/61 [00:04<00:01,  9.41it/s]\u001b[A\n",
      "Evaluation:  80%|█████████████████████████████████████████████████████████████████████████                  | 49/61 [00:04<00:01,  9.42it/s]\u001b[A\n",
      "Evaluation:  82%|██████████████████████████████████████████████████████████████████████████▌                | 50/61 [00:04<00:01,  9.43it/s]\u001b[A\n",
      "Evaluation:  84%|████████████████████████████████████████████████████████████████████████████               | 51/61 [00:05<00:01,  9.44it/s]\u001b[A\n",
      "Evaluation:  85%|█████████████████████████████████████████████████████████████████████████████▌             | 52/61 [00:05<00:00,  9.44it/s]\u001b[A\n",
      "Evaluation:  87%|███████████████████████████████████████████████████████████████████████████████            | 53/61 [00:05<00:00,  9.45it/s]\u001b[A\n",
      "Evaluation:  89%|████████████████████████████████████████████████████████████████████████████████▌          | 54/61 [00:05<00:00,  9.45it/s]\u001b[A\n",
      "Evaluation:  90%|██████████████████████████████████████████████████████████████████████████████████         | 55/61 [00:05<00:00,  9.47it/s]\u001b[A\n",
      "Evaluation:  92%|███████████████████████████████████████████████████████████████████████████████████▌       | 56/61 [00:05<00:00,  9.47it/s]\u001b[A\n",
      "Evaluation:  93%|█████████████████████████████████████████████████████████████████████████████████████      | 57/61 [00:05<00:00,  9.46it/s]\u001b[A\n",
      "Evaluation:  95%|██████████████████████████████████████████████████████████████████████████████████████▌    | 58/61 [00:05<00:00,  9.47it/s]\u001b[A\n",
      "Evaluation:  97%|████████████████████████████████████████████████████████████████████████████████████████   | 59/61 [00:05<00:00,  9.47it/s]\u001b[A\n",
      "Evaluation:  98%|█████████████████████████████████████████████████████████████████████████████████████████▌ | 60/61 [00:05<00:00,  9.48it/s]\u001b[A\n",
      "Evaluation: 100%|███████████████████████████████████████████████████████████████████████████████████████████| 61/61 [00:06<00:00, 10.00it/s]\u001b[A\n",
      "  0%|                                                                                               | 10/211241 [01:50<719:57:54, 12.27s/it]"
     ]
    },
    {
     "name": "stdout",
     "output_type": "stream",
     "text": [
      "division algebras Division algebra 0.07310968\n",
      "spectral efficiency Spectral efficiency 10.687772\n",
      "division algebras Division algebra 0.3143161\n",
      "spectral efficiency Spectral efficiency 10.687772\n",
      "mc - cdma Multi-carrier code-division multiple access 9.864821\n",
      "minimum mean square error Minimum mean square error 10.695292\n",
      "m ultiple - input multiple - output MIMO 5.8448567\n",
      "data rates Bit rate 6.5784163\n",
      "multiuser detection Multiuser detection 11.886761\n",
      "hopfield neural network Hopfield network 6.0124483\n",
      "cdma Code-division multiple access 6.61821\n",
      "image restoration Image restoration 9.548999\n",
      "spectral efficiency Spectral efficiency 10.687772\n",
      "antennas Antenna (radio) 6.7620044\n",
      "ieee 802.11n IEEE 802.11n-2009 9.893772\n"
     ]
    },
    {
     "name": "stderr",
     "output_type": "stream",
     "text": [
      "\n",
      "  0%|                                                                                                                 | 0/9 [00:00<?, ?it/s]\u001b[A\n",
      " 22%|███████████████████████▎                                                                                 | 2/9 [00:00<00:00, 10.91it/s]\u001b[A\n",
      " 44%|██████████████████████████████████████████████▋                                                          | 4/9 [00:00<00:00, 10.84it/s]\u001b[A\n",
      " 67%|██████████████████████████████████████████████████████████████████████                                   | 6/9 [00:00<00:00, 11.26it/s]\u001b[A\n",
      "100%|█████████████████████████████████████████████████████████████████████████████████████████████████████████| 9/9 [00:00<00:00, 11.89it/s]\u001b[A\n",
      "\n",
      "  0%|                                                                                                                | 0/65 [00:00<?, ?it/s]\u001b[A\n",
      " 35%|████████████████████████████████████                                                                  | 23/65 [00:00<00:00, 218.80it/s]\u001b[A\n",
      "100%|██████████████████████████████████████████████████████████████████████████████████████████████████████| 65/65 [00:00<00:00, 218.87it/s]\u001b[A\n"
     ]
    },
    {
     "name": "stdout",
     "output_type": "stream",
     "text": [
      "65/65 \r"
     ]
    },
    {
     "name": "stderr",
     "output_type": "stream",
     "text": [
      "\n",
      "Evaluation:   0%|                                                                                                    | 0/65 [00:00<?, ?it/s]\u001b[A\n",
      "Evaluation:   2%|█▍                                                                                          | 1/65 [00:00<00:07,  8.02it/s]\u001b[A\n",
      "Evaluation:   5%|████▏                                                                                       | 3/65 [00:00<00:07,  8.22it/s]\u001b[A\n",
      "Evaluation:   8%|███████                                                                                     | 5/65 [00:00<00:06,  9.27it/s]\u001b[A\n",
      "Evaluation:  11%|█████████▉                                                                                  | 7/65 [00:00<00:05,  9.77it/s]\u001b[A\n",
      "Evaluation:  14%|████████████▋                                                                               | 9/65 [00:00<00:05, 10.05it/s]\u001b[A\n",
      "Evaluation:  17%|███████████████▍                                                                           | 11/65 [00:01<00:05, 10.21it/s]\u001b[A\n",
      "Evaluation:  20%|██████████████████▏                                                                        | 13/65 [00:01<00:05, 10.32it/s]\u001b[A\n",
      "Evaluation:  23%|█████████████████████                                                                      | 15/65 [00:01<00:04, 10.09it/s]\u001b[A\n",
      "Evaluation:  26%|███████████████████████▊                                                                   | 17/65 [00:01<00:04, 10.19it/s]\u001b[A\n",
      "Evaluation:  29%|██████████████████████████▌                                                                | 19/65 [00:01<00:04,  9.85it/s]\u001b[A\n",
      "Evaluation:  31%|████████████████████████████                                                               | 20/65 [00:02<00:04,  9.85it/s]\u001b[A\n",
      "Evaluation:  32%|█████████████████████████████▍                                                             | 21/65 [00:02<00:05,  8.48it/s]\u001b[A\n",
      "Evaluation:  34%|██████████████████████████████▊                                                            | 22/65 [00:02<00:04,  8.76it/s]\u001b[A\n",
      "Evaluation:  35%|████████████████████████████████▏                                                          | 23/65 [00:02<00:04,  8.94it/s]\u001b[A\n",
      "Evaluation:  37%|█████████████████████████████████▌                                                         | 24/65 [00:02<00:04,  9.17it/s]\u001b[A\n",
      "Evaluation:  38%|███████████████████████████████████                                                        | 25/65 [00:02<00:04,  9.17it/s]\u001b[A\n",
      "Evaluation:  40%|████████████████████████████████████▍                                                      | 26/65 [00:02<00:04,  9.25it/s]\u001b[A\n",
      "Evaluation:  42%|█████████████████████████████████████▊                                                     | 27/65 [00:02<00:04,  9.37it/s]\u001b[A\n",
      "Evaluation:  43%|███████████████████████████████████████▏                                                   | 28/65 [00:02<00:03,  9.47it/s]\u001b[A\n",
      "Evaluation:  45%|████████████████████████████████████████▌                                                  | 29/65 [00:03<00:03,  9.54it/s]\u001b[A\n",
      "Evaluation:  46%|██████████████████████████████████████████                                                 | 30/65 [00:03<00:03,  9.60it/s]\u001b[A\n",
      "Evaluation:  48%|███████████████████████████████████████████▍                                               | 31/65 [00:03<00:03,  9.64it/s]\u001b[A\n",
      "Evaluation:  49%|████████████████████████████████████████████▊                                              | 32/65 [00:03<00:03,  9.66it/s]\u001b[A\n",
      "Evaluation:  51%|██████████████████████████████████████████████▏                                            | 33/65 [00:03<00:03,  9.63it/s]\u001b[A\n",
      "Evaluation:  52%|███████████████████████████████████████████████▌                                           | 34/65 [00:03<00:03,  9.67it/s]\u001b[A\n",
      "Evaluation:  54%|█████████████████████████████████████████████████                                          | 35/65 [00:03<00:03,  9.57it/s]\u001b[A\n",
      "Evaluation:  55%|██████████████████████████████████████████████████▍                                        | 36/65 [00:03<00:03,  9.41it/s]\u001b[A\n",
      "Evaluation:  57%|███████████████████████████████████████████████████▊                                       | 37/65 [00:03<00:02,  9.48it/s]\u001b[A\n",
      "Evaluation:  58%|█████████████████████████████████████████████████████▏                                     | 38/65 [00:03<00:02,  9.51it/s]\u001b[A\n",
      "Evaluation:  60%|██████████████████████████████████████████████████████▌                                    | 39/65 [00:04<00:02,  9.32it/s]\u001b[A\n",
      "Evaluation:  62%|████████████████████████████████████████████████████████                                   | 40/65 [00:04<00:02,  9.38it/s]\u001b[A\n",
      "Evaluation:  63%|█████████████████████████████████████████████████████████▍                                 | 41/65 [00:04<00:02,  9.19it/s]\u001b[A\n",
      "Evaluation:  65%|██████████████████████████████████████████████████████████▊                                | 42/65 [00:04<00:02,  9.32it/s]\u001b[A\n",
      "Evaluation:  66%|████████████████████████████████████████████████████████████▏                              | 43/65 [00:04<00:02,  9.30it/s]\u001b[A\n",
      "Evaluation:  68%|█████████████████████████████████████████████████████████████▌                             | 44/65 [00:04<00:02,  9.40it/s]\u001b[A\n",
      "Evaluation:  69%|███████████████████████████████████████████████████████████████                            | 45/65 [00:04<00:02,  9.35it/s]\u001b[A\n",
      "Evaluation:  71%|████████████████████████████████████████████████████████████████▍                          | 46/65 [00:04<00:02,  9.43it/s]\u001b[A\n",
      "Evaluation:  72%|█████████████████████████████████████████████████████████████████▊                         | 47/65 [00:04<00:01,  9.45it/s]\u001b[A\n",
      "Evaluation:  74%|███████████████████████████████████████████████████████████████████▏                       | 48/65 [00:05<00:01,  9.37it/s]\u001b[A\n",
      "Evaluation:  75%|████████████████████████████████████████████████████████████████████▌                      | 49/65 [00:05<00:01,  9.33it/s]\u001b[A\n",
      "Evaluation:  77%|██████████████████████████████████████████████████████████████████████                     | 50/65 [00:05<00:01,  9.30it/s]\u001b[A\n",
      "Evaluation:  78%|███████████████████████████████████████████████████████████████████████▍                   | 51/65 [00:05<00:01,  9.31it/s]\u001b[A\n",
      "Evaluation:  80%|████████████████████████████████████████████████████████████████████████▊                  | 52/65 [00:05<00:01,  9.31it/s]\u001b[A\n",
      "Evaluation:  82%|██████████████████████████████████████████████████████████████████████████▏                | 53/65 [00:05<00:01,  9.32it/s]\u001b[A\n",
      "Evaluation:  83%|███████████████████████████████████████████████████████████████████████████▌               | 54/65 [00:05<00:01,  9.22it/s]\u001b[A\n",
      "Evaluation:  85%|█████████████████████████████████████████████████████████████████████████████              | 55/65 [00:05<00:01,  9.32it/s]\u001b[A\n",
      "Evaluation:  86%|██████████████████████████████████████████████████████████████████████████████▍            | 56/65 [00:06<00:01,  7.43it/s]\u001b[A\n",
      "Evaluation:  88%|███████████████████████████████████████████████████████████████████████████████▊           | 57/65 [00:06<00:01,  7.73it/s]\u001b[A\n",
      "Evaluation:  89%|█████████████████████████████████████████████████████████████████████████████████▏         | 58/65 [00:06<00:00,  7.97it/s]\u001b[A\n",
      "Evaluation:  91%|██████████████████████████████████████████████████████████████████████████████████▌        | 59/65 [00:06<00:00,  8.07it/s]\u001b[A\n",
      "Evaluation:  92%|████████████████████████████████████████████████████████████████████████████████████       | 60/65 [00:06<00:00,  8.13it/s]\u001b[A\n",
      "Evaluation:  94%|█████████████████████████████████████████████████████████████████████████████████████▍     | 61/65 [00:06<00:00,  8.17it/s]\u001b[A\n",
      "Evaluation:  95%|██████████████████████████████████████████████████████████████████████████████████████▊    | 62/65 [00:06<00:00,  8.18it/s]\u001b[A\n",
      "Evaluation:  97%|████████████████████████████████████████████████████████████████████████████████████████▏  | 63/65 [00:06<00:00,  8.23it/s]\u001b[A\n",
      "Evaluation:  98%|█████████████████████████████████████████████████████████████████████████████████████████▌ | 64/65 [00:06<00:00,  8.17it/s]\u001b[A\n",
      "Evaluation: 100%|███████████████████████████████████████████████████████████████████████████████████████████| 65/65 [00:07<00:00,  9.16it/s]\u001b[A\n",
      "  0%|                                                                                               | 10/211241 [02:02<716:12:05, 12.21s/it]"
     ]
    },
    {
     "name": "stdout",
     "output_type": "stream",
     "text": [
      "neural networks Neural network 4.120176\n",
      "encoder Encoder 8.472188\n",
      "generative adversarial networks Generative adversarial network 10.641603\n",
      "social networks Social network 6.4440527\n",
      "generative adversarial network - based methods Generative adversarial network 5.612352\n",
      "encoder Encoder 7.651771\n",
      "effectiveness Effectiveness 5.438431\n",
      "word embeddings Word embedding 5.9347057\n",
      "part - of - speech Part of speech 11.306923\n",
      "support vector machine Support-vector machine 12.368055\n",
      "logistic regression Logistic regression 11.527652\n",
      "random forest Random forest 10.39833\n",
      "classifier Classifier (linguistics) 1.8419323\n",
      "deep learning based methods Deep learning 1.63243\n",
      "performance Performance 1.8687394\n",
      "deep learning based methods Deep learning 1.63243\n",
      "generative approach Generative model 0.04395907\n",
      "performance Performance 1.8687394\n",
      "fever Fever 0.14037563\n",
      "textual entailment Textual entailment 9.415311\n",
      "effectiveness Effectiveness 7.01189\n",
      "122.05610013008118\n"
     ]
    },
    {
     "name": "stderr",
     "output_type": "stream",
     "text": [
      "\n"
     ]
    }
   ],
   "source": [
    "triple_files = glob2.glob(f\"{triples_dir}/*.json\")\n",
    "pbar = tqdm(triple_files)\n",
    "start = time.time()\n",
    "for counter, triple_file in enumerate(pbar):\n",
    "    head, tail = os.path.split(triple_file)\n",
    "    with open(triple_file) as file_handler:\n",
    "        triple_file_dict = json.load(file_handler)\n",
    "    prepare_data_to_link(triple_file_dict, tail)\n",
    "    if counter == 10:\n",
    "        break\n",
    "end = time.time()\n",
    "print(end - start)"
   ]
  },
  {
   "cell_type": "code",
   "execution_count": 26,
   "id": "2257559b",
   "metadata": {},
   "outputs": [],
   "source": [
    "import pickle, json"
   ]
  },
  {
   "cell_type": "code",
   "execution_count": 27,
   "id": "8ca2cf26",
   "metadata": {},
   "outputs": [],
   "source": [
    "file = open(\"/home/ext.packetwerk.com/saeed.torabzadeh/Projects/BLINK/blink/find_overlap_results.pckl\",'rb')\n",
    "object_file = pickle.load(file)"
   ]
  },
  {
   "cell_type": "code",
   "execution_count": 28,
   "id": "66dfe817",
   "metadata": {},
   "outputs": [],
   "source": [
    "file = open(\"/home/ext.packetwerk.com/saeed.torabzadeh/Projects/BLINK/blink/myKB.jsonl\")\n",
    "entity_list = []\n",
    "for line in file:\n",
    "    line_dict = json.loads(line)\n",
    "    entity_list.append(line_dict)"
   ]
  },
  {
   "cell_type": "code",
   "execution_count": 25,
   "id": "6ed5991b",
   "metadata": {},
   "outputs": [],
   "source": [
    "similarity_sorted = sorted(similarity, key=lambda i: i[2], reverse=True)"
   ]
  },
  {
   "cell_type": "code",
   "execution_count": 32,
   "id": "cba3ec0f",
   "metadata": {},
   "outputs": [
    {
     "data": {
      "text/plain": [
       "' The learning rate or \"step size\" in machine learning is a hyperparameter which determines to what extent newly acquired information overrides old information. The learning rate is often denoted by the character η or α. A too high learning rate will make the learning jump over minima but a too low learning rate will either take too long to converge or get stuck in an undesirable local minima. Constant learning rates are always smaller than 1 as otherwise the learning will not converge and typically take on values ranging from 0.0001 to 0.4 but this is highly dependent upon the problem at hand. In order to achieve faster convergence, prevent oscillations and getting stuck in undesirable local minima the learning rate is often varied during training either in accordance to a learning rate schedule or by using an adaptive learning rate. '"
      ]
     },
     "execution_count": 32,
     "metadata": {},
     "output_type": "execute_result"
    }
   ],
   "source": [
    "object_file[0]['Learning rate']"
   ]
  },
  {
   "cell_type": "code",
   "execution_count": null,
   "id": "98f5e234",
   "metadata": {},
   "outputs": [],
   "source": []
  }
 ],
 "metadata": {
  "kernelspec": {
   "display_name": "Python 3 (ipykernel)",
   "language": "python",
   "name": "python3"
  },
  "language_info": {
   "codemirror_mode": {
    "name": "ipython",
    "version": 3
   },
   "file_extension": ".py",
   "mimetype": "text/x-python",
   "name": "python",
   "nbconvert_exporter": "python",
   "pygments_lexer": "ipython3",
   "version": "3.8.12"
  }
 },
 "nbformat": 4,
 "nbformat_minor": 5
}
