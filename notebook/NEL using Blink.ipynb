{
 "cells": [
  {
   "cell_type": "code",
   "execution_count": 1,
   "id": "320c3c9a",
   "metadata": {},
   "outputs": [],
   "source": [
    "import os, json, glob2, pickle\n",
    "from tqdm import tqdm "
   ]
  },
  {
   "cell_type": "code",
   "execution_count": 2,
   "id": "3d60683d",
   "metadata": {},
   "outputs": [],
   "source": [
    "base_dir = \"/mnt/BIG-HDD-STORAGE/ebi/arxiv/processed\"\n",
    "triples_dir = f\"{base_dir}/triples\"\n",
    "aug_triples_dir = f\"{base_dir}/aug_triples_blink\""
   ]
  },
  {
   "cell_type": "code",
   "execution_count": 7,
   "id": "eb362419",
   "metadata": {},
   "outputs": [],
   "source": [
    "for counter, item in enumerate(entity_list):\n",
    "    data_to_link.append({\n",
    "                            'id': counter,\n",
    "                            'label': 'unknown',\n",
    "                            'label_id': -1,\n",
    "                            'context_left': '', \n",
    "                            'mention': item['title'].lower(), \n",
    "                            'context_right': item['text'].lower(), \n",
    "                        })\n",
    "_, _, _, _, _, predictions, scores, = main_dense.run(args, None, *models, test_data=data_to_link)"
   ]
  },
  {
   "cell_type": "code",
   "execution_count": 8,
   "id": "68777e29",
   "metadata": {},
   "outputs": [],
   "source": [
    "def process_triple(triple_file_dict):\n",
    "    data_to_link = []\n",
    "    for sub_section_index, sub_section in enumerate(triple_file_dict):\n",
    "        if \"entities_info\" in sub_section:\n",
    "            for entity_info in sub_section[\"entities_info\"]:\n",
    "                if entity_info[\"type\"] not in [\"Reference\", \"Code\", \"Number\", \"Ost\"]:\n",
    "                    bounds = sorted(entity_info[\"bounds\"], key=lambda item: item[1] - item[0], reverse=True)\n",
    "                    proper_bound = None\n",
    "                    for bound in bounds:\n",
    "                        if ((bound[1] - bound[0]) < 32):\n",
    "                            proper_bound = bound\n",
    "                            break\n",
    "                    if(proper_bound):\n",
    "                        left_context = ' '.join(entity_info[\"tokens\"][:proper_bound[0]])\n",
    "                        mention = ' '.join(entity_info[\"tokens\"][proper_bound[0]: proper_bound[1]])\n",
    "                        right_context = ' '.join(entity_info[\"tokens\"][proper_bound[1]:])\n",
    "                        data_to_link.append({\n",
    "                            'id': f'{sub_section_index}-{entity_info[\"key\"]}',\n",
    "                            'label': 'unknown',\n",
    "                            'label_id': -1,\n",
    "                            'context_left': left_context.lower(), \n",
    "                            'mention': mention.lower(), \n",
    "                            'context_right': right_context.lower(),\n",
    "                        })\n",
    "    return data_to_link"
   ]
  },
  {
   "cell_type": "code",
   "execution_count": null,
   "id": "decb5e14",
   "metadata": {},
   "outputs": [],
   "source": [
    "def augment_triple(triple_file_dict, nel_result, data_to_link):\n",
    "    for sub_section_index, sub_section in enumerate(triple_file_dict):\n",
    "        if \"entities_info\" in sub_section:\n",
    "            for entity_info in sub_section[\"entities_info\"]:\n",
    "                entity_id = f'{sub_section_index}-{entity_info[\"key\"]}',\n",
    "                found_indexes = [i for i in range(len(data_to_link)) if data_to_link['id'] == entity_id]\n",
    "                if (len(found_indexes) > 0):\n",
    "                    found_index = found_indexes[0]\n",
    "                    if (nel_result['scores'][found_index][0] > 0):\n",
    "                        entity_info['entity_id'] = nel_result['predictions'][found_index][0]\n",
    "    return triple_file_dict\n",
    "                        \n",
    "                        "
   ]
  },
  {
   "cell_type": "code",
   "execution_count": null,
   "id": "bc949c57",
   "metadata": {},
   "outputs": [],
   "source": [
    "triple_files = glob2.glob(f\"{triples_dir}/*.json\")\n",
    "pbar = tqdm(triple_files)\n",
    "for triple_file in pbar:\n",
    "    head, tail = os.path.split(triple_file)\n",
    "    triple_file_dict = json.load(open(triple_file))\n",
    "    data_to_link = process_triple(triple_file_dict)\n",
    "    nel_result = blink_nel(data_to_link‍)\n",
    "    aug_triple_file_dict = augment_triple(triple_file_dict, nel_result, data_to_link)\n",
    "    save_dir = os.path.join(aug_triples_dir, tail)\n",
    "    with open(save_dir, 'w') as f_handler:\n",
    "        json.dump(aug_triple_file_dict, f_handler)\n",
    "        "
   ]
  }
 ],
 "metadata": {
  "kernelspec": {
   "display_name": "Python 3 (ipykernel)",
   "language": "python",
   "name": "python3"
  },
  "language_info": {
   "codemirror_mode": {
    "name": "ipython",
    "version": 3
   },
   "file_extension": ".py",
   "mimetype": "text/x-python",
   "name": "python",
   "nbconvert_exporter": "python",
   "pygments_lexer": "ipython3",
   "version": "3.8.12"
  }
 },
 "nbformat": 4,
 "nbformat_minor": 5
}
